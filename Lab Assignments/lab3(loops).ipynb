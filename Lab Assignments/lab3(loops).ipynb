{
  "nbformat": 4,
  "nbformat_minor": 0,
  "metadata": {
    "colab": {
      "provenance": [],
      "authorship_tag": "ABX9TyOFAqSff22RLz3FeoO0Fi6e",
      "include_colab_link": true
    },
    "kernelspec": {
      "name": "python3",
      "display_name": "Python 3"
    },
    "language_info": {
      "name": "python"
    }
  },
  "cells": [
    {
      "cell_type": "markdown",
      "metadata": {
        "id": "view-in-github",
        "colab_type": "text"
      },
      "source": [
        "<a href=\"https://colab.research.google.com/github/rafitboo/Introduction-to-python/blob/main/Lab%20Assignmennts/lab3(loops).ipynb\" target=\"_parent\"><img src=\"https://colab.research.google.com/assets/colab-badge.svg\" alt=\"Open In Colab\"/></a>"
      ]
    },
    {
      "cell_type": "code",
      "execution_count": null,
      "metadata": {
        "colab": {
          "base_uri": "https://localhost:8080/"
        },
        "id": "ORjE4D6Pu0aP",
        "outputId": "ad26dbca-b7d3-440a-b3cb-fb19e35c7357"
      },
      "outputs": [
        {
          "output_type": "stream",
          "name": "stdout",
          "text": [
            "24, 18, 12, 6, 0, -6\n"
          ]
        }
      ],
      "source": [
        "#TASK1(a)\n",
        "count=24\n",
        "while count>=-6:\n",
        "  if count==-6 :\n",
        "    print(count)\n",
        "  else:\n",
        "    print(count, end=\", \")\n",
        "  count-=6"
      ]
    },
    {
      "cell_type": "code",
      "source": [
        "#TASK1(b)\n",
        "count=-10\n",
        "while count<=20:\n",
        "  if count==20 :\n",
        "    print(count)\n",
        "  else:\n",
        "    print(count, end=\", \")\n",
        "  count+=5"
      ],
      "metadata": {
        "colab": {
          "base_uri": "https://localhost:8080/"
        },
        "id": "G9SaqWbQ2Io6",
        "outputId": "cee1fe21-07c2-43ca-933e-fdfcb62804c6"
      },
      "execution_count": null,
      "outputs": [
        {
          "output_type": "stream",
          "name": "stdout",
          "text": [
            "-10, -5, 0, 5, 10, 15, 20\n"
          ]
        }
      ]
    },
    {
      "cell_type": "code",
      "source": [
        "#TASK1(c)\n",
        "count=18\n",
        "while count<=63:\n",
        "  if count==63:\n",
        "    print(count)\n",
        "  else:\n",
        "    print(count, end=\", \")\n",
        "  count+=9"
      ],
      "metadata": {
        "colab": {
          "base_uri": "https://localhost:8080/"
        },
        "id": "rYaUmBDW29TC",
        "outputId": "d2ccfe3b-3536-453f-ded5-43236d6d4f9f"
      },
      "execution_count": null,
      "outputs": [
        {
          "output_type": "stream",
          "name": "stdout",
          "text": [
            "18, 27, 36, 45, 54, 63\n"
          ]
        }
      ]
    },
    {
      "cell_type": "code",
      "source": [
        "#TASK1(d)\n",
        "count=18\n",
        "while count<=63 :\n",
        "  if count%2==0 :\n",
        "    print(count,end=\", \")\n",
        "    count+=9\n",
        "  if count==63:\n",
        "    print(\"-\"+str(count))\n",
        "    count+=9\n",
        "  else :\n",
        "    print(count*(-1),end=\", \")\n",
        "    count+=9"
      ],
      "metadata": {
        "id": "kNrovD8S4LYT",
        "colab": {
          "base_uri": "https://localhost:8080/"
        },
        "outputId": "d4ea9ea5-557b-467f-8b18-f9e472fe47d2"
      },
      "execution_count": null,
      "outputs": [
        {
          "output_type": "stream",
          "name": "stdout",
          "text": [
            "18, -27, 36, -45, 54, -63\n"
          ]
        }
      ]
    },
    {
      "cell_type": "code",
      "source": [
        "#TASK2\n",
        "\n",
        "name=input(\"Enter the name of your favourite car : \")\n",
        "num=int(input(\"Enter a number : \"))\n",
        "for cars in range(num):\n",
        "  print(name)"
      ],
      "metadata": {
        "colab": {
          "base_uri": "https://localhost:8080/"
        },
        "id": "E4FOSMBSAllh",
        "outputId": "349cb83f-439d-4dcb-8492-6622b9720ff3"
      },
      "execution_count": null,
      "outputs": [
        {
          "output_type": "stream",
          "name": "stdout",
          "text": [
            "Enter the name of your favourite car : gtr\n",
            "Enter a number : 10\n",
            "gtr\n",
            "gtr\n",
            "gtr\n",
            "gtr\n",
            "gtr\n",
            "gtr\n",
            "gtr\n",
            "gtr\n",
            "gtr\n",
            "gtr\n"
          ]
        }
      ]
    },
    {
      "cell_type": "code",
      "source": [
        "#TASK3\n",
        "sum=0\n",
        "for num in range(0,601,63):\n",
        "  sum+=num\n",
        "print(sum)"
      ],
      "metadata": {
        "colab": {
          "base_uri": "https://localhost:8080/"
        },
        "id": "UloyZYZ8B22p",
        "outputId": "f1d9daae-f073-41b3-e661-2e06225eeeab"
      },
      "execution_count": null,
      "outputs": [
        {
          "output_type": "stream",
          "name": "stdout",
          "text": [
            "2835\n"
          ]
        }
      ]
    },
    {
      "cell_type": "code",
      "source": [
        "#TASK4\n",
        "sum=0\n",
        "for num in range(601):\n",
        "  if num%7==0 and num%9==0 :\n",
        "    continue\n",
        "  if num%7==0 or num%9==0 :\n",
        "    sum+=num\n",
        "print(sum)"
      ],
      "metadata": {
        "colab": {
          "base_uri": "https://localhost:8080/"
        },
        "id": "ihrO4Mm2Hd5I",
        "outputId": "f4bb5c05-8577-4185-afb4-d716a56c0abc"
      },
      "execution_count": null,
      "outputs": [
        {
          "output_type": "stream",
          "name": "stdout",
          "text": [
            "39814\n"
          ]
        }
      ]
    },
    {
      "cell_type": "code",
      "source": [
        "#TASK5\n",
        "for num in range(11,51,2):\n",
        "    print(num,end=\" \")"
      ],
      "metadata": {
        "colab": {
          "base_uri": "https://localhost:8080/"
        },
        "id": "KrOzO1CQIqx4",
        "outputId": "41264155-d055-43f1-9259-e65daa006c27"
      },
      "execution_count": null,
      "outputs": [
        {
          "output_type": "stream",
          "name": "stdout",
          "text": [
            "11 13 15 17 19 21 23 25 27 29 31 33 35 37 39 41 43 45 47 49 "
          ]
        }
      ]
    },
    {
      "cell_type": "code",
      "source": [
        "#TASK6\n",
        "sum=0\n",
        "num=int(input(\"Enter a number : \"))\n",
        "for var in range(1,num+1,1):\n",
        "  if var%2==0:\n",
        "    sum-=var**2\n",
        "  else:\n",
        "    sum+=var**2\n",
        "print(sum)\n",
        "sum+=var"
      ],
      "metadata": {
        "id": "stHOI4fqKXan",
        "colab": {
          "base_uri": "https://localhost:8080/"
        },
        "outputId": "67385121-c327-4690-a987-c57ca0d532bc"
      },
      "execution_count": null,
      "outputs": [
        {
          "output_type": "stream",
          "name": "stdout",
          "text": [
            "Enter a number : 10\n",
            "-55\n"
          ]
        }
      ]
    },
    {
      "cell_type": "code",
      "source": [
        "#TASK7\n",
        "sum=0\n",
        "count=0\n",
        "for var in range(10):\n",
        "  num=int(input(\"Enter a number : \"))\n",
        "  if num%2!=0:\n",
        "    sum+=num\n",
        "    count+=1\n",
        "avg=sum/count\n",
        "print(\"The total of the odd numbers is \"+ str(sum)+\" and their average is \"+ str(avg))\n"
      ],
      "metadata": {
        "colab": {
          "base_uri": "https://localhost:8080/"
        },
        "id": "9uIWlKK8VJTO",
        "outputId": "4c08bd57-3085-47c1-d248-7961335d3a87"
      },
      "execution_count": null,
      "outputs": [
        {
          "output_type": "stream",
          "name": "stdout",
          "text": [
            "Enter a number : 1\n",
            "Enter a number : 2\n",
            "Enter a number : 3\n",
            "Enter a number : 4\n",
            "Enter a number : 5\n",
            "Enter a number : 6\n",
            "Enter a number : 7\n",
            "Enter a number : 8\n",
            "Enter a number : 9\n",
            "Enter a number : 10\n",
            "The total of the odd numbers is 25 and their average is 5.0\n"
          ]
        }
      ]
    },
    {
      "cell_type": "code",
      "source": [
        "#TASK8\n",
        "var=int(input(\"Enter a number : \"))\n",
        "sum=0\n",
        "for num in range(1,var+1,1):\n",
        "  if num%7==0:\n",
        "    sum+=num\n",
        "print(sum)"
      ],
      "metadata": {
        "colab": {
          "base_uri": "https://localhost:8080/"
        },
        "id": "FByQpRx5KwHP",
        "outputId": "c4a90cd8-24c4-4c0a-bc08-69828be2345a"
      },
      "execution_count": null,
      "outputs": [
        {
          "output_type": "stream",
          "name": "stdout",
          "text": [
            "Enter a number : 75\n",
            "385\n"
          ]
        }
      ]
    },
    {
      "cell_type": "code",
      "source": [
        "#TASK9\n",
        "sum=0\n",
        "for var in range(5):\n",
        "  num=int(input(\"Enter a number : \"))\n",
        "  sum+=num\n",
        "  print(sum)"
      ],
      "metadata": {
        "id": "eNvxl9m2LqMY",
        "colab": {
          "base_uri": "https://localhost:8080/"
        },
        "outputId": "8a7b78cb-2bfd-40e3-b278-cdb8457c011f"
      },
      "execution_count": null,
      "outputs": [
        {
          "output_type": "stream",
          "name": "stdout",
          "text": [
            "Enter a number : 11\n",
            "11\n",
            "Enter a number : -29\n",
            "-18\n",
            "Enter a number : -3\n",
            "-21\n",
            "Enter a number : 47\n",
            "26\n",
            "Enter a number : 50\n",
            "76\n"
          ]
        }
      ]
    },
    {
      "cell_type": "code",
      "source": [
        "#TASK10\n",
        "num=int(input())\n",
        "while num>0:\n",
        "  if num>9:\n",
        "    print(num%10,end=\",\")\n",
        "    num//=10\n",
        "  else:\n",
        "    print(num%10)\n",
        "    num//=10\n",
        ""
      ],
      "metadata": {
        "id": "RYiIYhl_mTJM",
        "colab": {
          "base_uri": "https://localhost:8080/"
        },
        "outputId": "2b2ba904-61a5-4f07-ae31-dd81c0152dda"
      },
      "execution_count": null,
      "outputs": [
        {
          "output_type": "stream",
          "name": "stdout",
          "text": [
            "123\n",
            "3,2,1\n"
          ]
        }
      ]
    },
    {
      "cell_type": "code",
      "source": [
        "#TASK11\n",
        "count=0\n",
        "num=int(input(\"Enter a number : \"))\n",
        "while num > 0:\n",
        "  num//=10\n",
        "  count+=1\n",
        "print(count)"
      ],
      "metadata": {
        "colab": {
          "base_uri": "https://localhost:8080/"
        },
        "id": "-pGMKofrtFaz",
        "outputId": "3ce83ba0-9cd1-450b-9a1e-173772f41d45"
      },
      "execution_count": null,
      "outputs": [
        {
          "output_type": "stream",
          "name": "stdout",
          "text": [
            "Enter a number : 2356\n",
            "4\n"
          ]
        }
      ]
    },
    {
      "cell_type": "code",
      "source": [
        "#TASK12\n",
        "num=int(input(\"Enter a number : \"))\n",
        "num1=num\n",
        "count=0\n",
        "\n",
        "while num > 0:\n",
        "  num//=10\n",
        "  count+=1\n",
        "\n",
        "while count>0:\n",
        "  if count>1:\n",
        "    print(num1//(10**(count-1)),end=\",\")\n",
        "  else:\n",
        "    print(num1//(10**(count-1)))\n",
        "  num1%=10**(count-1)\n",
        "  count-=1"
      ],
      "metadata": {
        "colab": {
          "base_uri": "https://localhost:8080/"
        },
        "id": "wCzya27ctviT",
        "outputId": "c265281c-5f32-44fc-fdbc-ce50dbaa0af6"
      },
      "execution_count": null,
      "outputs": [
        {
          "output_type": "stream",
          "name": "stdout",
          "text": [
            "Enter a number : 123\n",
            "1,2,3\n"
          ]
        }
      ]
    },
    {
      "cell_type": "code",
      "source": [
        "#TASK13\n",
        "count=0\n",
        "num=int(input(\"Enter a number : \"))\n",
        "for var in range(1,num+1,1):\n",
        "  if num%var==0:\n",
        "    print(var)\n",
        "    count+=1\n",
        "print(\"Total \"+str(count)+\" divisors.\")\n"
      ],
      "metadata": {
        "colab": {
          "base_uri": "https://localhost:8080/"
        },
        "id": "FUY1iOrN2DK3",
        "outputId": "25706aab-86eb-4427-e89d-a02c8fcc1568"
      },
      "execution_count": null,
      "outputs": [
        {
          "output_type": "stream",
          "name": "stdout",
          "text": [
            "Enter a number : 567\n",
            "1\n",
            "3\n",
            "7\n",
            "9\n",
            "21\n",
            "27\n",
            "63\n",
            "81\n",
            "189\n",
            "567\n",
            "Total 10 divisors.\n"
          ]
        }
      ]
    },
    {
      "cell_type": "code",
      "source": [
        "#TASK14\n",
        "sum=0\n",
        "num=int(input(\"Enter a number : \"))\n",
        "for var in range(1,num,1):\n",
        "  if num%var==0:\n",
        "    sum+=var\n",
        "if sum==num:\n",
        "  print(num, \"is a perfect number.\")\n",
        "else :\n",
        "  print(num, \"is not a perfect number.\")"
      ],
      "metadata": {
        "colab": {
          "base_uri": "https://localhost:8080/"
        },
        "id": "PLxB9m4n4DIH",
        "outputId": "6ebc687a-ee48-43ae-c7c7-dbfd35610d38"
      },
      "execution_count": null,
      "outputs": [
        {
          "output_type": "stream",
          "name": "stdout",
          "text": [
            "Enter a number : 33\n",
            "33 is not a perfect number.\n"
          ]
        }
      ]
    },
    {
      "cell_type": "code",
      "source": [
        "#TASK15\n",
        "count=0\n",
        "num=int(input())\n",
        "for var in range(1,num+1,1):\n",
        "  if num%var==0:\n",
        "    count+=1\n",
        "if count==2:\n",
        "  print(num, \"is a prime number.\")\n",
        "else :\n",
        "  print(num, \"is not a prime number.\")"
      ],
      "metadata": {
        "colab": {
          "base_uri": "https://localhost:8080/"
        },
        "id": "piWG957o-ftw",
        "outputId": "4b761d40-876c-466e-923e-90895e3770dc"
      },
      "execution_count": null,
      "outputs": [
        {
          "output_type": "stream",
          "name": "stdout",
          "text": [
            "17\n",
            "17 is a prime number.\n"
          ]
        }
      ]
    },
    {
      "cell_type": "code",
      "source": [
        "#TASK16\n",
        "sum=0\n",
        "qntt=int(input(\"Quantity : \"))\n",
        "for var in range(0,qntt,1):\n",
        "  num=int(input())\n",
        "  if var==0:\n",
        "    mx=num\n",
        "    mn=num\n",
        "  if mx<num:\n",
        "    mx=num\n",
        "  if mn>num:\n",
        "    mn=num\n",
        "  sum+=num\n",
        "avg=sum/qntt\n",
        "print(\"Maximum \"+str(mx))\n",
        "print(\"Minimum \"+str(mn))\n",
        "print(\"Average \"+ str(avg))\n",
        "\n",
        "\n"
      ],
      "metadata": {
        "colab": {
          "base_uri": "https://localhost:8080/"
        },
        "id": "YEcfGMYvpWWB",
        "outputId": "df6ab6b8-14b9-4a20-8aa6-cbac973ab277"
      },
      "execution_count": null,
      "outputs": [
        {
          "output_type": "stream",
          "name": "stdout",
          "text": [
            "Quantity : 5\n",
            "10\n",
            "4\n",
            "-1\n",
            "-100\n",
            "1\n",
            "Maximum 10\n",
            "Minimum -100\n",
            "Average -17.2\n"
          ]
        }
      ]
    },
    {
      "cell_type": "code",
      "source": [
        "#TASK17\n",
        "count=0\n",
        "num=int(input())\n",
        "while count<num :\n",
        "  n=0\n",
        "  while n<num :\n",
        "    print(\"+\",end=\"\")\n",
        "    n+=1\n",
        "  print()\n",
        "  count+=1"
      ],
      "metadata": {
        "colab": {
          "base_uri": "https://localhost:8080/"
        },
        "id": "eHsX37MfvtVf",
        "outputId": "04183497-f116-4b38-aa52-1e7fa6c15030"
      },
      "execution_count": null,
      "outputs": [
        {
          "output_type": "stream",
          "name": "stdout",
          "text": [
            "3\n",
            "+++\n",
            "+++\n",
            "+++\n"
          ]
        }
      ]
    },
    {
      "cell_type": "code",
      "source": [
        "#TASK18\n",
        "M=int(input(\"M : \"))\n",
        "N=int(input(\"N : \"))\n",
        "for var in range(1,M+1,1):\n",
        "  for var in range(1,N+1,1):\n",
        "    print(var,end=\"\")\n",
        "  print()"
      ],
      "metadata": {
        "colab": {
          "base_uri": "https://localhost:8080/"
        },
        "id": "fi-GzwmfxKBv",
        "outputId": "3511ba9f-766e-4270-d08c-97a831acdb9f"
      },
      "execution_count": null,
      "outputs": [
        {
          "output_type": "stream",
          "name": "stdout",
          "text": [
            "M : 4\n",
            "N : 6\n",
            "123456\n",
            "123456\n",
            "123456\n",
            "123456\n"
          ]
        }
      ]
    },
    {
      "cell_type": "code",
      "source": [
        "#TASK19\n",
        "num=int(input(\"N : \"))\n",
        "for var in range(1,num+1,1):\n",
        "  for var1 in range(1,var+1,1):\n",
        "    print(var1,end=\"\")\n",
        "  print('')\n"
      ],
      "metadata": {
        "colab": {
          "base_uri": "https://localhost:8080/"
        },
        "id": "bglgixTx1Vju",
        "outputId": "1af8f3fa-e48a-483c-f661-b7b3210a5d0f"
      },
      "execution_count": null,
      "outputs": [
        {
          "output_type": "stream",
          "name": "stdout",
          "text": [
            "N : 5\n",
            "1\n",
            "12\n",
            "123\n",
            "1234\n",
            "12345\n"
          ]
        }
      ]
    },
    {
      "cell_type": "code",
      "source": [
        "#TASK20\n",
        "x = 0\n",
        "p =0\n",
        "sum = 0\n",
        "p = 1\n",
        "x = 2\n",
        "q = None\n",
        "sum = 0\n",
        "while p < 12:\n",
        "    q = x + p - (sum + 7 / 3) / 3.0 % 2\n",
        "    sum = sum + x + int(q)\n",
        "    x += 1\n",
        "    print(sum)\n",
        "    if x > 5:\n",
        "        p += 4 / 2\n",
        "    else:\n",
        "        p += (3 % 1)\n",
        "sum = int(sum + p)\n",
        "print(sum)\n",
        "\n",
        "\n"
      ],
      "metadata": {
        "id": "JmrmpMsb5Tn9",
        "colab": {
          "base_uri": "https://localhost:8080/"
        },
        "outputId": "7bbe91c2-36bb-4927-8c25-c0ae54843e12"
      },
      "execution_count": null,
      "outputs": [
        {
          "output_type": "stream",
          "name": "stdout",
          "text": [
            "4\n",
            "10\n",
            "18\n",
            "28\n",
            "42\n",
            "60\n",
            "82\n",
            "108\n",
            "138\n",
            "151\n"
          ]
        }
      ]
    },
    {
      "cell_type": "code",
      "source": [
        "#TASK21\n",
        "x = 0\n",
        "p = 0\n",
        "sum = 0\n",
        "p = 1\n",
        "x = 2\n",
        "q = 0.0\n",
        "sum = 0\n",
        "while (p < 10) :\n",
        "  q = x + p - (sum + int(5 / 3)) / 3.0 % 2\n",
        "  sum = sum + x + int(q)\n",
        "  x += 1\n",
        "  print(sum)\n",
        "  if (x > 5) :\n",
        "    p += int(4 / 2)\n",
        "  else :\n",
        "    p += 3 % 1\n",
        "sum = sum + p\n",
        "print(sum)"
      ],
      "metadata": {
        "id": "HYLb9nAw5ye3",
        "colab": {
          "base_uri": "https://localhost:8080/"
        },
        "outputId": "d756c683-0ff6-46e8-9d55-0ce60f495845"
      },
      "execution_count": null,
      "outputs": [
        {
          "output_type": "stream",
          "name": "stdout",
          "text": [
            "4\n",
            "9\n",
            "16\n",
            "25\n",
            "39\n",
            "56\n",
            "78\n",
            "104\n",
            "115\n"
          ]
        }
      ]
    },
    {
      "cell_type": "code",
      "source": [
        "#TASK22\n",
        "x = y = 0\n",
        "sum = 0\n",
        "while (x < 10):\n",
        "  y = x - 3\n",
        "  while (y < 3):\n",
        "    sum = x - y * 2\n",
        "    print(sum)\n",
        "    y = y + 1\n",
        "  if (x > 7):\n",
        "    x += 1\n",
        "  else:\n",
        "    x += 3\n",
        "sum = x - y * 2\n",
        "print(sum)"
      ],
      "metadata": {
        "id": "CG6hG3OG5_et",
        "colab": {
          "base_uri": "https://localhost:8080/"
        },
        "outputId": "e0a2fc20-4482-416d-851a-856ae4ee4dd0"
      },
      "execution_count": null,
      "outputs": [
        {
          "output_type": "stream",
          "name": "stdout",
          "text": [
            "6\n",
            "4\n",
            "2\n",
            "0\n",
            "-2\n",
            "-4\n",
            "3\n",
            "1\n",
            "-1\n",
            "-2\n"
          ]
        }
      ]
    },
    {
      "cell_type": "code",
      "source": [
        "#TASK23\n",
        "x = 0\n",
        "y = 0\n",
        "sum = 0\n",
        "p = 0.0\n",
        "while (x < 10):\n",
        "    y = x // 2\n",
        "    while (y < x):\n",
        "        p = (x + 10.0) / 2\n",
        "        sum = (sum % 2) + x - y * 2 + int(p)\n",
        "        print(sum)\n",
        "        y = y + 2\n",
        "    if (x > 5):\n",
        "        x += 1\n",
        "    else:\n",
        "        x += 2"
      ],
      "metadata": {
        "id": "4UkfgcwZ6Jfl",
        "colab": {
          "base_uri": "https://localhost:8080/"
        },
        "outputId": "8e448e9e-bf3c-4d7d-f89b-0d14a09e10a2"
      },
      "execution_count": null,
      "outputs": [
        {
          "output_type": "stream",
          "name": "stdout",
          "text": [
            "6\n",
            "7\n",
            "9\n",
            "5\n",
            "10\n",
            "5\n",
            "10\n",
            "5\n",
            "11\n",
            "7\n",
            "3\n"
          ]
        }
      ]
    },
    {
      "cell_type": "code",
      "source": [
        "#TASK24\n",
        "test = 1\n",
        "j = 0\n",
        "k = 100\n",
        "while (k > 0):\n",
        "  while ( j < k ):\n",
        "    test = k + j -21\n",
        "    print(str(1 + int (test / 2)))\n",
        "    j += 10\n",
        "  k -= 10\n",
        "test = 1\n",
        "j = 0\n",
        "k = 100"
      ],
      "metadata": {
        "id": "sD_ldoPr6cb8",
        "colab": {
          "base_uri": "https://localhost:8080/"
        },
        "outputId": "143ff0dd-abf5-4869-eea3-2e1931b68e54"
      },
      "execution_count": null,
      "outputs": [
        {
          "output_type": "stream",
          "name": "stdout",
          "text": [
            "40\n",
            "45\n",
            "50\n",
            "55\n",
            "60\n",
            "65\n",
            "70\n",
            "75\n",
            "80\n",
            "85\n"
          ]
        }
      ]
    },
    {
      "cell_type": "code",
      "source": [
        "#TASK25\n",
        "num=int(input(\"Enter a number : \"))\n",
        "n1=0\n",
        "n2=1\n",
        "if num<=0 :\n",
        "  print(\"Enter a positive number.\")\n",
        "elif num==1 :\n",
        "  print(n1)\n",
        "else :\n",
        "  while n1<num :\n",
        "    print(n1,end=\" \")\n",
        "    nth=n1+n2\n",
        "    n1=n2\n",
        "    n2=nth"
      ],
      "metadata": {
        "colab": {
          "base_uri": "https://localhost:8080/"
        },
        "id": "gjWzkUoPrte3",
        "outputId": "432110fd-894d-45c8-ef55-a55bed8bfd37"
      },
      "execution_count": null,
      "outputs": [
        {
          "output_type": "stream",
          "name": "stdout",
          "text": [
            "Enter a number : 1\n",
            "0\n"
          ]
        }
      ]
    },
    {
      "cell_type": "code",
      "source": [
        "#TASK26\n",
        "var=int(input(\"Enter a number : \"))\n",
        "svar=\"\"\n",
        "while num!=0 :\n",
        "  num=int(num/2)\n",
        "  if num%2==1:\n",
        "    svar+=1\n",
        "  elif num%2==0 :\n",
        "    svar+=0\n",
        "print(svar)"
      ],
      "metadata": {
        "colab": {
          "base_uri": "https://localhost:8080/"
        },
        "id": "vxtu7Fpbwak5",
        "outputId": "27e76b35-7109-46e8-a0e3-02a4c3760d20"
      },
      "execution_count": null,
      "outputs": [
        {
          "output_type": "stream",
          "name": "stdout",
          "text": [
            "Enter a number : 7\n",
            "\n"
          ]
        }
      ]
    },
    {
      "cell_type": "code",
      "source": [
        "#TASK26\n",
        "decimal = int(input(\"Enter a decimal number \\n\"))\n",
        "binary = 0\n",
        "ctr = 0\n",
        "temp = decimal\n",
        "while(temp > 0):\n",
        "    binary = ((temp%2)*(10**ctr)) + binary\n",
        "    temp = int(temp/2)\n",
        "    ctr += 1\n",
        "print(\"Binary of {x} is: {y}\".format(x=decimal,y=binary))"
      ],
      "metadata": {
        "colab": {
          "base_uri": "https://localhost:8080/"
        },
        "id": "xn3HCd_E2E-Y",
        "outputId": "29dab679-bdee-4916-e7ff-db937366a89b"
      },
      "execution_count": null,
      "outputs": [
        {
          "output_type": "stream",
          "name": "stdout",
          "text": [
            "Enter a decimal number \n",
            "7\n",
            "Binary of 7 is: 111\n"
          ]
        }
      ]
    },
    {
      "cell_type": "code",
      "source": [
        "#TASK27\n",
        "bnum=int(input(\"Enter a binary number : \"))\n",
        "dnum=0\n",
        "i=1\n",
        "dnum = 0\n",
        "i = 1\n",
        "while bnum!=0:\n",
        "    rem = bnum%10\n",
        "    dnum = dnum + (rem*i)\n",
        "    i = i*2\n",
        "    bnum = int(bnum/10)\n",
        "print(dnum)"
      ],
      "metadata": {
        "colab": {
          "base_uri": "https://localhost:8080/"
        },
        "id": "FbS3XZzs6KM4",
        "outputId": "f48d79d6-86c3-49f4-dd20-0b34186424de"
      },
      "execution_count": null,
      "outputs": [
        {
          "output_type": "stream",
          "name": "stdout",
          "text": [
            "Enter a binary number : 01010\n",
            "10\n"
          ]
        }
      ]
    }
  ]
}
