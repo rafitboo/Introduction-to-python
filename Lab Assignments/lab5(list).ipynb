{
  "nbformat": 4,
  "nbformat_minor": 0,
  "metadata": {
    "colab": {
      "provenance": [],
      "authorship_tag": "ABX9TyMakzgvYzzYyAaasXbwPlf8",
      "include_colab_link": true
    },
    "kernelspec": {
      "name": "python3",
      "display_name": "Python 3"
    },
    "language_info": {
      "name": "python"
    }
  },
  "cells": [
    {
      "cell_type": "markdown",
      "metadata": {
        "id": "view-in-github",
        "colab_type": "text"
      },
      "source": [
        "<a href=\"https://colab.research.google.com/github/rafitboo/Introduction-to-python/blob/main/Lab%20Assignmennts/lab5(list).ipynb\" target=\"_parent\"><img src=\"https://colab.research.google.com/assets/colab-badge.svg\" alt=\"Open In Colab\"/></a>"
      ]
    },
    {
      "cell_type": "code",
      "execution_count": null,
      "metadata": {
        "colab": {
          "base_uri": "https://localhost:8080/"
        },
        "id": "wiZOiu8ivskG",
        "outputId": "ba7e72a2-a631-4cab-bd9a-3039f598b6ca"
      },
      "outputs": [
        {
          "output_type": "stream",
          "name": "stdout",
          "text": [
            "Enter a number : 1\n",
            "Numbers in the list: [1]\n",
            "Enter a number : 2\n",
            "Numbers in the list: [1, 2]\n",
            "Enter a number : 3\n",
            "Numbers in the list: [1, 2, 3]\n",
            "Enter a number : 4\n",
            "Numbers in the list: [1, 2, 3, 4]\n",
            "Enter a number : 5\n",
            "Numbers in the list: [1, 2, 3, 4, 5]\n"
          ]
        }
      ],
      "source": [
        "#TASK-1\n",
        "lst=[]\n",
        "for i in range(5):\n",
        "  num=int(input(\"Enter a number : \"))\n",
        "  lst.append(num)\n",
        "  print(\"Numbers in the list: \"+str(lst))"
      ]
    },
    {
      "cell_type": "code",
      "source": [
        "#TASK-2\n",
        "var=input()\n",
        "lst1=var.split(\", \")\n",
        "lst2=[]\n",
        "for i in range(len(lst1)):\n",
        "  elem=int(lst1[i])\n",
        "  lst2.append(elem)\n",
        "if len(lst2)>=4 :\n",
        "  print(lst2[2:len(lst2)-2:])\n",
        "else:\n",
        "  print(\"Not possible\")"
      ],
      "metadata": {
        "colab": {
          "base_uri": "https://localhost:8080/"
        },
        "id": "pRTyt5k1wXRw",
        "outputId": "6d0eea31-f873-4b01-90c5-8bbd660a2a60"
      },
      "execution_count": null,
      "outputs": [
        {
          "output_type": "stream",
          "name": "stdout",
          "text": [
            "1, 2, 3, 4, 5\n",
            "[3]\n"
          ]
        }
      ]
    },
    {
      "cell_type": "markdown",
      "source": [],
      "metadata": {
        "id": "IAxoZv8OYOy8"
      }
    },
    {
      "cell_type": "code",
      "source": [
        "#TASK-3\n",
        "lst=[]\n",
        "for i in range(5):\n",
        "  num=int(input())\n",
        "  lst.append(num)\n",
        "print(\"Printing values in reverse order: \")\n",
        "for i in range(len(lst)-1,-1,-1):\n",
        "  print(lst[i])"
      ],
      "metadata": {
        "colab": {
          "base_uri": "https://localhost:8080/"
        },
        "id": "PRGFxKhY2Tih",
        "outputId": "d969ae29-09bb-4417-a586-64ff9603267e"
      },
      "execution_count": null,
      "outputs": [
        {
          "output_type": "stream",
          "name": "stdout",
          "text": [
            "5\n",
            "4\n",
            "3\n",
            "2\n",
            "1\n",
            "Printing values in reverse order: \n",
            "1\n",
            "2\n",
            "3\n",
            "4\n",
            "5\n"
          ]
        }
      ]
    },
    {
      "cell_type": "code",
      "source": [
        "#TASK-4\n",
        "var=input()\n",
        "var=var[1:len(var)-1:]\n",
        "lst1=var.split(\", \")\n",
        "lst2=[]\n",
        "for i in range(len(lst1)):\n",
        "  num=int(lst1[i])**2\n",
        "  lst2.append(num)\n",
        "print(lst2)"
      ],
      "metadata": {
        "colab": {
          "base_uri": "https://localhost:8080/"
        },
        "id": "Q_8DM0WP3QrC",
        "outputId": "f666032f-a697-47fa-ed01-29b3b16e15b9"
      },
      "execution_count": null,
      "outputs": [
        {
          "output_type": "stream",
          "name": "stdout",
          "text": [
            "[1, 2, 3]\n",
            "[1, 4, 9]\n"
          ]
        }
      ]
    },
    {
      "cell_type": "code",
      "source": [
        " #TASK-5\n",
        "var=[\"hey\", \"there\", \"\", \"what's\", \"\", \"up\", \"\", \"?\"]\n",
        "lst=[]\n",
        "for i in range(len(var)):\n",
        "  if var[i]!=\"\":\n",
        "    lst.append(var[i])\n",
        "print(\"Original list : \"+str(var))\n",
        "print(\"Modified list : \"+ str(lst))\n"
      ],
      "metadata": {
        "id": "0csjsa335q2i",
        "colab": {
          "base_uri": "https://localhost:8080/"
        },
        "outputId": "2ca73a1b-6d7e-41e1-e09b-dc41f52a828a"
      },
      "execution_count": null,
      "outputs": [
        {
          "output_type": "stream",
          "name": "stdout",
          "text": [
            "Original list : ['hey', 'there', '', \"what's\", '', 'up', '', '?']\n",
            "Modified list : ['hey', 'there', \"what's\", 'up', '?']\n"
          ]
        }
      ]
    },
    {
      "cell_type": "code",
      "source": [
        "#TASK-6\n",
        "var=input()\n",
        "lst1=var.split(\", \")\n",
        "lst2=[]\n",
        "for i in range(len(lst1)):\n",
        "  elem=int(lst1[i])\n",
        "  lst2.append(elem)\n",
        "print(\"My list : \"+ str(lst2))\n",
        "for i in range(len(lst2)):\n",
        "  if i==0:\n",
        "    mx=lst2[i]\n",
        "    idx=i\n",
        "  if lst2[i]>mx:\n",
        "    mx=lst2[i]\n",
        "    idx=i\n",
        "print(\"Largest number in the list is \"+str(mx)+\"  which was found at index \"+str(idx) )"
      ],
      "metadata": {
        "colab": {
          "base_uri": "https://localhost:8080/"
        },
        "id": "N2gSmBCiBbvj",
        "outputId": "93484440-654f-4236-a268-73762b90b397"
      },
      "execution_count": null,
      "outputs": [
        {
          "output_type": "stream",
          "name": "stdout",
          "text": [
            "100, 10, 20\n",
            "My list : [100, 10, 20]\n",
            "Largest number in the list is 100  which was found at index 0\n"
          ]
        }
      ]
    },
    {
      "cell_type": "code",
      "source": [
        "#TASK-7\n",
        "lst1=input(\"List_one : \")\n",
        "lst2=input(\"List_two : \")\n",
        "lst1=lst1[1:len(lst1)-1:]\n",
        "lst1=lst1.split(\", \")\n",
        "lst3=[]\n",
        "for i in range(len(lst1)):\n",
        "  elem=int(lst1[i])\n",
        "  lst3.append(elem)\n",
        "lst2=lst2[1:len(lst2)-1:]\n",
        "lst2=lst2.split(\", \")\n",
        "lst4=[]\n",
        "for i in range(len(lst2)):\n",
        "  elem=int(lst2[i])\n",
        "  lst4.append(elem)\n",
        "lst5=[]\n",
        "for i in range(len(lst3)-1):\n",
        "  lst5.append(lst3[i])\n",
        "for i in range(len(lst4)):\n",
        "  lst5.append(lst4[i])\n",
        "print(lst5)"
      ],
      "metadata": {
        "colab": {
          "base_uri": "https://localhost:8080/"
        },
        "id": "cd4HtZ-6FlJz",
        "outputId": "334dbbdf-ecec-4c44-bcd6-07ea56f518ea"
      },
      "execution_count": null,
      "outputs": [
        {
          "output_type": "stream",
          "name": "stdout",
          "text": [
            "List_one : [1, 4, 7, 5]\n",
            "List_two : [6, 1, 3, 9]\n",
            "[1, 4, 7, 6, 1, 3, 9]\n"
          ]
        }
      ]
    },
    {
      "cell_type": "code",
      "source": [
        "lst1=  [1, 4, 7, 5]\n",
        "lst2=  [6, 1, 3, 9]\n",
        "flst=[]\n",
        "for i in range(len(lst1)-1):\n",
        "  flst.append(lst1[i])\n",
        "for i in range(len(lst2)):\n",
        "  flst.append(lst2[i])\n",
        "print(flst)"
      ],
      "metadata": {
        "colab": {
          "base_uri": "https://localhost:8080/"
        },
        "id": "XNpMWi0t5a41",
        "outputId": "a5401aea-14cc-4054-96e4-4a789548929a"
      },
      "execution_count": null,
      "outputs": [
        {
          "output_type": "stream",
          "name": "stdout",
          "text": [
            "[1, 4, 7, 6, 1, 3, 9]\n"
          ]
        }
      ]
    },
    {
      "cell_type": "code",
      "source": [
        "#TASK-8\n",
        "lst1=input(\"List_one : \")\n",
        "lst2=input(\"List_two : \")\n",
        "lst3=[]\n",
        "lst1=lst1[1:len(lst1)-1:]\n",
        "lst1=lst1.split(\", \")\n",
        "for i in range(len(lst1)):\n",
        "  elem=int(lst1[i])\n",
        "  lst3.append(elem)\n",
        "lst4=[]\n",
        "lst2=lst2[1:len(lst2)-1:]\n",
        "lst2=lst2.split(\", \")\n",
        "for i in range(len(lst2)):\n",
        "  elem=int(lst2[i])\n",
        "  lst4.append(elem)\n",
        "lst5=[]\n",
        "for i in range(len(lst3)):\n",
        "  if lst3[i]%2==0:\n",
        "    num=lst3[i]\n",
        "    lst5.append(num)\n",
        "for i in range(len(lst4)):\n",
        "  if lst4[i]%2==0:\n",
        "    num=lst4[i]\n",
        "    lst5.append(num)\n",
        "print(lst5)"
      ],
      "metadata": {
        "colab": {
          "base_uri": "https://localhost:8080/"
        },
        "id": "YszfvDZrJaPE",
        "outputId": "565d2d47-94fe-4cb5-e70b-cd60006e3972"
      },
      "execution_count": null,
      "outputs": [
        {
          "output_type": "stream",
          "name": "stdout",
          "text": [
            "List_one : [1, 2, 3, 4, 5, 6, 7, 8, 9]\n",
            "List_two : [10, 11, 12, -13, -14, -15, -16]\n",
            "[2, 4, 6, 8, 10, 12, -14, -16]\n"
          ]
        }
      ]
    },
    {
      "cell_type": "code",
      "source": [
        "#TASK-8\n",
        "lst1=input(\"List_one : \")\n",
        "lst2=input(\"List_two : \")\n",
        "lst3=[]\n",
        "lst1=lst1[1:len(lst1)-1:]\n",
        "lst1=lst1.split(\", \")\n",
        "for i in lst1:\n",
        "  lst3.append(int(i))\n",
        "lst4=[]\n",
        "lst2=lst2[1:len(lst2)-1:]\n",
        "lst2=lst2.split(\", \")\n",
        "for i in lst2:\n",
        "  lst4.append(int(i))\n",
        "lst5=[]\n",
        "for i in lst3:\n",
        "  if i%2==0:\n",
        "    lst5.append(i)\n",
        "for i in lst4:\n",
        "  if i%2==0:\n",
        "    lst5.append(i)\n",
        "print(lst5)"
      ],
      "metadata": {
        "colab": {
          "base_uri": "https://localhost:8080/"
        },
        "outputId": "a9ae1d5c-ed68-4c57-f689-bed7ea48bcd6",
        "id": "pOaMPRAJk1PN"
      },
      "execution_count": null,
      "outputs": [
        {
          "output_type": "stream",
          "name": "stdout",
          "text": [
            "List_one : [1, 2, 3, 4, 5, 6, 7, 8, 9]\n",
            "List_two : [10, 11, 12, -13, -14, -15, -16]\n",
            "[2, 4, 6, 8, 10, 12, -14, -16]\n"
          ]
        }
      ]
    },
    {
      "cell_type": "code",
      "source": [
        "#TASk-8\n",
        "lst1=[1, 2, 3, 4, 5, 6, 7, 8, 9]\n",
        "lst2=[10, 11, 12, -13, -14, -15, -16]\n",
        "lst3=[]\n",
        "for i in lst1:\n",
        "  if i%2==0:\n",
        "    lst3.append(i)\n",
        "for i in lst2:\n",
        "  if i%2==0:\n",
        "    lst3.append(i)\n",
        "print(lst3)"
      ],
      "metadata": {
        "colab": {
          "base_uri": "https://localhost:8080/"
        },
        "id": "taH2lo6S6FZe",
        "outputId": "9b870c45-be27-4d4a-96da-754054b05611"
      },
      "execution_count": null,
      "outputs": [
        {
          "output_type": "stream",
          "name": "stdout",
          "text": [
            "[2, 4, 6, 8, 10, 12, -14, -16]\n"
          ]
        }
      ]
    },
    {
      "cell_type": "code",
      "source": [
        "#TASK-9\n",
        "var=input()\n",
        "lst1=[]\n",
        "elem=\"\"\n",
        "for i in range(len(var)):\n",
        "  if var[i]!=\" \":\n",
        "    elem+=(var[i])\n",
        "  else:\n",
        "    lst1.append(elem)\n",
        "    elem=\"\"\n",
        "lst1.append(elem)\n",
        "for i in range(len(lst1)):\n",
        "  lst1[i]=int(lst1[i])\n",
        "lst2=[]\n",
        "for i in range(len(lst1)):\n",
        "  if lst1[i]%2==1:\n",
        "    lst2.append(lst1[i])\n",
        "print(\"original list : \"+ str(lst1))\n",
        "print(\"Modified list : \"+ str(lst2))"
      ],
      "metadata": {
        "colab": {
          "base_uri": "https://localhost:8080/"
        },
        "id": "u4DrSMpucx5q",
        "outputId": "9dbb4edb-411f-4690-f206-33029ece4b2b"
      },
      "execution_count": null,
      "outputs": [
        {
          "output_type": "stream",
          "name": "stdout",
          "text": [
            "7 12 4 55 96 2 11 61 33 42\n",
            "original list : [7, 12, 4, 55, 96, 2, 11, 61, 33, 42]\n",
            "Modified list : [7, 55, 11, 61, 33]\n"
          ]
        }
      ]
    },
    {
      "cell_type": "code",
      "source": [
        "#TASK-10\n",
        "var=input()\n",
        "lst1=[]\n",
        "elem=\"\"\n",
        "for i in range(len(var)):\n",
        "  if var[i]!=\",\":\n",
        "    elem+=var[i]\n",
        "  else:\n",
        "    lst1.append(elem)\n",
        "    elem=\"\"\n",
        "lst1.append(elem)\n",
        "for i in range(len(lst1)):\n",
        "  lst1[i]=int(lst1[i])\n",
        "print(\"Input list: \"+str(lst1))\n",
        "lst2=[]\n",
        "for i in range(len(lst1)):\n",
        "  if lst1[i] not in lst2:\n",
        "    lst2.append(lst1[i])\n",
        "print(\"Modified list: \"+str(lst2))"
      ],
      "metadata": {
        "colab": {
          "base_uri": "https://localhost:8080/"
        },
        "id": "Zzxl9xbAnTYY",
        "outputId": "53959dc4-68fa-40df-8075-9477a0afce46"
      },
      "execution_count": null,
      "outputs": [
        {
          "output_type": "stream",
          "name": "stdout",
          "text": [
            "0, 0, 1, 2, 3, 4, 4, 5, 6, 6, 6, 7, 8, 9, 4, 4\n",
            "Input list: [0, 0, 1, 2, 3, 4, 4, 5, 6, 6, 6, 7, 8, 9, 4, 4]\n",
            "Modified list: [0, 1, 2, 3, 4, 5, 6, 7, 8, 9]\n"
          ]
        }
      ]
    },
    {
      "cell_type": "code",
      "source": [
        "#TASk-10\n",
        "var=input()\n",
        "var=var.split(\", \")\n",
        "for i in range(len(var)):\n",
        "  var[i]=int(var[i])\n",
        "lst1=[]\n",
        "for i in range(len(var)):\n",
        "  if var[i] not in lst1:\n",
        "    lst1.append(var[i])\n",
        "print(var)\n",
        "print(lst1)"
      ],
      "metadata": {
        "colab": {
          "base_uri": "https://localhost:8080/"
        },
        "id": "bru1d6PMBv-F",
        "outputId": "8d8c2eaa-5588-4395-cff3-b6caba307473"
      },
      "execution_count": null,
      "outputs": [
        {
          "output_type": "stream",
          "name": "stdout",
          "text": [
            "0, 0, 1, 2, 3, 4, 4, 5, 6, 6, 6, 7, 8, 9, 4, 4\n",
            "[0, 0, 1, 2, 3, 4, 4, 5, 6, 6, 6, 7, 8, 9, 4, 4]\n",
            "[0, 1, 2, 3, 4, 5, 6, 7, 8, 9]\n"
          ]
        }
      ]
    },
    {
      "cell_type": "code",
      "source": [
        "#TASK-11\n",
        "var1=input(\"List_one : \")\n",
        "var2=input(\"List_two : \")\n",
        "var1=var1[1:len(var1)-1:]\n",
        "var2=var2[1:len(var2)-1:]\n",
        "lst1=var1.split(\", \")\n",
        "lst2=var2.split(\", \")\n",
        "for i in range(len(lst1)):\n",
        "  lst1[i]=int(lst1[i])\n",
        "for i in range(len(lst2)):\n",
        "  lst2[i]=int(lst2[i])\n",
        "flag=False\n",
        "for i in range(len(lst1)):\n",
        "  if lst1[i] in lst2:\n",
        "    flag=True\n",
        "    break\n",
        "print(flag)"
      ],
      "metadata": {
        "colab": {
          "base_uri": "https://localhost:8080/"
        },
        "id": "oAO_hXo1qvdw",
        "outputId": "dca816a5-fd31-4dee-d5f5-8fed6ec91798"
      },
      "execution_count": null,
      "outputs": [
        {
          "output_type": "stream",
          "name": "stdout",
          "text": [
            "List_one : [1, 4, 3, 2, 5]\n",
            "List_two : [8, 7, 5, 9]\n",
            "True\n"
          ]
        }
      ]
    },
    {
      "cell_type": "code",
      "source": [
        "#TASK-12\n",
        "myList = [0, 0, 0, 0, 0, 0, 0, 0, 0, 0]\n",
        "index1 = 0\n",
        "index2 = 0\n",
        "index1 = 1\n",
        "while(index1<10):\n",
        "  myList[index1] = index1+4\n",
        "  index2 = 1\n",
        "  while(index2<index1):\n",
        "      myList[index1] = myList[index1] + myList[index2]-index1\n",
        "      index2 = index2+1\n",
        "  print(myList[index1])\n",
        "  index1 = index1+1"
      ],
      "metadata": {
        "colab": {
          "base_uri": "https://localhost:8080/"
        },
        "id": "7Cl_6iI2g9hY",
        "outputId": "991b4063-53f1-46aa-890b-1a4db2e77e1a"
      },
      "execution_count": null,
      "outputs": [
        {
          "output_type": "stream",
          "name": "stdout",
          "text": [
            "5\n",
            "9\n",
            "15\n",
            "25\n",
            "43\n",
            "77\n",
            "143\n",
            "273\n",
            "531\n"
          ]
        }
      ]
    },
    {
      "cell_type": "code",
      "source": [
        "#TASK-13\n",
        "myList = [0, 0, 0, 0, 0, 0, 0, 0, 0, 0]\n",
        "index1 = 0\n",
        "index2 = 0\n",
        "index1 = 1\n",
        "while (index1 < 10):\n",
        "  myList[index1] = index1 + 4\n",
        "  index2 = 1\n",
        "  while (index2 < index1):\n",
        "    myList[index1] = myList[index1-1] - myList[index2-1] - index1\n",
        "    index2 = index2 + 1\n",
        "  print(myList[index1])\n",
        "  index1 = index1 + 1"
      ],
      "metadata": {
        "colab": {
          "base_uri": "https://localhost:8080/"
        },
        "id": "tWwm39Gx1um7",
        "outputId": "e76ec691-9a75-408d-b96d-8a3cc488be39"
      },
      "execution_count": null,
      "outputs": [
        {
          "output_type": "stream",
          "name": "stdout",
          "text": [
            "5\n",
            "3\n",
            "-5\n",
            "-12\n",
            "-12\n",
            "-6\n",
            "-1\n",
            "-3\n",
            "-11\n"
          ]
        }
      ]
    },
    {
      "cell_type": "code",
      "source": [
        "#TASK-14\n",
        "myList = [0, 0, 0, 0, 0, 0, 0, 0, 0, 0]\n",
        "b = []\n",
        "index1 = 0\n",
        "index2 = 0\n",
        "index1 = 1\n",
        "b = myList\n",
        "while(index1<10):\n",
        "  myList[index1] = index1+2\n",
        "  index2 = 1\n",
        "  while(index2<index1):\n",
        "    myList[index1] = b[index1]+myList[index2]-index1\n",
        "    index2 = index2+1\n",
        "  print(myList[index1])\n",
        "  index1 = index1+1"
      ],
      "metadata": {
        "colab": {
          "base_uri": "https://localhost:8080/"
        },
        "id": "RafBywf3Dbkf",
        "outputId": "6af1e7fe-01b4-4e17-c8f9-1c78197a8b8d"
      },
      "execution_count": null,
      "outputs": [
        {
          "output_type": "stream",
          "name": "stdout",
          "text": [
            "3\n",
            "5\n",
            "7\n",
            "9\n",
            "11\n",
            "13\n",
            "15\n",
            "17\n",
            "19\n"
          ]
        }
      ]
    },
    {
      "cell_type": "code",
      "source": [
        "#TASK-15\n",
        "myList = [0, 0, 0, 0, 0, 0, 0, 0, 0, 0]\n",
        "b = []\n",
        "index1 = 0\n",
        "index2 = 0\n",
        "index1 = 1\n",
        "b = myList\n",
        "while (index1 < 10):\n",
        "  myList[index1] = index1 + 1\n",
        "  index2 = 1\n",
        "  while (index2 < index1):\n",
        "    myList[index1] = b[index2-1] + myList[index2] - index1\n",
        "    index2 = index2 + 1\n",
        "  print(myList[index1])\n",
        "  index1 = index1 + 1"
      ],
      "metadata": {
        "colab": {
          "base_uri": "https://localhost:8080/"
        },
        "id": "VOAEXfKhPc25",
        "outputId": "d2de2096-f1ba-4702-a17f-119e12bddc0f"
      },
      "execution_count": null,
      "outputs": [
        {
          "output_type": "stream",
          "name": "stdout",
          "text": [
            "2\n",
            "0\n",
            "-1\n",
            "-5\n",
            "-11\n",
            "-22\n",
            "-40\n",
            "-70\n",
            "-119\n"
          ]
        }
      ]
    },
    {
      "cell_type": "code",
      "source": [
        "#CW\n",
        "var=\"Bangladesh\"\n",
        "for idx in range(len(var)):\n",
        "  print(var[idx],end=\"\")\n",
        "print()\n",
        "for idx in range(len(var)-1,-1,-1):\n",
        "  print(var[idx],end=\"\")\n",
        "print()\n",
        "lst1=[]\n",
        "for idx in range(len(var)):\n",
        "  lst1.append(var[idx])\n",
        "print(lst1)\n",
        "lst2=[]\n",
        "for idx in range(len(lst1)-1,-1,-1):\n",
        "  lst2.append(lst1[idx])\n",
        "print(lst2)"
      ],
      "metadata": {
        "colab": {
          "base_uri": "https://localhost:8080/"
        },
        "id": "9f8DGkWdc61C",
        "outputId": "4add7294-2aff-499b-ce6c-57cd2e0112ed"
      },
      "execution_count": null,
      "outputs": [
        {
          "output_type": "stream",
          "name": "stdout",
          "text": [
            "Bangladesh\n",
            "hsedalgnaB\n",
            "['B', 'a', 'n', 'g', 'l', 'a', 'd', 'e', 's', 'h']\n",
            "['h', 's', 'e', 'd', 'a', 'l', 'g', 'n', 'a', 'B']\n"
          ]
        }
      ]
    },
    {
      "cell_type": "code",
      "source": [
        "#TASK-17\n",
        "var=input() #7, 13, -5, 10, 6\n",
        "var=var.split(\", \")\n",
        "lst1=[]\n",
        "for i in var:\n",
        "  lst1.append(int(i))\n",
        "for x in range(len(lst1)):\n",
        "  mx=lst1[x]\n",
        "  mn=lst1[x]\n",
        "  break\n",
        "for y in range(len(lst1)):\n",
        "  if lst1[y]>mx:\n",
        "    mx=lst1[y]\n",
        "    m=y\n",
        "  if lst1[y]<mn:\n",
        "    mn=lst1[y]\n",
        "    n=y\n",
        "print(\"Smallest number in the list is {} which was found at index {}\".format(mn,n))\n",
        "print(\"Largest number in the list is {} which was found at index {}\".format(mx,m))"
      ],
      "metadata": {
        "colab": {
          "base_uri": "https://localhost:8080/"
        },
        "id": "U2eEVMFdr0di",
        "outputId": "86c51822-7c13-4077-dc7c-4119ed90d54f"
      },
      "execution_count": null,
      "outputs": [
        {
          "output_type": "stream",
          "name": "stdout",
          "text": [
            "7, 13, -5, 10, 6\n",
            "Smallest number in the list is -5 which was found at index 2\n",
            "Largest number in the list is 13 which was found at index 1\n"
          ]
        }
      ]
    },
    {
      "cell_type": "code",
      "source": [
        "#TASK-18\n",
        "var1=input()\n",
        "var2=input()\n",
        "var1=var1.split(\", \")\n",
        "var2=var2.split(\", \")\n",
        "lst1=[]\n",
        "for i in var1:\n",
        "  if i in var2:\n",
        "    lst1.append(i)\n",
        "print(lst1)"
      ],
      "metadata": {
        "colab": {
          "base_uri": "https://localhost:8080/"
        },
        "id": "JbYDZ3UTusG1",
        "outputId": "ef883c5b-9d48-4acd-88b5-d95542a574c9"
      },
      "execution_count": null,
      "outputs": [
        {
          "output_type": "stream",
          "name": "stdout",
          "text": [
            "1, 3, A, H, P\n",
            "A, G, 1, P, O\n",
            "['1', 'A', 'P']\n"
          ]
        }
      ]
    },
    {
      "cell_type": "code",
      "source": [
        "#TASK_19\n",
        "lst1= [1, 2, 2, 4, 5, 5, 7, 99, 200, 303, 70]\n",
        "lst2= [1, 1, 2, 3, 3, 3, 4, 5, 200, 500, -5]\n",
        "lst3=[]\n",
        "for i in lst1:\n",
        "  if i not in lst3:\n",
        "    lst3.append(i)\n",
        "for i in lst2:\n",
        "  if i not in lst3:\n",
        "    lst3.append(i)\n",
        "print(lst3)"
      ],
      "metadata": {
        "colab": {
          "base_uri": "https://localhost:8080/"
        },
        "id": "IDjDAKyK1zqg",
        "outputId": "db6ebd3d-7e86-4ec6-96bb-a6c642230f8c"
      },
      "execution_count": null,
      "outputs": [
        {
          "output_type": "stream",
          "name": "stdout",
          "text": [
            "[1, 2, 4, 5, 7, 99, 200, 303, 70, 3, 500, -5]\n"
          ]
        }
      ]
    }
  ]
}
