{
  "nbformat": 4,
  "nbformat_minor": 0,
  "metadata": {
    "colab": {
      "provenance": [],
      "authorship_tag": "ABX9TyOlIdJG4LFAfsVp3T5zAoFE",
      "include_colab_link": true
    },
    "kernelspec": {
      "name": "python3",
      "display_name": "Python 3"
    },
    "language_info": {
      "name": "python"
    }
  },
  "cells": [
    {
      "cell_type": "markdown",
      "metadata": {
        "id": "view-in-github",
        "colab_type": "text"
      },
      "source": [
        "<a href=\"https://colab.research.google.com/github/rafitboo/Introduction-to-python/blob/main/Lab%20Assignmennts/lab7(functions).ipynb\" target=\"_parent\"><img src=\"https://colab.research.google.com/assets/colab-badge.svg\" alt=\"Open In Colab\"/></a>"
      ]
    },
    {
      "cell_type": "code",
      "execution_count": null,
      "metadata": {
        "colab": {
          "base_uri": "https://localhost:8080/"
        },
        "id": "6-aRv-7jCCCh",
        "outputId": "f4d71d82-b280-4293-86bf-166ec398f9b8"
      },
      "outputs": [
        {
          "output_type": "stream",
          "name": "stdout",
          "text": [
            "7\n",
            "Odd!!\n"
          ]
        }
      ],
      "source": [
        "#TASK-1\n",
        "def even_checker(num):\n",
        "  if num%2==0:\n",
        "    print(\"Even!!\")\n",
        "  else:\n",
        "    print(\"Odd!!\")\n",
        "even_checker(int(input()))"
      ]
    },
    {
      "cell_type": "code",
      "source": [
        "#TASK-1r\n",
        "def even_checker(n):\n",
        "  if n%2==0:\n",
        "    return \"Even!!\"\n",
        "  else:\n",
        "    return \"Odd!!\"\n",
        "num=int(input())\n",
        "print(even_checker(num))"
      ],
      "metadata": {
        "colab": {
          "base_uri": "https://localhost:8080/"
        },
        "id": "jhHmOkFuF3ni",
        "outputId": "07661ab9-482a-43c9-a232-5e0089d5d979"
      },
      "execution_count": null,
      "outputs": [
        {
          "output_type": "stream",
          "name": "stdout",
          "text": [
            "6\n",
            "Even!!\n"
          ]
        }
      ]
    },
    {
      "cell_type": "code",
      "source": [
        "#TASK-2\n",
        "def fibonacci(num):\n",
        "  a=0\n",
        "  b=1\n",
        "  print(a,end=' ')\n",
        "  print(b,end=' ')\n",
        "  while a+b<=num:\n",
        "    c=a+b\n",
        "    print(c, end=' ')\n",
        "    a=b\n",
        "    b=c\n",
        "fibonacci(int(input()))"
      ],
      "metadata": {
        "colab": {
          "base_uri": "https://localhost:8080/"
        },
        "id": "OiNVLvydqHnR",
        "outputId": "43af0384-e798-4f80-a138-ee8c258676d3"
      },
      "execution_count": null,
      "outputs": [
        {
          "output_type": "stream",
          "name": "stdout",
          "text": [
            "1\n",
            "0 1 1 "
          ]
        }
      ]
    },
    {
      "cell_type": "code",
      "source": [
        "def fibonacci(num):\n",
        "  a=0\n",
        "  b=1\n",
        "  print(a,end=\" \")\n",
        "  print(b,end=\" \")\n",
        "  while a+b<=num:\n",
        "    c=a+b\n",
        "    print(c,end=\" \")\n",
        "    a=b\n",
        "    b=c\n",
        "fibonacci(5)"
      ],
      "metadata": {
        "colab": {
          "base_uri": "https://localhost:8080/"
        },
        "id": "N7X3epbWn18h",
        "outputId": "0cd7a1b1-940f-4b9d-8eba-e17c5b0802ce"
      },
      "execution_count": null,
      "outputs": [
        {
          "output_type": "stream",
          "name": "stdout",
          "text": [
            "0 1 1 2 3 5 "
          ]
        }
      ]
    },
    {
      "cell_type": "code",
      "source": [
        "#TASK-3\n",
        "def foo_moo(n):\n",
        "  if n%2==0 and n%3==0:\n",
        "    print(\"FooMoo\")\n",
        "  elif n%2==0:\n",
        "    print(\"Foo\")\n",
        "  elif n%3==0:\n",
        "    print(\"Moo\")\n",
        "  else:\n",
        "    print(\"Boo\")\n",
        "foo_moo(int(input(\"Enter a number : \")))"
      ],
      "metadata": {
        "colab": {
          "base_uri": "https://localhost:8080/"
        },
        "id": "dYcH50bgNpb2",
        "outputId": "7683606c-16aa-4db4-c717-1704909bb7ec"
      },
      "execution_count": null,
      "outputs": [
        {
          "output_type": "stream",
          "name": "stdout",
          "text": [
            "Enter a number : 6\n",
            "FooMoo\n"
          ]
        }
      ]
    },
    {
      "cell_type": "code",
      "source": [
        "#TASK-3r\n",
        "def foo_moo(n):\n",
        "  if n%2==0 and n%3==0:\n",
        "    return \"FooMoo\"\n",
        "  elif n%2==0:\n",
        "    return \"Foo\"\n",
        "  elif n%3==0:\n",
        "    return \"Moo\"\n",
        "  else:\n",
        "    return \"Boo\"\n",
        "n=int(input(\"Enter a number : \"))\n",
        "var=foo_moo(n)\n",
        "print(var)"
      ],
      "metadata": {
        "colab": {
          "base_uri": "https://localhost:8080/"
        },
        "id": "J_WM7GH9J0zz",
        "outputId": "9bc8b5e9-8a9f-4a57-e84f-9cef7c58681e"
      },
      "execution_count": null,
      "outputs": [
        {
          "output_type": "stream",
          "name": "stdout",
          "text": [
            "Enter a number : 8\n",
            "Foo\n"
          ]
        }
      ]
    },
    {
      "cell_type": "code",
      "source": [
        "#TASK-4\n",
        "def oplow(var):\n",
        "  count1=0\n",
        "  count2=0\n",
        "  for i in range(len(var)):\n",
        "    if 65<=ord(var[i])<=90:\n",
        "      count1+=1\n",
        "    if 97<=ord(var[i])<=122:\n",
        "      count2+=1\n",
        "  print(f\"No. of uppercase characters : {count1}\")\n",
        "  print(f\"No. of lowercase characters : {count2}\")\n",
        "var=input()\n",
        "oplow(var)"
      ],
      "metadata": {
        "colab": {
          "base_uri": "https://localhost:8080/"
        },
        "id": "WBRZlPYZTDYo",
        "outputId": "506b700d-7676-434e-f13c-ed8c374b4615"
      },
      "execution_count": null,
      "outputs": [
        {
          "output_type": "stream",
          "name": "stdout",
          "text": [
            "HELLo\n",
            "No. of uppercase characters : 4\n",
            "No. of lowercase characters : 1\n"
          ]
        }
      ]
    },
    {
      "cell_type": "code",
      "source": [
        "def oplow(var):\n",
        "  count1=0\n",
        "  count2=0\n",
        "  for i in range(len(var)):\n",
        "    if 65<=ord(var[i])<=90:\n",
        "      count1+=1\n",
        "    if 97<=ord(var[i])<=122:\n",
        "      count2+=1\n",
        "  return count1,count2\n",
        "var=input()\n",
        "out=oplow(var)\n",
        "x,y=out\n",
        "print(x)\n",
        "print(y)"
      ],
      "metadata": {
        "colab": {
          "base_uri": "https://localhost:8080/"
        },
        "id": "rt9T_MHdeLGP",
        "outputId": "d5048f52-4b34-4c7b-e30b-74354a04582b"
      },
      "execution_count": null,
      "outputs": [
        {
          "output_type": "stream",
          "name": "stdout",
          "text": [
            "HellO\n",
            "2\n",
            "3\n"
          ]
        }
      ]
    },
    {
      "cell_type": "code",
      "source": [
        "#TASK-5\n",
        "def cal_tax(age,salary,job):\n",
        "  if age<18 or job==\"president\" or salary<10000:\n",
        "    return 0\n",
        "  elif 10000<salary<20000:\n",
        "    return salary*0.05\n",
        "  elif salary>20000:\n",
        "    return salary*0.1\n",
        "age=int(input(\"Age :\"))\n",
        "salary=int(input(\"Salary :\"))\n",
        "job=input(\"job :\")\n",
        "job=job.lower()\n",
        "var=cal_tax(age,salary,job)\n",
        "print(var)"
      ],
      "metadata": {
        "colab": {
          "base_uri": "https://localhost:8080/"
        },
        "id": "wmNY6DG2XqpK",
        "outputId": "d5e429b3-14f7-4b88-9b7c-b078af626a74"
      },
      "execution_count": null,
      "outputs": [
        {
          "output_type": "stream",
          "name": "stdout",
          "text": [
            "Age :20\n",
            "Salary :22000\n",
            "job :president\n",
            "0\n"
          ]
        }
      ]
    },
    {
      "cell_type": "code",
      "source": [
        "#TASK-6\n",
        "def time(num):\n",
        "  yy=num//365\n",
        "  rem1=num%365\n",
        "  mm=rem1//30\n",
        "  dd=rem1%30\n",
        "  print(f\"{yy} years, {mm} months and {dd} days\")\n",
        "time(int(input(\"Days : \")))"
      ],
      "metadata": {
        "colab": {
          "base_uri": "https://localhost:8080/"
        },
        "id": "a0mWn5Y0a4Ga",
        "outputId": "097bf5a3-4204-45b6-c6f7-0d77325f4de3"
      },
      "execution_count": null,
      "outputs": [
        {
          "output_type": "stream",
          "name": "stdout",
          "text": [
            "Days : 4330\n",
            "11 years, 10 months and 15 days\n"
          ]
        }
      ]
    },
    {
      "cell_type": "code",
      "source": [
        "#TASK-6\n",
        "def time(num):\n",
        "  yy=num//365\n",
        "  rem1=num%365\n",
        "  mm=rem1//30\n",
        "  dd=rem1%30\n",
        "  return yy, mm, dd\n",
        "var=time(int(input(\"Days:\")))\n",
        "x,y,z=var\n",
        "print(f\"{x} years, {y} months and {z} days\")"
      ],
      "metadata": {
        "colab": {
          "base_uri": "https://localhost:8080/"
        },
        "id": "k995VymvfG1H",
        "outputId": "dcc117aa-e6b4-42ef-c6cf-16831d3106a8"
      },
      "execution_count": null,
      "outputs": [
        {
          "output_type": "stream",
          "name": "stdout",
          "text": [
            "Days:4330\n",
            "11 years, 10 months and 15 days\n"
          ]
        }
      ]
    },
    {
      "cell_type": "code",
      "source": [
        "#TASK-7 lab\n",
        "def show_palindrome(num):\n",
        "  var=''\n",
        "  for i in range(1,num+1,1):\n",
        "    var+=str(i)\n",
        "  for i in range(num-1,0,-1):\n",
        "    var+=str(i)\n",
        "  return var\n",
        "num=int(input(\"Enter a number : \"))\n",
        "print(show_palindrome(num))"
      ],
      "metadata": {
        "colab": {
          "base_uri": "https://localhost:8080/"
        },
        "id": "QRTQGoumsrsZ",
        "outputId": "dabc01e1-8d55-43ef-8709-4592f17b9cbc"
      },
      "execution_count": null,
      "outputs": [
        {
          "output_type": "stream",
          "name": "stdout",
          "text": [
            "Enter a number : 10\n",
            "12345678910987654321\n"
          ]
        }
      ]
    },
    {
      "cell_type": "code",
      "source": [
        "#TASK-7\n",
        "def show_palindrome(num):\n",
        "  var=''\n",
        "  for i in range(1,num+1,1):\n",
        "    var+=str(i)\n",
        "  for i in range(num-1,0,-1):\n",
        "    var+=str(i)\n",
        "  return var\n",
        "num=int(input(\"Enter a number : \"))\n",
        "print(show_palindrome(num))"
      ],
      "metadata": {
        "colab": {
          "base_uri": "https://localhost:8080/"
        },
        "id": "vIgw7Ni-ctnS",
        "outputId": "e715c781-fb1f-4415-d4c3-87e50f6280cb"
      },
      "execution_count": null,
      "outputs": [
        {
          "output_type": "stream",
          "name": "stdout",
          "text": [
            "Enter a number : 5\n",
            "123454321\n"
          ]
        }
      ]
    },
    {
      "cell_type": "code",
      "source": [
        "#TASK-8\n",
        "def show_palindrome(num):\n",
        "  var=''\n",
        "  for i in range(1,num+1,1):\n",
        "    var+=str(i)\n",
        "  for i in range(num-1,0,-1):\n",
        "    var+=str(i)\n",
        "  return var\n",
        "def show_palindrome_triangle(row):\n",
        "  for i in range(1,row+1):\n",
        "    for j in range(1,row+1-i):\n",
        "      print(\" \",end=\"\")\n",
        "    print(show_palindrome(i))\n",
        "    print()\n",
        "show_palindrome_triangle(5)"
      ],
      "metadata": {
        "colab": {
          "base_uri": "https://localhost:8080/"
        },
        "id": "Z5hJVoxCfSm7",
        "outputId": "64a91909-d923-44f7-c165-03684c7257de"
      },
      "execution_count": null,
      "outputs": [
        {
          "output_type": "stream",
          "name": "stdout",
          "text": [
            "    1\n",
            "\n",
            "   121\n",
            "\n",
            "  12321\n",
            "\n",
            " 1234321\n",
            "\n",
            "123454321\n",
            "\n"
          ]
        }
      ]
    },
    {
      "cell_type": "code",
      "source": [
        "#TASK-8\n",
        "def palin(num):\n",
        "  a=\"\"\n",
        "  for i in range(1,num+1):\n",
        "    a+=str(i)\n",
        "  b=a+a[-2::-1]\n",
        "  return b\n",
        "def palintri(num):\n",
        "  for row in range(1,num+1):\n",
        "    for hash in range(1,num+1-row):\n",
        "      print(\" \",end=\"\")\n",
        "    print(palin(row))\n",
        "    print()\n",
        "palintri(5)\n"
      ],
      "metadata": {
        "colab": {
          "base_uri": "https://localhost:8080/"
        },
        "id": "1Tpg4M4lr8OR",
        "outputId": "26909638-ae71-435a-893f-b474962b6a1f"
      },
      "execution_count": null,
      "outputs": [
        {
          "output_type": "stream",
          "name": "stdout",
          "text": [
            "    1\n",
            "\n",
            "   121\n",
            "\n",
            "  12321\n",
            "\n",
            " 1234321\n",
            "\n",
            "123454321\n",
            "\n"
          ]
        }
      ]
    },
    {
      "cell_type": "code",
      "source": [
        "#TASK-9\n",
        "import math\n",
        "def area_circumference_generator(radius):\n",
        "  area=math.pi*radius**2\n",
        "  ccf=2*math.pi*radius\n",
        "  var=[]\n",
        "  var.append(area)\n",
        "  var.append(ccf)\n",
        "  var=tuple(var)\n",
        "  print(var)\n",
        "  x,y=var\n",
        "  print(f\"Area of the circle is {x} and circumference is {y}\")\n",
        "area_circumference_generator(int(input(\"Radius : \")))\n"
      ],
      "metadata": {
        "colab": {
          "base_uri": "https://localhost:8080/"
        },
        "id": "fjsgUSmgiFxb",
        "outputId": "92b4d02b-2b56-4810-9b19-250060b894dc"
      },
      "execution_count": null,
      "outputs": [
        {
          "output_type": "stream",
          "name": "stdout",
          "text": [
            "Radius : 1\n",
            "(3.141592653589793, 6.283185307179586)\n",
            "Area of the circle is 3.141592653589793 and circumference is 6.283185307179586\n"
          ]
        }
      ]
    },
    {
      "cell_type": "code",
      "source": [
        "#TASK-9 lab\n",
        "import math\n",
        "def area_circumference_generator(rad):\n",
        "  area=math.pi*rad**2\n",
        "  ccf=2*math.pi*rad\n",
        "  var=(area,ccf)\n",
        "  return var\n",
        "rad=int(input(\"Radius : \"))\n",
        "a,b=area_circumference_generator(rad)\n",
        "var=(a,b)\n",
        "print(var)\n",
        "print(f\"Area of the circle is {a} and circumference is {b}\")"
      ],
      "metadata": {
        "colab": {
          "base_uri": "https://localhost:8080/"
        },
        "outputId": "113774c4-9dd5-4ef3-c6c9-c5afd0333450",
        "id": "r6u70PI71yta"
      },
      "execution_count": null,
      "outputs": [
        {
          "output_type": "stream",
          "name": "stdout",
          "text": [
            "Radius : 1\n",
            "(3.141592653589793, 6.283185307179586)\n",
            "Area of the circle is 3.141592653589793 and circumference is 6.283185307179586\n"
          ]
        }
      ]
    },
    {
      "cell_type": "code",
      "source": [
        "#TASK-10\n",
        "def make_square(var):\n",
        "  dict1={}\n",
        "  for i in range(var[0],var[1]+1,1):\n",
        "    dict1.update({i:i**2})\n",
        "  return dict1\n",
        "var=make_square((5,9))\n",
        "print(var)"
      ],
      "metadata": {
        "colab": {
          "base_uri": "https://localhost:8080/"
        },
        "id": "hG8rFm0IktWl",
        "outputId": "21dde506-9132-47d4-a5f5-e5acb6e79d38"
      },
      "execution_count": null,
      "outputs": [
        {
          "output_type": "stream",
          "name": "stdout",
          "text": [
            "{5: 25, 6: 36, 7: 49, 8: 64, 9: 81}\n"
          ]
        }
      ]
    },
    {
      "cell_type": "code",
      "source": [
        "#TASK-11\n",
        "def rem_duplicate(num):\n",
        "  lst=[]\n",
        "  for i in num:\n",
        "    if i not in lst:\n",
        "      lst.append(i)\n",
        "  lst=tuple(lst)\n",
        "  return lst\n",
        "num=(\"Hi\", 1, 2, 3, 3, \"Hi\",'a', 'a', [1,2])\n",
        "print(rem_duplicate(num))"
      ],
      "metadata": {
        "colab": {
          "base_uri": "https://localhost:8080/"
        },
        "id": "-g7Kz5UzxPiT",
        "outputId": "2f041641-0dba-42b2-edec-a4de4add0acd"
      },
      "execution_count": null,
      "outputs": [
        {
          "output_type": "stream",
          "name": "stdout",
          "text": [
            "('Hi', 1, 2, 3, 'a', [1, 2])\n"
          ]
        }
      ]
    },
    {
      "cell_type": "code",
      "source": [
        "#TASK-12\n",
        "#def func(lst):\n",
        "lst=[1, 2, 3, 3, 3, 3, 4, 5, 8, 8]\n",
        "lst1=lst.copy()\n",
        "for i in lst:\n",
        "  count=lst.count(i)\n",
        "  if count>2:\n",
        "    lst.pop(i)\n",
        "print(lst)\n",
        "print(len(lst1)-len(lst))"
      ],
      "metadata": {
        "colab": {
          "base_uri": "https://localhost:8080/"
        },
        "id": "RfnE5sqI4sqF",
        "outputId": "dcb225fc-f0ee-4fe0-bbde-ff819e37edfc"
      },
      "execution_count": null,
      "outputs": [
        {
          "output_type": "stream",
          "name": "stdout",
          "text": [
            "[1, 2, 3, 3, 4, 5, 8, 8]\n",
            "2\n"
          ]
        }
      ]
    },
    {
      "cell_type": "code",
      "source": [
        "#TASK-12\n",
        "def func(lst1):\n",
        "  lst2=lst1.copy()\n",
        "  for i in lst1:\n",
        "    count=lst1.count(i)\n",
        "    if count>2:\n",
        "      lst1.pop(i)\n",
        "  rem=len(lst2)-len(lst1)\n",
        "  print(lst1)\n",
        "  print(f\"Removed : {rem}\")\n",
        "lst1=[1, 2, 3, 3, 3, 3, 4, 5, 8, 8]\n",
        "func(lst1)"
      ],
      "metadata": {
        "colab": {
          "base_uri": "https://localhost:8080/"
        },
        "id": "f7j7wqFu7B1M",
        "outputId": "fd6f9e4b-e226-44ac-feca-3f822618adfa"
      },
      "execution_count": null,
      "outputs": [
        {
          "output_type": "stream",
          "name": "stdout",
          "text": [
            "[1, 2, 3, 3, 4, 5, 8, 8]\n",
            "Removed : 2\n"
          ]
        }
      ]
    },
    {
      "cell_type": "code",
      "source": [
        "#TASK-13\n",
        "def calculate(op,fo,so):\n",
        "  if op==\"+\":\n",
        "    return fo+so\n",
        "  if op==\"-\":\n",
        "    return fo-so\n",
        "  if op==\"/\":\n",
        "    return fo/so\n",
        "  if op==\"*\":\n",
        "    return fo*so\n",
        "op=input(\"Operator : \")\n",
        "fo=float(input(\"First operand : \"))\n",
        "so=float(input(\"Second operand : \"))\n",
        "print(calculate(op,fo,so))"
      ],
      "metadata": {
        "colab": {
          "base_uri": "https://localhost:8080/"
        },
        "id": "WCM9cJxU5HEM",
        "outputId": "4c16ff80-2220-46b3-b615-98de34ffd646"
      },
      "execution_count": null,
      "outputs": [
        {
          "output_type": "stream",
          "name": "stdout",
          "text": [
            "Operator : /\n",
            "First operand : 20\n",
            "Second operand : 10\n",
            "2.0\n"
          ]
        }
      ]
    },
    {
      "cell_type": "code",
      "source": [
        "#TASK_14 new\n",
        "def func(stg,num):\n",
        "  var1=\"\"\n",
        "  var2=\"\"\n",
        "  for i in range(len(stg)):\n",
        "    if i==0:\n",
        "      continue\n",
        "    if i%num!=0:\n",
        "      var1+=stg[i]\n",
        "    else:\n",
        "      var2+=stg[i]\n",
        "  return stg[0]+var1+var2\n",
        "stg=input()\n",
        "num=int(input())\n",
        "print(func(stg,num))"
      ],
      "metadata": {
        "colab": {
          "base_uri": "https://localhost:8080/"
        },
        "id": "1RZfO6fgSRq2",
        "outputId": "8e89d587-59a8-4567-8e04-6b24ddf03ff9"
      },
      "execution_count": null,
      "outputs": [
        {
          "output_type": "stream",
          "name": "stdout",
          "text": [
            "I love programming\n",
            "3\n",
            "I lveprgrmmngo oai\n"
          ]
        }
      ]
    },
    {
      "cell_type": "code",
      "source": [
        "#14\n",
        "def func(stg,num):\n",
        "  var1=stg[0]\n",
        "  var2=\"\"\n",
        "  for i in stg:\n",
        "    if stg.index(i)%num==0:\n",
        "      if stg.index(i)==0:\n",
        "        continue\n",
        "      else:\n",
        "        var2+=i\n",
        "    else:\n",
        "      var1+=i\n",
        "  return var1+var2\n",
        "stg=input()\n",
        "num=int(input())\n",
        "print(func(stg,num))"
      ],
      "metadata": {
        "colab": {
          "base_uri": "https://localhost:8080/"
        },
        "id": "sCPP3LEP0a81",
        "outputId": "aa717ec0-593d-46cc-d088-694c36321fbc"
      },
      "execution_count": null,
      "outputs": [
        {
          "output_type": "stream",
          "name": "stdout",
          "text": [
            "I love programming.\n",
            "3\n",
            "I lve prgrmmngooai.\n"
          ]
        }
      ]
    },
    {
      "cell_type": "code",
      "source": [
        "#TASK-15\n",
        "def grocery_summation(items,location=\"Dhanmondi\"):\n",
        "  dict1={\"Rice\":105,\"Potato\":20,\"Chicken\":250,\"Beef\":510,\"Oil\":85}\n",
        "  sum=0\n",
        "  for i in range(len(items)):\n",
        "    if items[i] in dict1.keys():\n",
        "      sum+=dict1[items[i]]\n",
        "  if location==\"Dhanmondi\":\n",
        "    sum+=30\n",
        "  else:\n",
        "    sum+=70\n",
        "  return sum\n",
        "items=[\"Rice\", \"Beef\", \"Rice\"]\n",
        "print(grocery_summation(items))"
      ],
      "metadata": {
        "id": "pXoB5-Fk6PXb",
        "colab": {
          "base_uri": "https://localhost:8080/"
        },
        "outputId": "cce79e36-e2d7-4489-a3d6-5c7ece3f4018"
      },
      "execution_count": null,
      "outputs": [
        {
          "output_type": "stream",
          "name": "stdout",
          "text": [
            "750\n"
          ]
        }
      ]
    },
    {
      "cell_type": "code",
      "source": [
        "#16\n",
        "def splitting_money(num):\n",
        "  fivhund=num//500\n",
        "  if fivhund!=0:\n",
        "    print(f\"500 TK : {fivhund} Note(s)\")\n",
        "  rem1=num%500\n",
        "  hund=rem1//100\n",
        "  if hund!=0:\n",
        "    print(f\"100 TK : {hund} Note(s)\")\n",
        "  rem2=rem1%100\n",
        "  fifty=rem2//50\n",
        "  if fifty!=0:\n",
        "    print(f\"50 TK : {fifty} Note(s)\")\n",
        "  rem3=rem2%50\n",
        "  twen=rem3//20\n",
        "  if twen!=0:\n",
        "    print(f\"20 TK : {twen} Note(s)\")\n",
        "  rem4=rem3%20\n",
        "  ten=rem4//10\n",
        "  if ten!=0:\n",
        "    print(f\"10 TK : {ten} Note(s)\")\n",
        "  rem5=rem4%10\n",
        "  five=rem5//5\n",
        "  if five!=0:\n",
        "    print(f\"5 TK : {five} Note(s)\")\n",
        "  rem6=rem5%5\n",
        "  two=rem6//2\n",
        "  if two!=0:\n",
        "    print(f\"2 TK : {two} Note(s)\")\n",
        "  rem7=rem6%2\n",
        "  one=rem7//1\n",
        "  if one!=0:\n",
        "    print(f\"1 TK : {one} Note(s)\")\n",
        "var=int(input(\"Amount : \"))\n",
        "splitting_money(var)"
      ],
      "metadata": {
        "colab": {
          "base_uri": "https://localhost:8080/"
        },
        "id": "mH42r5lcojHE",
        "outputId": "b3425723-5a93-48ab-a496-8023ff900099"
      },
      "execution_count": null,
      "outputs": [
        {
          "output_type": "stream",
          "name": "stdout",
          "text": [
            "Amount : 1000\n",
            "500 TK : 2 Note(s)\n"
          ]
        }
      ]
    },
    {
      "cell_type": "code",
      "source": [
        "#17\n",
        "def rem_odd(var):\n",
        "  lst=[]\n",
        "  for i in var:\n",
        "    if i%2==0:\n",
        "      lst.append(i)\n",
        "  return lst\n",
        "var=[11,2,3,4,5,2,0,5,3]\n",
        "print(rem_odd(var))"
      ],
      "metadata": {
        "colab": {
          "base_uri": "https://localhost:8080/"
        },
        "id": "FdO_ELPkuhxF",
        "outputId": "a02e6634-b2b9-4138-8bf9-4c6e6f4b7293"
      },
      "execution_count": null,
      "outputs": [
        {
          "output_type": "stream",
          "name": "stdout",
          "text": [
            "[2, 4, 2, 0]\n"
          ]
        }
      ]
    },
    {
      "cell_type": "code",
      "source": [
        "#18\n",
        "def fun(start,end,fst,sec):\n",
        "  sum=0\n",
        "  for i in range(start,end):\n",
        "    if i%fst==0 and i%sec==0:\n",
        "      continue\n",
        "    if i%fst==0:\n",
        "      sum+=i\n",
        "    if i%sec==0:\n",
        "      sum+=i\n",
        "  return sum\n",
        "start=int(input(\"Start : \"))\n",
        "end=int(input(\"End : \"))\n",
        "fst=int(input(\"First divisor : \"))\n",
        "sec=int(input(\"Second divisor : \"))\n",
        "var=fun(start,end,fst,sec)\n",
        "print(var)"
      ],
      "metadata": {
        "colab": {
          "base_uri": "https://localhost:8080/"
        },
        "id": "sOZRE6ujwb8R",
        "outputId": "b9fd1255-1064-42f3-a42f-b178109d79a7"
      },
      "execution_count": null,
      "outputs": [
        {
          "output_type": "stream",
          "name": "stdout",
          "text": [
            "Start : 5\n",
            "End : 11\n",
            "First divisor : 5\n",
            "Second divisor : 10\n",
            "5\n"
          ]
        }
      ]
    },
    {
      "cell_type": "code",
      "source": [
        "#19\n",
        "def fun(var):\n",
        "  var=var.lower()\n",
        "  store=97\n",
        "  flag=True\n",
        "  for i in range(10):\n",
        "    if chr(store) in var:\n",
        "      store+=1\n",
        "    else:\n",
        "      flag=False\n",
        "      break\n",
        "  if flag==True:\n",
        "    print(\"lol\"*5)\n",
        "  else:\n",
        "    print(\"lol\"*6)\n",
        "fun(\"ABBCDEFEFGHI\")"
      ],
      "metadata": {
        "colab": {
          "base_uri": "https://localhost:8080/"
        },
        "id": "tpVS0ZVPyCyk",
        "outputId": "014af21e-b665-43e3-fb54-24f3f699b0bb"
      },
      "execution_count": null,
      "outputs": [
        {
          "output_type": "stream",
          "name": "stdout",
          "text": [
            "lollollollollollol\n"
          ]
        }
      ]
    },
    {
      "cell_type": "code",
      "source": [
        "#20\n",
        "def individul_bonus_calculation(name,earning,goals,bon):\n",
        "  if goals>30:\n",
        "    bonus=10000\n",
        "  elif 20<=goals<=30:\n",
        "    bonus=5000\n",
        "  else:\n",
        "    bonus=0\n",
        "  total= int(goals*(bon/100*earning))+bonus\n",
        "  print(f\"{name} earned a bonus of {total} Taka for {goals} goals.\")\n",
        "individul_bonus_calculation(\"Neymar\", 1200000, 35, 5)"
      ],
      "metadata": {
        "colab": {
          "base_uri": "https://localhost:8080/"
        },
        "id": "HZsULmfD7iqv",
        "outputId": "72fb32ca-1592-4171-ee0b-5397682f087d"
      },
      "execution_count": null,
      "outputs": [
        {
          "output_type": "stream",
          "name": "stdout",
          "text": [
            "Neymar earned a bonus of 2110000 Taka for 35 goals.\n"
          ]
        }
      ]
    }
  ]
}
