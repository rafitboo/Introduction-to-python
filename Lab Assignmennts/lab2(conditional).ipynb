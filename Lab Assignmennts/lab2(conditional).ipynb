{
  "nbformat": 4,
  "nbformat_minor": 0,
  "metadata": {
    "colab": {
      "provenance": [],
      "authorship_tag": "ABX9TyOLRIkXQ9Omjzg6cj6DEHMh",
      "include_colab_link": true
    },
    "kernelspec": {
      "name": "python3",
      "display_name": "Python 3"
    },
    "language_info": {
      "name": "python"
    }
  },
  "cells": [
    {
      "cell_type": "markdown",
      "metadata": {
        "id": "view-in-github",
        "colab_type": "text"
      },
      "source": [
        "<a href=\"https://colab.research.google.com/github/rafitboo/Introduction-to-python/blob/main/Lab%20Assignmennts/lab2(conditional).ipynb\" target=\"_parent\"><img src=\"https://colab.research.google.com/assets/colab-badge.svg\" alt=\"Open In Colab\"/></a>"
      ]
    },
    {
      "cell_type": "markdown",
      "source": [],
      "metadata": {
        "id": "aduvKJm_Par4"
      }
    },
    {
      "cell_type": "code",
      "source": [
        "#TASK1\n",
        "num1=int(input(\"Enter first number : \"))\n",
        "num2=int(input(\"Enter second number : \"))\n",
        "print(\"Sum = \"+ str(num1+num2))\n",
        "print(\"Product = \"+ str(num1*num2))\n",
        "print(\"Difference = \"+ str(num1-num2))"
      ],
      "metadata": {
        "colab": {
          "base_uri": "https://localhost:8080/"
        },
        "id": "Z4ez5P5Q2fDV",
        "outputId": "34d262ef-a638-45ca-fe7f-705e2558e16c"
      },
      "execution_count": null,
      "outputs": [
        {
          "output_type": "stream",
          "name": "stdout",
          "text": [
            "Enter first number : 30\n",
            "Enter second number : 2\n",
            "Sum = 32\n",
            "Product = 60\n",
            "Difference = 28\n"
          ]
        }
      ]
    },
    {
      "cell_type": "code",
      "source": [
        "#TASK2\n",
        "radius=float(input(\"please input the radius of the circle: \"))\n",
        "import math\n",
        "math.pi\n",
        "area= math.pi * radius**2\n",
        "circumference= 2* math.pi * radius\n",
        "print(\"Area is \"+ str(area))\n",
        "print(\"Circumference is \"+ str(circumference))"
      ],
      "metadata": {
        "colab": {
          "base_uri": "https://localhost:8080/"
        },
        "id": "wv0iU4Ip3R0V",
        "outputId": "1dfa60f9-76ee-4a8c-bd45-808229771763"
      },
      "execution_count": null,
      "outputs": [
        {
          "output_type": "stream",
          "name": "stdout",
          "text": [
            "please input the radius of the circle: 3.5\n",
            "Area is 38.48451000647496\n",
            "Circumference is 21.991148575128552\n"
          ]
        }
      ]
    },
    {
      "cell_type": "code",
      "source": [
        "#TASK3\n",
        "first=int(input(\"Enter first number : \"))\n",
        "second=int(input(\"Enter second Number : \"))\n",
        "if first>second:\n",
        "  print(\"First is greater.\")\n",
        "elif second>first:\n",
        "  print(\"Second is greater.\")\n",
        "else :\n",
        "  print(\"The numbers are  equal.\")"
      ],
      "metadata": {
        "colab": {
          "base_uri": "https://localhost:8080/"
        },
        "id": "vZ5uVs9N7g2g",
        "outputId": "7dc4ae7f-7496-422e-c356-5b1ea69608fd"
      },
      "execution_count": null,
      "outputs": [
        {
          "output_type": "stream",
          "name": "stdout",
          "text": [
            "Enter first number : 15\n",
            "Enter second Number : 30\n",
            "second is greater\n"
          ]
        }
      ]
    },
    {
      "cell_type": "code",
      "source": [
        "#TASK4\n",
        "num1=int(input(\"Enter first number : \"))\n",
        "num2=int(input(\"Enter second number : \"))\n",
        "if num1>num2 :\n",
        "  print(num1-num2)\n",
        "elif num2>num1 :\n",
        "  print(num2-num1)\n",
        "elif num1==num2 :\n",
        "  print(0)"
      ],
      "metadata": {
        "colab": {
          "base_uri": "https://localhost:8080/"
        },
        "id": "HbCoqJXa8g8C",
        "outputId": "d8859785-40c7-4838-bfff-485ccbd5f08e"
      },
      "execution_count": null,
      "outputs": [
        {
          "output_type": "stream",
          "name": "stdout",
          "text": [
            "Enter first number : 5\n",
            "Enter second number : 5\n",
            "0\n"
          ]
        }
      ]
    },
    {
      "cell_type": "code",
      "source": [
        "#TASK5\n",
        "num=int(input(\"Please enter a number : \"))\n",
        "if num%2==0 :\n",
        "  print(\"The number is even\")\n",
        "elif num%2!=0 :\n",
        "  print(\"The number is odd\")"
      ],
      "metadata": {
        "colab": {
          "base_uri": "https://localhost:8080/"
        },
        "id": "FTa3hRiu9tqK",
        "outputId": "502ac8ea-b11c-40b6-c412-5d6d9202e9ae"
      },
      "execution_count": null,
      "outputs": [
        {
          "output_type": "stream",
          "name": "stdout",
          "text": [
            "Please enter a number : -44\n",
            "The number is even\n"
          ]
        }
      ]
    },
    {
      "cell_type": "code",
      "source": [
        "#TASK6\n",
        "num=int(input(\"Please enter a number : \"))\n",
        "if num%2==0 or num%5==0 :\n",
        "  print(num)\n",
        "else :\n",
        "  print(\"Not a multiple of 2 OR 5\")"
      ],
      "metadata": {
        "colab": {
          "base_uri": "https://localhost:8080/"
        },
        "id": "UJsVGYZqBNac",
        "outputId": "74c30159-844c-4fa4-fcb0-b7d609601901"
      },
      "execution_count": null,
      "outputs": [
        {
          "output_type": "stream",
          "name": "stdout",
          "text": [
            "Please enter a number : 7\n",
            "Not a multiple of 2 OR 5\n"
          ]
        }
      ]
    },
    {
      "cell_type": "code",
      "source": [
        "#TASK7\n",
        "num=int(input(\"Please enter a number : \"))\n",
        "if num%2==0 and num%5==0 :\n",
        "  print(\"Multiple of 2 and 5 both\")\n",
        "elif num%2==0 or num%5==0 :\n",
        "  print(num)\n",
        "else :\n",
        "  print(\"Not a multiple we want\")"
      ],
      "metadata": {
        "colab": {
          "base_uri": "https://localhost:8080/"
        },
        "id": "hvENl4sVCHKF",
        "outputId": "021283ca-f34b-4edc-ad51-d6dab0bd120a"
      },
      "execution_count": null,
      "outputs": [
        {
          "output_type": "stream",
          "name": "stdout",
          "text": [
            "Please enter a number : 6\n",
            "6\n"
          ]
        }
      ]
    },
    {
      "cell_type": "code",
      "source": [
        "#TASK8\n",
        "num=int(input(\"Please enter a number : \"))\n",
        "if  num%10==0 :\n",
        "  print(num)\n",
        "else:\n",
        "  print(\"Not multiple of 2 and 5 both\")"
      ],
      "metadata": {
        "colab": {
          "base_uri": "https://localhost:8080/"
        },
        "id": "7TTtT4RcEJi3",
        "outputId": "f209381c-423a-4b22-dce8-37c2020f66c2"
      },
      "execution_count": null,
      "outputs": [
        {
          "output_type": "stream",
          "name": "stdout",
          "text": [
            "Please enter a number : 6\n",
            "Not multiple of 2 and 5 both\n"
          ]
        }
      ]
    },
    {
      "cell_type": "code",
      "source": [
        "#TASK9\n",
        "sec=int(input(\"Please enter seconds : \"))\n",
        "hrs=sec//3600\n",
        "remaining=sec%3600\n",
        "mins=remaining//60\n",
        "secs=remaining%60\n",
        "print(\"Hours : \"+ str(hrs)+ \" Minutes : \" + str(mins)  + \" Seconds : \"+ str(secs))"
      ],
      "metadata": {
        "colab": {
          "base_uri": "https://localhost:8080/"
        },
        "id": "pCt30pCtE0Z-",
        "outputId": "937fb8cf-4733-4a23-c3cb-b4e609b5a759"
      },
      "execution_count": null,
      "outputs": [
        {
          "output_type": "stream",
          "name": "stdout",
          "text": [
            "Please enter seconds : 500\n",
            "Hours : 0 Minutes : 8 Seconds : 20\n"
          ]
        }
      ]
    },
    {
      "cell_type": "code",
      "source": [
        "#TASK10\n",
        "hrs=int(input(\"Hours worked : \"))\n",
        "if 0<=hrs<=168 :\n",
        "  if hrs<=40 :\n",
        "    print(hrs*200)\n",
        "  if hrs>40 :\n",
        "    print(8000 + ((hrs-40) * 300))\n",
        "if hrs<0 :\n",
        "  print(\"Hour cannot be negative\")\n",
        "if hrs>168 :\n",
        "  print(\"Impossible to work more than 168 hours weekly\")"
      ],
      "metadata": {
        "colab": {
          "base_uri": "https://localhost:8080/"
        },
        "id": "gLZzdFpqJ4Fr",
        "outputId": "e47d5d2e-0834-4e91-c031-ab7cbdeecc0e"
      },
      "execution_count": null,
      "outputs": [
        {
          "output_type": "stream",
          "name": "stdout",
          "text": [
            "Hours worked : 50\n",
            "11000\n"
          ]
        }
      ]
    },
    {
      "cell_type": "code",
      "source": [
        "#TASK11\n",
        "s=int(input(\"Enter a number : \"))\n",
        "if s < 100 :\n",
        "  print(3000 - 125*s**2)\n",
        "if s >= 100 :\n",
        "  print(12000/(4+(s**2)/14900))"
      ],
      "metadata": {
        "colab": {
          "base_uri": "https://localhost:8080/"
        },
        "id": "UyRu51GFkdsP",
        "outputId": "4c7633ea-6d9a-49de-db30-25eba0d5419d"
      },
      "execution_count": null,
      "outputs": [
        {
          "output_type": "stream",
          "name": "stdout",
          "text": [
            "Enter a number : 120\n",
            "2416.2162162162163\n"
          ]
        }
      ]
    },
    {
      "cell_type": "code",
      "source": [
        "#TASK12\n",
        "hour=int(input(\"What time is it(hours)? \"))\n",
        "if 0<=hour<=3 or 21<=hour<=23 or 7<=hour<=11 or 14<=hour<=15 or hour==18 :\n",
        "  print(\"Patience is a virtue\")\n",
        "elif 4<=hour<=6 :\n",
        "  print(\"Breakfast\")\n",
        "elif 12<=hour<=13 :\n",
        "  print(\"Lunch\")\n",
        "elif 16<=hour<=17 :\n",
        "  print(\"Snacks\")\n",
        "elif 19<=hour<=20 :\n",
        "  print(\"Dinner\")\n",
        "else :\n",
        "  print(\"Wrong time\")"
      ],
      "metadata": {
        "colab": {
          "base_uri": "https://localhost:8080/"
        },
        "id": "PrLzGC4gotsv",
        "outputId": "661a685c-b29f-4a54-f8c7-bfd162f533bf"
      },
      "execution_count": null,
      "outputs": [
        {
          "output_type": "stream",
          "name": "stdout",
          "text": [
            "What time is it(hours)? 56\n",
            "Wrong time\n"
          ]
        }
      ]
    },
    {
      "cell_type": "code",
      "source": [
        "#TASK13\n",
        "num=int(input(\"Please enter your marks : \"))\n",
        "if 0<=num<=100 :\n",
        "  if num>=90:\n",
        "    print(\"A\")\n",
        "  elif 80<=num<=89 :\n",
        "    print(\"B\")\n",
        "  elif 70<=num<=79 :\n",
        "    print(\"C\")\n",
        "  elif 60<=num<=69 :\n",
        "    print(\"D\")\n",
        "  elif 50<=num<=59 :\n",
        "    print(\"E\")\n",
        "  elif num<50 :\n",
        "    print(\"F\")\n",
        "else :\n",
        "  print(\"Please enter valid marks.\")"
      ],
      "metadata": {
        "colab": {
          "base_uri": "https://localhost:8080/"
        },
        "id": "FZT7BsdNskaH",
        "outputId": "907b243e-8864-4d01-f048-757fab27f7ba"
      },
      "execution_count": null,
      "outputs": [
        {
          "output_type": "stream",
          "name": "stdout",
          "text": [
            "Please enter your marks : 95\n",
            "A\n"
          ]
        }
      ]
    },
    {
      "cell_type": "code",
      "source": [
        "#TASK14\n",
        "distance=int(input(\"Enter the distance (in meters) : \"))\n",
        "time=int(input(\"Enter the time (in seconds) : \"))\n",
        "velo=(distance/1000) / (time/3600)\n",
        "if distance>=0 and time>=0 :\n",
        "  print(str(velo) + \" km/h\")\n",
        "  if 0<velo<60 :\n",
        "    print(\"Too slow. Needs more changes.\")\n",
        "  if 60<=velo<=90 :\n",
        "   print(\"Velocity is okay. The car is ready!\")\n",
        "  if velo>90 :\n",
        "   print(\"Too fast. Only a few changes should suffice\")\n",
        "else :\n",
        "  print(\"please input valid numbers.\")\n"
      ],
      "metadata": {
        "colab": {
          "base_uri": "https://localhost:8080/"
        },
        "id": "8s4Pj907vDHA",
        "outputId": "c8bfdeac-0d87-4259-e3db-7c1b042d7dd2"
      },
      "execution_count": null,
      "outputs": [
        {
          "output_type": "stream",
          "name": "stdout",
          "text": [
            "Enter the distance (in meters) : 25400\n",
            "Enter the time (in seconds) : 360\n",
            "253.99999999999997 km/h\n",
            "Too fast. Only a few changes should suffice\n"
          ]
        }
      ]
    },
    {
      "cell_type": "code",
      "source": [
        "#TASK15\n",
        "cgpa=float(input(\"what is your CGPA? \"))\n",
        "cred=int(input(\"How many credits have you completed? \"))\n",
        "if cred>=30:\n",
        "  if 3.80<=cgpa<=4.00:\n",
        "    if 3.80<=cgpa<=3.89:\n",
        "      print(\"The student is eligible for a waiver of 25 percent.\")\n",
        "    if 3.90<=cgpa<=3.94:\n",
        "      print(\"The student is eligible for a waiver of 50 percent.\")\n",
        "    if 3.95<=cgpa<=3.99:\n",
        "      print(\"The student is eligible for a waiver of 75 percent.\")\n",
        "    if cgpa==4.00:\n",
        "      print(\"The student is eligible for a waiver of 100 percent\")\n",
        "if cred<30 or cgpa<3.80 :\n",
        "  print(\"The student is not eligible for a waiver.\")"
      ],
      "metadata": {
        "colab": {
          "base_uri": "https://localhost:8080/"
        },
        "id": "1X86KvGo1eyp",
        "outputId": "029059f8-4454-4a4d-d66e-fdde7d7a962a"
      },
      "execution_count": null,
      "outputs": [
        {
          "output_type": "stream",
          "name": "stdout",
          "text": [
            "what is your CGPA? 3.7\n",
            "How many credits have you completed? 38\n",
            "The student is not eligible for a waiver.\n"
          ]
        }
      ]
    },
    {
      "cell_type": "code",
      "source": [
        "#TASK16\n",
        "p=5\n",
        "q=6\n",
        "r=9\n",
        "sum=0\n",
        "if p<12 :\n",
        "  print(r+2)\n",
        "else :\n",
        "  print(r+p)\n",
        "if q>20 :\n",
        "  print(r+19)\n",
        "elif q<=6 :\n",
        "  print(q+3)\n",
        "else :\n",
        "  print(p+q+r)\n",
        "if r>15:\n",
        "  print(r)\n",
        "elif r==0:\n",
        "  print(p+q)\n",
        "else :\n",
        "  print(p)\n",
        "if sum!=0:\n",
        "  print(3)\n",
        "else:\n",
        "  print(sum+32)\n",
        "if p>0 and r<10:\n",
        "  print(p+r)\n",
        "else:\n",
        "  print(p-r)"
      ],
      "metadata": {
        "colab": {
          "base_uri": "https://localhost:8080/"
        },
        "id": "BdqNYh8DCppu",
        "outputId": "e2a41663-8e75-4323-f319-3dfe7a158afd"
      },
      "execution_count": null,
      "outputs": [
        {
          "output_type": "stream",
          "name": "stdout",
          "text": [
            "11\n",
            "9\n",
            "5\n",
            "32\n",
            "14\n"
          ]
        }
      ]
    },
    {
      "cell_type": "code",
      "source": [
        "#TASK17\n",
        "var1=var2=var3=var4=var5=var6=var7=var8=var9=var10=False\n",
        "result1=result2=result3=result4=result5=result6=result7=result8=result9=result10=False\n",
        "var1=4>3-1\n",
        "var2=var1 and False\n",
        "var3=True\n",
        "var4=False\n",
        "var5=True\n",
        "var6=var3 and False\n",
        "result1=(var1 or var2) and (8 * 10 > 45)\n",
        "result2 = (var1 or var2) and (result1 and False)\n",
        "result3 = (var1 and result1) or result2\n",
        "result4 = (var1 or var2) or ((var3 and var1) and False)\n",
        "result5 = (var1 and var2) and (result3 or var1)\n",
        "result6 = ((var3 or var2) and not(result5)) or True\n",
        "result7 = (var4 and result1) and ((result1 and False) or True)\n",
        "result8 = ((var1 and result3) and (var5 or var6)) and True\n",
        "result9 = ((result2 and var2) or (result7 and var1)) and False\n",
        "result10 = not(var1 and True)\n",
        "print(result1)\n",
        "print(result2)\n",
        "print(result3)\n",
        "print(result4)\n",
        "print(result5)\n",
        "print(result6)\n",
        "print(result7)\n",
        "print(result8)\n",
        "print(result9)\n",
        "print(result10)"
      ],
      "metadata": {
        "colab": {
          "base_uri": "https://localhost:8080/"
        },
        "id": "nqM80trmC8DV",
        "outputId": "790c19e8-4dff-4ccf-9cf9-a19e238891be"
      },
      "execution_count": null,
      "outputs": [
        {
          "output_type": "stream",
          "name": "stdout",
          "text": [
            "True\n",
            "False\n",
            "True\n",
            "True\n",
            "False\n",
            "True\n",
            "False\n",
            "True\n",
            "False\n",
            "False\n"
          ]
        }
      ]
    },
    {
      "cell_type": "code",
      "source": [
        "#TASK18\n",
        "var1=var2=var3=var4=var5=var6=var7=var8=var9=var10=False\n",
        "result1=result2=result3=result4=result5=result6=result7=result8=result9=result10=False\n",
        "var1=((not True) or True) and False\n",
        "var2=var1 and False\n",
        "var3=True and not False\n",
        "var4=False\n",
        "var5=True\n",
        "var6=var3 and False\n",
        "result1=(var1 and var2) and (40 % 3) > 45 or (var5 and var6)\n",
        "result2=(var1 or var2) or (result1 and False)\n",
        "result3=(var1 and result1) or result2 or var5\n",
        "result4=(var1 or var2) or ((var3 and var1) and False)\n",
        "result5=(var1 and var2) and (result3 or var1)\n",
        "result6=((var3 or (not var2)) and (result5)) or True\n",
        "result7=(var4 and result1) and ((result1 and False) or True)\n",
        "result8=((var1 and result3) and ((not var5) or var6)) and True\n",
        "result9=((result2 and var2) or ((not result7) and var1)) and not False\n",
        "result10=not(var1 and True)\n",
        "print(result1)\n",
        "print(result2)\n",
        "print(result3)\n",
        "print(result4)\n",
        "print(result5)\n",
        "print(result6)\n",
        "print(result7)\n",
        "print(result8)\n",
        "print(result9)\n",
        "print(result10)\n"
      ],
      "metadata": {
        "colab": {
          "base_uri": "https://localhost:8080/"
        },
        "id": "cZMx4zZuGo--",
        "outputId": "e8af85bb-0d49-41e2-9a1a-4389b8235314"
      },
      "execution_count": null,
      "outputs": [
        {
          "output_type": "stream",
          "name": "stdout",
          "text": [
            "False\n",
            "False\n",
            "True\n",
            "False\n",
            "False\n",
            "True\n",
            "False\n",
            "False\n",
            "False\n",
            "True\n"
          ]
        }
      ]
    },
    {
      "cell_type": "code",
      "source": [
        "#TASK19\n",
        "var1=var2=var3=var4=var5=var6=var7=var8=var9=var10=False\n",
        "result1=result2=result3=result4=result5=result6=result7=result8=result9=result10=False\n",
        "var1=(not False or False) and True\n",
        "var2=var1 and True\n",
        "var3=False and not True\n",
        "var4=True\n",
        "var5=False\n",
        "var6=var3 and True\n",
        "result1=(var1 and var2) and ( 40 % 3 > 45) or (var5 and var6)\n",
        "result2=(var1 or var2) or (result1 and False)\n",
        "result3=(var1 and result1) or result2 or var5\n",
        "result4=(var1 or var2) or ((var3 and var1) and False)\n",
        "result5=(var1 and var2) and (result3 or var1)\n",
        "result6=((var3 or not var2) and (result5)) or True\n",
        "result7=(var4 and result1) and ((result1 and False) or True)\n",
        "result8=((var1 and result3) and (not var5 or var6)) and True\n",
        "result9=((result2 and var2) or (not result7 and var1)) and not False\n",
        "result10=not (var1 and True)\n",
        "print(result1)\n",
        "print(result2)\n",
        "print(result3)\n",
        "print(result4)\n",
        "print(result5)\n",
        "print(result6)\n",
        "print(result7)\n",
        "print(result8)\n",
        "print(result9)\n",
        "print(result10)\n"
      ],
      "metadata": {
        "colab": {
          "base_uri": "https://localhost:8080/"
        },
        "id": "IFskOrstJcbW",
        "outputId": "be94968c-d2f0-4e85-d599-b7de76d932b9"
      },
      "execution_count": null,
      "outputs": [
        {
          "output_type": "stream",
          "name": "stdout",
          "text": [
            "False\n",
            "True\n",
            "True\n",
            "True\n",
            "True\n",
            "True\n",
            "False\n",
            "True\n",
            "True\n",
            "False\n"
          ]
        }
      ]
    },
    {
      "cell_type": "code",
      "source": [
        "#TASK20\n",
        "num=int(input(\"Enter a number : \"))\n",
        "if num%2!=0 and num%5!=0 :\n",
        "  print(num)\n",
        "else:\n",
        "  print(\"NO\")"
      ],
      "metadata": {
        "id": "5Pq69SLVG1qF",
        "colab": {
          "base_uri": "https://localhost:8080/"
        },
        "outputId": "8ab155da-641d-4011-e082-f6b5aaa42566"
      },
      "execution_count": null,
      "outputs": [
        {
          "output_type": "stream",
          "name": "stdout",
          "text": [
            "Enter a number : 3\n",
            "3\n"
          ]
        }
      ]
    },
    {
      "cell_type": "code",
      "source": [
        "#TASK21\n",
        "num=int(input(\"Enter a number :  \"))\n",
        "if num%2!=0 or num%5!=0 :\n",
        "  print(num)\n",
        "else :\n",
        "  print(\"NO\")"
      ],
      "metadata": {
        "colab": {
          "base_uri": "https://localhost:8080/"
        },
        "id": "627AK3ELjstX",
        "outputId": "8fa12794-3279-4037-bbda-392f81548036"
      },
      "execution_count": null,
      "outputs": [
        {
          "output_type": "stream",
          "name": "stdout",
          "text": [
            "Enter a number :  20\n",
            "NO\n"
          ]
        }
      ]
    },
    {
      "cell_type": "code",
      "source": [
        "#TASK22\n",
        "num1=int(input(\"Enter canvas quantity : \"))\n",
        "num2=int(input(\"Enter paint tube quantity : \"))\n",
        "total=int((num1*120)+(num2*75))\n",
        "if 0<=total<=299 :\n",
        "  print(\"Previous total : \"+str(total))\n",
        "  print(\"new total after discount : \"+str(total))\n",
        "if 300<=total<=499 :\n",
        "  print(\"Previous total : \"+str(total))\n",
        "  ntl=int(total-10)\n",
        "  print(\"new total after discount : \"+str(ntl))\n",
        "if 500<=total<=749 :\n",
        "  print(\"Previous total : \"+str(total))\n",
        "  ntl=int(total-20)\n",
        "  print(\"new total after discount : \"+str(ntl))\n",
        "if 750<=total<=999 :\n",
        "  print(\"Previous total : \"+str(total))\n",
        "  ntl=int(total-50)\n",
        "  print(\"new total after discount : \"+str(ntl))\n",
        "if total>=1000 :\n",
        "  print(\"Previous total : \"+str(total))\n",
        "  ntl=int(total-150)\n",
        "  print(\"new total after discount : \"+str(ntl))"
      ],
      "metadata": {
        "colab": {
          "base_uri": "https://localhost:8080/"
        },
        "id": "vFZS9g0Glgog",
        "outputId": "a551ae88-1e0c-4a4d-fb58-6f2e2dd4c37e"
      },
      "execution_count": null,
      "outputs": [
        {
          "output_type": "stream",
          "name": "stdout",
          "text": [
            "Enter canvas quantity : 0\n",
            "Enter paint tube quantity : 3\n",
            "Previous total : 225\n",
            "new total after discount : 225\n"
          ]
        }
      ]
    },
    {
      "cell_type": "code",
      "source": [
        "#TASK23\n",
        "temp=int(input(\"Enter temperature(in fahrenheit : \"))\n",
        "temp=float((temp-32)*0.56)\n",
        "print(temp,\"degrees c\")\n",
        "if temp<20 :\n",
        "  print(\"Winter\")\n",
        "if 20<=temp<=25 :\n",
        "  print(\"Autumn\")\n",
        "if 25<temp<30 :\n",
        "  print(\"spring\")\n",
        "if temp>=30 :\n",
        "  print(\"Summer\")"
      ],
      "metadata": {
        "colab": {
          "base_uri": "https://localhost:8080/"
        },
        "id": "puRhP0Rgn8Vg",
        "outputId": "cfa4d2da-2428-453e-943a-39ac8295c0b5"
      },
      "execution_count": null,
      "outputs": [
        {
          "output_type": "stream",
          "name": "stdout",
          "text": [
            "Enter temperature(in fahrenheit : 76\n",
            "24.64 degrees c\n",
            "Autumn\n"
          ]
        }
      ]
    }
  ]
}