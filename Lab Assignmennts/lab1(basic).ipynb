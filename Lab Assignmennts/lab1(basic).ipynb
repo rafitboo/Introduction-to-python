{
  "nbformat": 4,
  "nbformat_minor": 0,
  "metadata": {
    "colab": {
      "provenance": [],
      "include_colab_link": true
    },
    "kernelspec": {
      "name": "python3",
      "display_name": "Python 3"
    },
    "language_info": {
      "name": "python"
    }
  },
  "cells": [
    {
      "cell_type": "markdown",
      "metadata": {
        "id": "view-in-github",
        "colab_type": "text"
      },
      "source": [
        "<a href=\"https://colab.research.google.com/github/rafitboo/Introduction-to-python/blob/main/Lab%20Assignmennts/lab1(basic).ipynb\" target=\"_parent\"><img src=\"https://colab.research.google.com/assets/colab-badge.svg\" alt=\"Open In Colab\"/></a>"
      ]
    },
    {
      "cell_type": "code",
      "source": [
        "#task1\n",
        "print(\"hello world\")"
      ],
      "metadata": {
        "colab": {
          "base_uri": "https://localhost:8080/"
        },
        "id": "b1kqMiMUFX81",
        "outputId": "a81502b6-8f0c-4e89-dd7e-fb39342c99c0"
      },
      "execution_count": null,
      "outputs": [
        {
          "output_type": "stream",
          "name": "stdout",
          "text": [
            "hello world\n"
          ]
        }
      ]
    },
    {
      "cell_type": "code",
      "source": [
        "#task2\n",
        "print(54+56)"
      ],
      "metadata": {
        "colab": {
          "base_uri": "https://localhost:8080/"
        },
        "id": "qAu1W9JCFYm0",
        "outputId": "c189c36c-1dfa-4f6f-f4cb-140e38160a50"
      },
      "execution_count": null,
      "outputs": [
        {
          "output_type": "stream",
          "name": "stdout",
          "text": [
            "110\n"
          ]
        }
      ]
    },
    {
      "cell_type": "code",
      "source": [
        "#task3\n",
        "season= \"Fall\"\n",
        "year= 2022\n",
        "print(season)\n",
        "print(year)"
      ],
      "metadata": {
        "colab": {
          "base_uri": "https://localhost:8080/"
        },
        "id": "wnnlIzHZGFDU",
        "outputId": "5ec7eade-a3ea-4023-9b40-7d7777d4f0ce"
      },
      "execution_count": null,
      "outputs": [
        {
          "output_type": "stream",
          "name": "stdout",
          "text": [
            "Fall\n",
            "2022\n"
          ]
        }
      ]
    },
    {
      "cell_type": "code",
      "source": [
        "#task4\n",
        "name1 = input(\"Please enter your name : \")\n",
        "name2 = input(\"Please enter your name : \")\n",
        "print(\"Your name is \"+ name1)\n",
        "print(\"Your name is \"+ name2)"
      ],
      "metadata": {
        "colab": {
          "base_uri": "https://localhost:8080/"
        },
        "id": "P4zmWGQLG34J",
        "outputId": "bd81efdb-3fc4-42aa-fd6d-0e02fba146c2"
      },
      "execution_count": null,
      "outputs": [
        {
          "output_type": "stream",
          "name": "stdout",
          "text": [
            "Please enter your name : john\n",
            "Please enter your name : sena\n",
            "Your name is john\n",
            "Your name is sena\n"
          ]
        }
      ]
    },
    {
      "cell_type": "code",
      "source": [
        "#task5\n",
        "var1=int(input(\"Enter first number : \"))\n",
        "var2=int(input(\"Enter second number : \"))\n",
        "print(str(var1)+\"^\"+ str(var2)+\": \" +str(var1**var2 ))"
      ],
      "metadata": {
        "colab": {
          "base_uri": "https://localhost:8080/"
        },
        "id": "fXGkF36KH_1L",
        "outputId": "e8d49949-2ef2-4165-d0eb-b2aa12eab5b9"
      },
      "execution_count": null,
      "outputs": [
        {
          "output_type": "stream",
          "name": "stdout",
          "text": [
            "Enter first number : 2\n",
            "Enter second number : 3\n",
            "2^3: 8\n"
          ]
        }
      ]
    },
    {
      "cell_type": "code",
      "source": [
        "#task6\n",
        "total=int(input(\"total weight :\"))\n",
        "remainder=int(total)%4\n",
        "result=int(total)-int(remainder)\n",
        "print(result)"
      ],
      "metadata": {
        "colab": {
          "base_uri": "https://localhost:8080/"
        },
        "id": "hT0cJM1zNC3y",
        "outputId": "82099cf5-0131-41d1-a8d1-3b4eb9c1e7cf"
      },
      "execution_count": null,
      "outputs": [
        {
          "output_type": "stream",
          "name": "stdout",
          "text": [
            "total weight :55\n",
            "52\n"
          ]
        }
      ]
    },
    {
      "cell_type": "code",
      "source": [
        "#task7\n",
        "A=int(input(\" A : \"))\n",
        "B=int(input(\" B : \"))\n",
        "C=int(input(\" C : \"))\n",
        "D=float(input(\" D : \"))\n",
        "result= A**C + B * A - D/3\n",
        "print(int(result))"
      ],
      "metadata": {
        "colab": {
          "base_uri": "https://localhost:8080/"
        },
        "id": "CgYSM37pNE-B",
        "outputId": "425f5a92-7590-454b-c3cf-f777dc0f9db4"
      },
      "execution_count": null,
      "outputs": [
        {
          "output_type": "stream",
          "name": "stdout",
          "text": [
            " A : 2\n",
            " B : 6\n",
            " C : 8\n",
            " D : 1.3\n",
            "267\n"
          ]
        }
      ]
    },
    {
      "cell_type": "code",
      "source": [
        "#task8\n",
        "Total=int(input(\"How many chocolates do you have?\"))\n",
        "result1=int(Total)//3\n",
        "print(\"Each friend will receive \"+ str(result1)+ \" chocolates\")\n",
        "result2=int(Total)%3\n",
        "print(\"The number of remaining chocolates is \"+str(result2))\n"
      ],
      "metadata": {
        "colab": {
          "base_uri": "https://localhost:8080/"
        },
        "id": "eyIKkallOXAi",
        "outputId": "a62bec90-2fea-4d24-9a17-68cd736d5218"
      },
      "execution_count": null,
      "outputs": [
        {
          "output_type": "stream",
          "name": "stdout",
          "text": [
            "How many chocolates do you have?50\n",
            "Each friend will receive 16 chocolates\n",
            "The number of remaining chocolates is 2\n"
          ]
        }
      ]
    },
    {
      "cell_type": "code",
      "source": [
        "#task11\n",
        "num=int(input(\"Enter a number : \"))\n",
        "if num%2==0 :\n",
        "  print(True)\n",
        "else :\n",
        "  print(False)"
      ],
      "metadata": {
        "colab": {
          "base_uri": "https://localhost:8080/"
        },
        "id": "R08DvUsKXrki",
        "outputId": "65bd389e-741c-40d7-8d6f-f093567170ea"
      },
      "execution_count": null,
      "outputs": [
        {
          "output_type": "stream",
          "name": "stdout",
          "text": [
            "Enter a number : 25\n",
            "False\n"
          ]
        }
      ]
    }
  ]
}