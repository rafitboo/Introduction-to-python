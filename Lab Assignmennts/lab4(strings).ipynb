{
  "nbformat": 4,
  "nbformat_minor": 0,
  "metadata": {
    "colab": {
      "provenance": [],
      "authorship_tag": "ABX9TyMknbzkI0czafecpXTD0Dhu",
      "include_colab_link": true
    },
    "kernelspec": {
      "name": "python3",
      "display_name": "Python 3"
    },
    "language_info": {
      "name": "python"
    }
  },
  "cells": [
    {
      "cell_type": "markdown",
      "metadata": {
        "id": "view-in-github",
        "colab_type": "text"
      },
      "source": [
        "<a href=\"https://colab.research.google.com/github/rafitboo/Introduction-to-python/blob/main/Lab%20Assignmennts/lab4(strings).ipynb\" target=\"_parent\"><img src=\"https://colab.research.google.com/assets/colab-badge.svg\" alt=\"Open In Colab\"/></a>"
      ]
    },
    {
      "cell_type": "code",
      "execution_count": null,
      "metadata": {
        "colab": {
          "base_uri": "https://localhost:8080/"
        },
        "id": "4mo4K97fFmej",
        "outputId": "89af8b60-5c96-4a09-e62e-a8188d80b96a"
      },
      "outputs": [
        {
          "output_type": "stream",
          "name": "stdout",
          "text": [
            "Enter a string : CSE110\n",
            "011ESC"
          ]
        }
      ],
      "source": [
        "#TASK-1\n",
        "var=input(\"Enter a string : \")\n",
        "for idx in range(len(var)-1,-1,-1):\n",
        "  print(var[idx],end=\"\")"
      ]
    },
    {
      "cell_type": "code",
      "source": [
        "#TASK-1\n",
        "var=input(\"Enter a string : \")\n",
        "print(var[::-1])"
      ],
      "metadata": {
        "colab": {
          "base_uri": "https://localhost:8080/"
        },
        "id": "tPuuSxvJ9hZZ",
        "outputId": "8f375687-98a8-466b-e190-fd008b18b663"
      },
      "execution_count": null,
      "outputs": [
        {
          "output_type": "stream",
          "name": "stdout",
          "text": [
            "Enter a string : tifar\n",
            "rafit\n"
          ]
        }
      ]
    },
    {
      "cell_type": "code",
      "source": [
        "#TASK-2\n",
        "var=input(\"String : \")\n",
        "index=int(input(\"Index : \"))\n",
        "x=\"\"\n",
        "for idx in range(index,-1,-1):\n",
        "  x+=var[idx]\n",
        "for idx in range(index+1,len(var),1):\n",
        "  x+=var[idx]\n",
        "print(x,end=\"\")"
      ],
      "metadata": {
        "colab": {
          "base_uri": "https://localhost:8080/"
        },
        "id": "DwiBgWBuJkl9",
        "outputId": "d3f74a1e-b595-4a30-d6ad-b2534c182182"
      },
      "execution_count": null,
      "outputs": [
        {
          "output_type": "stream",
          "name": "stdout",
          "text": [
            "String : rafit\n",
            "Index : 1\n",
            "arfit"
          ]
        }
      ]
    },
    {
      "cell_type": "code",
      "source": [
        "#TASK-3:\n",
        "var=input()\n",
        "for num in var:\n",
        "  if num!='1' and num!='0':\n",
        "    print(\"Not a binary number.\")\n",
        "    break\n",
        "else:\n",
        "  print(\"Binary number.\")"
      ],
      "metadata": {
        "colab": {
          "base_uri": "https://localhost:8080/"
        },
        "id": "R9Qc4pGbQJxL",
        "outputId": "a292d294-418b-4338-c00d-1c32c5421ed5"
      },
      "execution_count": null,
      "outputs": [
        {
          "output_type": "stream",
          "name": "stdout",
          "text": [
            "1j1j1\n",
            "Not a binary number.\n",
            "Not a binary number.\n",
            "Binary number.\n"
          ]
        }
      ]
    },
    {
      "cell_type": "code",
      "source": [
        "#TASK-4\n",
        "var=input(\"Enter a string : \")\n",
        "if var[-2::]==\"er\":\n",
        "  var1=var.replace(\"er\",\"est\")\n",
        "  print(var1)\n",
        "elif var[-3::]==\"est\" :\n",
        "  print(var)\n",
        "elif len(var)>3:\n",
        "  print(var+\"er\")\n",
        "else:\n",
        "  print(var)"
      ],
      "metadata": {
        "colab": {
          "base_uri": "https://localhost:8080/"
        },
        "id": "kjdo17TaYBlc",
        "outputId": "f3e8c06b-d4e3-4a2f-bb71-4d546264b360"
      },
      "execution_count": null,
      "outputs": [
        {
          "output_type": "stream",
          "name": "stdout",
          "text": [
            "Enter a string : nigg\n",
            "nigger\n"
          ]
        }
      ]
    },
    {
      "cell_type": "code",
      "source": [
        "#TASK-5:\n",
        "var=input(\"Enter a string : \")\n",
        "for x in range(0,len(var),1):\n",
        "  for y in range(0,x+1,1):\n",
        "    print(var[y],end=\"\")\n",
        "  print()\n",
        ""
      ],
      "metadata": {
        "colab": {
          "base_uri": "https://localhost:8080/"
        },
        "id": "PhtuJgZWQ634",
        "outputId": "e97076af-edf8-4ae1-c88b-4c91c255eec8"
      },
      "execution_count": null,
      "outputs": [
        {
          "output_type": "stream",
          "name": "stdout",
          "text": [
            "Enter a string : cse\n",
            "c\n",
            "cs\n",
            "cse\n"
          ]
        }
      ]
    },
    {
      "cell_type": "code",
      "source": [
        "#TASK-6:\n",
        "var=input(\"Enter a string : \")\n",
        "for idx in range(len(var)):\n",
        "  ascii=ord(var[idx])\n",
        "  print(str(var[idx])+\" : \"+str(ascii))"
      ],
      "metadata": {
        "colab": {
          "base_uri": "https://localhost:8080/"
        },
        "id": "My_uQCl4Rn3y",
        "outputId": "a65e0afc-c058-415e-a61c-d03feb0de1f8"
      },
      "execution_count": null,
      "outputs": [
        {
          "output_type": "stream",
          "name": "stdout",
          "text": [
            "Enter a string : abcdefghij\n",
            "a : 97\n",
            "b : 98\n",
            "c : 99\n",
            "d : 100\n",
            "e : 101\n",
            "f : 102\n",
            "g : 103\n",
            "h : 104\n",
            "i : 105\n",
            "j : 106\n"
          ]
        }
      ]
    },
    {
      "cell_type": "code",
      "source": [
        "var=input(\"Enter a string : \")\n",
        "for i in var :\n",
        "  ascii=ord(i)\n",
        "  print(str(i)+\" : \" +str(ascii))"
      ],
      "metadata": {
        "colab": {
          "base_uri": "https://localhost:8080/"
        },
        "id": "uFKDIaEtDWSo",
        "outputId": "6a802cfa-f453-4567-f24b-3edf77acbbff"
      },
      "execution_count": null,
      "outputs": [
        {
          "output_type": "stream",
          "name": "stdout",
          "text": [
            "Enter a string : ABC\n",
            "A : 65\n",
            "B : 66\n",
            "C : 67\n"
          ]
        }
      ]
    },
    {
      "cell_type": "code",
      "source": [
        "#TASK-7\n",
        "var=input(\"Enter a string : \")\n",
        "out=\"\"\n",
        "for idx in range(len(var)):\n",
        "  if 97<=ord(var[idx])<=121:\n",
        "    ascii=ord(var[idx])\n",
        "    ascii+=1\n",
        "    out+=chr(ascii)\n",
        "  if ord(var[idx])==32:\n",
        "    out+=\"!\"\n",
        "  if ord(var[idx])==122:\n",
        "    out+=\"a\"\n",
        "print(out)\n"
      ],
      "metadata": {
        "colab": {
          "base_uri": "https://localhost:8080/"
        },
        "id": "tDIx8QdyRehQ",
        "outputId": "359b19b2-dc54-45b9-be46-89e9e779c39f"
      },
      "execution_count": null,
      "outputs": [
        {
          "output_type": "stream",
          "name": "stdout",
          "text": [
            "Enter a string : the cow\n",
            "uif!dpx\n"
          ]
        }
      ]
    },
    {
      "cell_type": "code",
      "source": [
        "var=input(\"Enter a string : \")\n",
        "out=\"\"\n",
        "for i in var:\n",
        "  if 97<=ord(i)<=121:\n",
        "    ascii=ord(i)+1\n",
        "    out+=chr(ascii)\n",
        "  if ord(i)==32:\n",
        "    out+=\"!\"\n",
        "  if ord(i)==122 :\n",
        "    out+=\"a\"\n",
        "print(out)"
      ],
      "metadata": {
        "colab": {
          "base_uri": "https://localhost:8080/"
        },
        "id": "MNSrqfxID6tf",
        "outputId": "8b010b40-0e4c-47fc-b9cb-01d2db53fe4e"
      },
      "execution_count": null,
      "outputs": [
        {
          "output_type": "stream",
          "name": "stdout",
          "text": [
            "Enter a string : the cow\n",
            "uif!dpx\n"
          ]
        }
      ]
    },
    {
      "cell_type": "code",
      "source": [
        "#TASK-8\n",
        "var=input()\n",
        "var1=\"\"\n",
        "out=\"\"\n",
        "for idx in range(1,len(var),2):\n",
        "  var1+=var[idx]\n",
        "for idx in var1:\n",
        "  if 97<=ord(idx)<=122:\n",
        "    ascii=ord(idx)\n",
        "    ascii-=32\n",
        "    out+=chr(ascii)\n",
        "print(out)"
      ],
      "metadata": {
        "colab": {
          "base_uri": "https://localhost:8080/"
        },
        "id": "zEOebJYVfLKi",
        "outputId": "d5988eb0-8a2b-41d4-8455-ed005ecf9e44"
      },
      "execution_count": null,
      "outputs": [
        {
          "output_type": "stream",
          "name": "stdout",
          "text": [
            "abcdefghijklmnopqrstuvwxyz\n",
            "BDFHJLNPRTVXZ\n"
          ]
        }
      ]
    },
    {
      "cell_type": "code",
      "source": [
        "#TASK-9\n",
        "var=input()\n",
        "for x in range(len(var)):\n",
        "  if var[x:x+1:]==var[x+1:x+2:]:\n",
        "    continue\n",
        "  else:\n",
        "    print(var[x],end=\"\")"
      ],
      "metadata": {
        "colab": {
          "base_uri": "https://localhost:8080/"
        },
        "id": "KBE9MXhxq4ux",
        "outputId": "f4ac3584-7f46-483c-e1de-6370e039d375"
      },
      "execution_count": null,
      "outputs": [
        {
          "output_type": "stream",
          "name": "stdout",
          "text": [
            "aabbcdd\n",
            "abcd"
          ]
        }
      ]
    },
    {
      "cell_type": "code",
      "source": [
        "#TASk-10\n",
        "s=input()\n",
        "for i in range(len(s)):\n",
        "  if s[i]==\",\":\n",
        "    x=i\n",
        "s1=s[0:x:]\n",
        "s2=s[x+2:len(s):]\n",
        "s3=\"\"\n",
        "if len(s1)>=len(s2):\n",
        "  for i in range(len(s2)):\n",
        "    s3+=s2[i]\n",
        "elif len(s1)<=len(s2):\n",
        "  for i in range(len(s1)):\n",
        "    s3+=s1[i]\n",
        "final=\"\"\n",
        "if len(s1)>=len(s2):\n",
        "  for i in range(len(s2)):\n",
        "    final+=s1[i]+s2[i]\n",
        "print(final+s1[len(s3)::])\n",
        "if len(s2)>=len(s1):\n",
        "  for i in range(len(s1)):\n",
        "    final+=s1[i]+s2[i]\n",
        "print(final+s2[len(s3)::])"
      ],
      "metadata": {
        "colab": {
          "base_uri": "https://localhost:8080/"
        },
        "id": "lJwdnpdP1EF1",
        "outputId": "9fd96370-8477-4bf4-e392-a6ed6d67730b"
      },
      "execution_count": null,
      "outputs": [
        {
          "output_type": "stream",
          "name": "stdout",
          "text": [
            "ijkl, ABCDENDFGH\n",
            "\n",
            "iAjBkClDENDFGH\n"
          ]
        }
      ]
    },
    {
      "cell_type": "code",
      "source": [
        "#TASK-11\n",
        "i = 10\n",
        "while(i >= -20):\n",
        "    if(i < 0):\n",
        "        test = \" != \"\n",
        "        test = str(i//2) + test + str(int(i/2))\n",
        "    else:\n",
        "        test = \" == \"\n",
        "        test = str(i//2) + test + str(int(i/2))\n",
        "    print(test)\n",
        "    i -= 5"
      ],
      "metadata": {
        "id": "K_1L5UjMudqF",
        "colab": {
          "base_uri": "https://localhost:8080/"
        },
        "outputId": "a0a11b09-46d5-4dae-fcee-7c41bfd54007"
      },
      "execution_count": null,
      "outputs": [
        {
          "output_type": "stream",
          "name": "stdout",
          "text": [
            "5 == 5\n",
            "2 == 2\n",
            "0 == 0\n",
            "-3 != -2\n",
            "-5 != -5\n",
            "-8 != -7\n",
            "-10 != -10\n"
          ]
        }
      ]
    },
    {
      "cell_type": "code",
      "source": [
        "#Task-12\n",
        "test = \"\"\n",
        "i = 0\n",
        "j = 0\n",
        "k = 15\n",
        "test = \"-->\"\n",
        "while i < 5:\n",
        "    j = k - 1\n",
        "    k -= 1\n",
        "    while j > 10:\n",
        "        test = str(i + j) + \"-->\" + test\n",
        "        print(test)\n",
        "        j -= 1\n",
        "    i += 1"
      ],
      "metadata": {
        "colab": {
          "base_uri": "https://localhost:8080/"
        },
        "id": "c2zH2y7ITu81",
        "outputId": "b99ac59b-7a61-4670-b0f8-ec6198b62137"
      },
      "execution_count": null,
      "outputs": [
        {
          "output_type": "stream",
          "name": "stdout",
          "text": [
            "14-->-->\n",
            "13-->14-->-->\n",
            "12-->13-->14-->-->\n",
            "11-->12-->13-->14-->-->\n",
            "14-->11-->12-->13-->14-->-->\n",
            "13-->14-->11-->12-->13-->14-->-->\n",
            "12-->13-->14-->11-->12-->13-->14-->-->\n",
            "14-->12-->13-->14-->11-->12-->13-->14-->-->\n",
            "13-->14-->12-->13-->14-->11-->12-->13-->14-->-->\n",
            "14-->13-->14-->12-->13-->14-->11-->12-->13-->14-->-->\n"
          ]
        }
      ]
    },
    {
      "cell_type": "code",
      "source": [
        "#TASK-13\n",
        "test = \"\"\n",
        "i = 5\n",
        "j = 0\n",
        "k = 15\n",
        "while i< 10:\n",
        "    k-=1\n",
        "    j = k\n",
        "    while j > 10:\n",
        "        if (j % 2) == 0:\n",
        "            test = \"<--\"\n",
        "            test = str(test) + str(i) + str(2) + \"-->\" + str(int(j / 2))\n",
        "        else:\n",
        "            test = \"-->\"\n",
        "            test = \"-->\" + str(int(i / 2)) + str(test) + str(j)\n",
        "        print(test)\n",
        "        j = j-1\n",
        "    i+=1"
      ],
      "metadata": {
        "colab": {
          "base_uri": "https://localhost:8080/"
        },
        "id": "Mu43qaMqmbC_",
        "outputId": "98445fc8-14e4-4136-90c0-aa408aff6097"
      },
      "execution_count": null,
      "outputs": [
        {
          "output_type": "stream",
          "name": "stdout",
          "text": [
            "<--52-->7\n",
            "-->2-->13\n",
            "<--52-->6\n",
            "-->2-->11\n",
            "-->3-->13\n",
            "<--62-->6\n",
            "-->3-->11\n",
            "<--72-->6\n",
            "-->3-->11\n",
            "-->4-->11\n"
          ]
        }
      ]
    },
    {
      "cell_type": "code",
      "source": [
        "#TASK-14\n",
        "test = \"\"\n",
        "i = 5\n",
        "j = 0\n",
        "k = 15\n",
        "while (i< 10):\n",
        "    k-=1\n",
        "    j = k\n",
        "    while (j > 10 ):\n",
        "        if j % 2 == 0:\n",
        "            test = \"<--\"\n",
        "            test = test + str( i) + '3' + \"-->\" + str(j // 3)\n",
        "        else:\n",
        "            test = \"-->\"\n",
        "            test = \"-->\" + str((i // 3)) + test + str(j)\n",
        "        print(test)\n",
        "        j -=1\n",
        "    i+=1"
      ],
      "metadata": {
        "colab": {
          "base_uri": "https://localhost:8080/"
        },
        "id": "84bRz-HRrevm",
        "outputId": "96855209-5a08-43ab-9aaa-c8a8159ecefa"
      },
      "execution_count": null,
      "outputs": [
        {
          "output_type": "stream",
          "name": "stdout",
          "text": [
            "<--53-->4\n",
            "-->1-->13\n",
            "<--53-->4\n",
            "-->1-->11\n",
            "-->2-->13\n",
            "<--63-->4\n",
            "-->2-->11\n",
            "<--73-->4\n",
            "-->2-->11\n",
            "-->2-->11\n"
          ]
        }
      ]
    },
    {
      "cell_type": "code",
      "source": [
        "#TASK-15\n",
        "i=0\n",
        "j=0\n",
        "k=15\n",
        "test = '<--cat'\n",
        "while i < 5:\n",
        "    k -= 1\n",
        "    j = k\n",
        "    while j > 10:\n",
        "        if j % 2 == 0:\n",
        "            test += '-->'\n",
        "            test = test + str(i) + str(j // 2)\n",
        "        else:\n",
        "            test += '<--'\n",
        "            test = test + str(i // 2) + str(j)\n",
        "        print(test)\n",
        "        j-=1\n",
        "    i+=1\n",
        "\n"
      ],
      "metadata": {
        "colab": {
          "base_uri": "https://localhost:8080/"
        },
        "id": "V7W93tf7ubw1",
        "outputId": "af364721-6eff-4477-b775-85d0206ee57e"
      },
      "execution_count": null,
      "outputs": [
        {
          "output_type": "stream",
          "name": "stdout",
          "text": [
            "<--cat-->07\n",
            "<--cat-->07<--013\n",
            "<--cat-->07<--013-->06\n",
            "<--cat-->07<--013-->06<--011\n",
            "<--cat-->07<--013-->06<--011<--013\n",
            "<--cat-->07<--013-->06<--011<--013-->16\n",
            "<--cat-->07<--013-->06<--011<--013-->16<--011\n",
            "<--cat-->07<--013-->06<--011<--013-->16<--011-->26\n",
            "<--cat-->07<--013-->06<--011<--013-->16<--011-->26<--111\n",
            "<--cat-->07<--013-->06<--011<--013-->16<--011-->26<--111<--111\n"
          ]
        }
      ]
    },
    {
      "cell_type": "code",
      "source": [
        "#TASK16\n",
        "var=input(\"Enter a string : \")\n",
        "x=input(\"Enter a character : \")\n",
        "nvar=\"\"\n",
        "if x not in var:\n",
        "  if len(var)>3:\n",
        "    print(var[1:len(var)-1:1])\n",
        "  else :\n",
        "    print(var)\n",
        "else:\n",
        "  for idx in range(len(var)):\n",
        "    if var[idx]==x :\n",
        "      continue\n",
        "    else :\n",
        "      nvar+=var[idx]\n",
        "print(nvar)"
      ],
      "metadata": {
        "colab": {
          "base_uri": "https://localhost:8080/"
        },
        "id": "cdPsGRWd8G3H",
        "outputId": "b3a2a0f4-4d9d-444e-c987-094056ac98f5"
      },
      "execution_count": null,
      "outputs": [
        {
          "output_type": "stream",
          "name": "stdout",
          "text": [
            "Enter a string : hi\n",
            "Enter a character : a\n",
            "hi\n",
            "\n"
          ]
        }
      ]
    },
    {
      "cell_type": "code",
      "source": [
        "#TASK17\n",
        "var=input()\n",
        "nvar=\"\"\n",
        "for idx in range(len(var)) :\n",
        "  if var[idx]==\"-\":\n",
        "    continue\n",
        "  else:\n",
        "    nvar+=var[idx]\n",
        "    print(nvar, end=\"\\n\")"
      ],
      "metadata": {
        "colab": {
          "base_uri": "https://localhost:8080/"
        },
        "id": "f-EyBQBY-P0b",
        "outputId": "ac96e13a-2337-46a2-c387-dd418607b85e"
      },
      "execution_count": null,
      "outputs": [
        {
          "output_type": "stream",
          "name": "stdout",
          "text": [
            "This-is-CSE110\n",
            "T\n",
            "Th\n",
            "Thi\n",
            "This\n",
            "Thisi\n",
            "Thisis\n",
            "ThisisC\n",
            "ThisisCS\n",
            "ThisisCSE\n",
            "ThisisCSE1\n",
            "ThisisCSE11\n",
            "ThisisCSE110\n"
          ]
        }
      ]
    },
    {
      "cell_type": "code",
      "source": [
        "#TASK18\n",
        "var=input()\n",
        "num=int(input())\n",
        "if num%2==0:\n",
        "  print(str(var)*num*2)\n",
        "else :\n",
        "  print(str(var)*num*3)"
      ],
      "metadata": {
        "colab": {
          "base_uri": "https://localhost:8080/"
        },
        "id": "J45YQHSAALKw",
        "outputId": "b14a6b64-867c-43de-ab0a-af0db8dd3abd"
      },
      "execution_count": null,
      "outputs": [
        {
          "output_type": "stream",
          "name": "stdout",
          "text": [
            "CSE110\n",
            "3\n",
            "CSE110CSE110CSE110CSE110CSE110CSE110CSE110CSE110CSE110\n"
          ]
        }
      ]
    },
    {
      "cell_type": "code",
      "source": [
        "#TASK19\n",
        "var=input()\n",
        "out=\"\"\n",
        "store=ord(var[0])\n",
        "if 90<=ord(var[0])<=122:\n",
        "  out+=chr(store-32)\n",
        "else:\n",
        "  out+=var[0]\n",
        "store=ord(out[0])\n",
        "for i in var[1::] :\n",
        "  if 65<=store<=90 and  97<=ord(i)<=122 :\n",
        "    out+=i\n",
        "    store=ord(i)\n",
        "  elif 97<=store<=122 and 65<=ord(i)<=90 :\n",
        "    out+=i\n",
        "    store=ord(i)\n",
        "  elif 65<=store<=90 and 65<=ord(i)<=90 :\n",
        "    out+=chr(ord(i)+32)\n",
        "    store=ord(i)+32\n",
        "  elif 97<=store<=122 and 97<=ord(i)<=122 :\n",
        "    out+=chr(ord(i)-32)\n",
        "    store=ord(i)-32\n",
        "  elif ord(i)==32:\n",
        "    out+=i\n",
        "print(out)"
      ],
      "metadata": {
        "colab": {
          "base_uri": "https://localhost:8080/"
        },
        "id": "Vc4jcuMEA5pQ",
        "outputId": "0e2da67b-0772-4939-8600-37033f10981e"
      },
      "execution_count": null,
      "outputs": [
        {
          "output_type": "stream",
          "name": "stdout",
          "text": [
            "I       love         Python         Programming\n",
            "I       lOvE         pYtHoN         pRoGrAmMiNg\n"
          ]
        }
      ]
    }
  ]
}