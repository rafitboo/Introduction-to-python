{
  "nbformat": 4,
  "nbformat_minor": 0,
  "metadata": {
    "colab": {
      "provenance": [],
      "authorship_tag": "ABX9TyOq7YJTlY9mLAlv0LDxrK5a",
      "include_colab_link": true
    },
    "kernelspec": {
      "name": "python3",
      "display_name": "Python 3"
    },
    "language_info": {
      "name": "python"
    }
  },
  "cells": [
    {
      "cell_type": "markdown",
      "metadata": {
        "id": "view-in-github",
        "colab_type": "text"
      },
      "source": [
        "<a href=\"https://colab.research.google.com/github/rafitboo/Introduction-to-python/blob/main/Lab%20Assignmennts/lab6(tuple%2C_dictionary).ipynb\" target=\"_parent\"><img src=\"https://colab.research.google.com/assets/colab-badge.svg\" alt=\"Open In Colab\"/></a>"
      ]
    },
    {
      "cell_type": "code",
      "execution_count": null,
      "metadata": {
        "colab": {
          "base_uri": "https://localhost:8080/"
        },
        "id": "7p_EeUUc7nHx",
        "outputId": "7cc32c91-b08c-4d48-d372-809e83406bcd"
      },
      "outputs": [
        {
          "output_type": "stream",
          "name": "stdout",
          "text": [
            "400\n"
          ]
        }
      ],
      "source": [
        "#TASK-1\n",
        "a_tuple = (\"The Institute\", (\"Best Mystery & Thriller\", \"The Silent Patient\", 68821), 75717,\n",
        "[1, 2, 3, 400, 5, 6, 7], (\"Best Fiction\", \"The Testaments\", 98291))\n",
        "print(a_tuple[3][3])"
      ]
    },
    {
      "cell_type": "code",
      "source": [
        "#TASK-2\n",
        "var=input()\n",
        "var=var[1:len(var)-1:]\n",
        "lst=var.split(\", \")\n",
        "lst=lst[2:len(lst)-2:]\n",
        "for i in range(len(lst)):\n",
        "  lst[i]=int(lst[i])\n",
        "print(tuple(lst))"
      ],
      "metadata": {
        "colab": {
          "base_uri": "https://localhost:8080/"
        },
        "id": "lntPf0lH8D7k",
        "outputId": "aa78c25f-0654-4030-e291-482afc6e3854"
      },
      "execution_count": null,
      "outputs": [
        {
          "output_type": "stream",
          "name": "stdout",
          "text": [
            "(-10, 20, 25, 30, 40)\n",
            "(25,)\n"
          ]
        }
      ]
    },
    {
      "cell_type": "code",
      "source": [
        "#TASK-3\n",
        "book_info = (\n",
        "(\"Best Mystery & Thriller\",\"The Silent Patient\",68,821),\n",
        "(\"Best Horror\",\"The Institute\",75,717),\n",
        "(\"Best History & Biography\",\"The five\",31,783 ),\n",
        "(\"Best Fiction\",\"The Testaments\",98,291)\n",
        ")\n",
        "print(\"Size of the tuple is : \"+str(len(book_info)))\n",
        "for i in range(len(book_info)):\n",
        "  print(book_info[i])"
      ],
      "metadata": {
        "colab": {
          "base_uri": "https://localhost:8080/"
        },
        "id": "wl8TRMD79mZz",
        "outputId": "0c7a0d96-7ddf-46df-bb07-b5165015da07"
      },
      "execution_count": null,
      "outputs": [
        {
          "output_type": "stream",
          "name": "stdout",
          "text": [
            "Size of the tuple is : 4\n",
            "('Best Mystery & Thriller', 'The Silent Patient', 68, 821)\n",
            "('Best Horror', 'The Institute', 75, 717)\n",
            "('Best History & Biography', 'The five', 31, 783)\n",
            "('Best Fiction', 'The Testaments', 98, 291)\n"
          ]
        }
      ]
    },
    {
      "cell_type": "code",
      "source": [
        "#TASK-4\n",
        "book_info = (\n",
        "(\"Best Mystery & Thriller\",\"The Silent Patient\",68821),\n",
        "(\"Best Horror\",\"The Institute\",75717),\n",
        "(\"Best History & Biography\",\"The five\",31783 ),\n",
        "(\"Best Fiction\",\"The Testaments\",98291)\n",
        ")\n",
        "for i in range(len(book_info)):\n",
        "  print(str(book_info[i][1])+\" won the '\"+str(book_info[i][0])+\"' category with \"+str(book_info[i][2])+\" votes\")"
      ],
      "metadata": {
        "colab": {
          "base_uri": "https://localhost:8080/"
        },
        "id": "fpgaHTaM-RHb",
        "outputId": "04338fd6-9b91-4ee5-bfdc-bb07a6d446ea"
      },
      "execution_count": null,
      "outputs": [
        {
          "output_type": "stream",
          "name": "stdout",
          "text": [
            "The Silent Patient won the 'Best Mystery & Thriller' category with 68821 votes\n",
            "The Institute won the 'Best Horror' category with 75717 votes\n",
            "The five won the 'Best History & Biography' category with 31783 votes\n",
            "The Testaments won the 'Best Fiction' category with 98291 votes\n"
          ]
        }
      ]
    },
    {
      "cell_type": "code",
      "source": [],
      "metadata": {
        "id": "GcI-EcuRITKW"
      },
      "execution_count": null,
      "outputs": []
    },
    {
      "cell_type": "code",
      "source": [
        "#TASK-4\n",
        "book_info = (\n",
        "(\"Best Mystery & Thriller\",\"The Silent Patient\",68821),\n",
        "(\"Best Horror\",\"The Institute\",75717),\n",
        "(\"Best History & Biography\",\"The five\",31783 ),\n",
        "(\"Best Fiction\",\"The Testaments\",98291)\n",
        ")\n",
        "for i in range(len(book_info)):\n",
        "  print(\"{} won the '{}' category with {} votes\".format(book_info[i][1],book_info[i][0],book_info[i][2]))"
      ],
      "metadata": {
        "colab": {
          "base_uri": "https://localhost:8080/"
        },
        "id": "O-bZndW6j759",
        "outputId": "e86ae817-db87-432b-d2ea-de2e803bdc90"
      },
      "execution_count": null,
      "outputs": [
        {
          "output_type": "stream",
          "name": "stdout",
          "text": [
            "The Silent Patient won the 'Best Mystery & Thriller' category with 68821 votes\n",
            "The Institute won the 'Best Horror' category with 75717 votes\n",
            "The five won the 'Best History & Biography' category with 31783 votes\n",
            "The Testaments won the 'Best Fiction' category with 98291 votes\n"
          ]
        }
      ]
    },
    {
      "cell_type": "code",
      "source": [
        "#TASK-4\n",
        "book_info = (\n",
        "(\"Best Mystery & Thriller\",\"The Silent Patient\",68821),\n",
        "(\"Best Horror\",\"The Institute\",75717),\n",
        "(\"Best History & Biography\",\"The five\",31783 ),\n",
        "(\"Best Fiction\",\"The Testaments\",98291)\n",
        ")\n",
        "for i in range(len(book_info)):\n",
        "  x,y,z=book_info[i]\n",
        "  print(\"{} won the '{}' category with {} votes\".format(y,x,z))"
      ],
      "metadata": {
        "colab": {
          "base_uri": "https://localhost:8080/"
        },
        "id": "RRREny87IbxX",
        "outputId": "2e41f4c9-9950-4e27-a86f-4bcd7c340bcf"
      },
      "execution_count": null,
      "outputs": [
        {
          "output_type": "stream",
          "name": "stdout",
          "text": [
            "The Silent Patient won the 'Best Mystery & Thriller' category with 68821 votes\n",
            "The Institute won the 'Best Horror' category with 75717 votes\n",
            "The five won the 'Best History & Biography' category with 31783 votes\n",
            "The Testaments won the 'Best Fiction' category with 98291 votes\n"
          ]
        }
      ]
    },
    {
      "cell_type": "code",
      "source": [
        "#TASK-5\n",
        "var=(10, 8, 5, 2, 10, 15, 10, 8, 5, 8, 8, 2)\n",
        "num=int(input(\"Enter a number : \"))\n",
        "sum=0\n",
        "for i in range(len(var)):\n",
        "  if var[i]==num:\n",
        "    sum+=1\n",
        "print(str(num)+ \" appears \"+str(sum)+\" times in the tuple\")\n",
        "print(\"{} appears {} times in the tuple\".format(num,sum))"
      ],
      "metadata": {
        "colab": {
          "base_uri": "https://localhost:8080/"
        },
        "id": "eXEUQNBOBQBi",
        "outputId": "619ea675-b232-49af-b07a-db4de48a8343"
      },
      "execution_count": null,
      "outputs": [
        {
          "output_type": "stream",
          "name": "stdout",
          "text": [
            "Enter a number : 10\n",
            "10 appears 3 times in the tuple\n",
            "10 appears 3 times in the tuple\n"
          ]
        }
      ]
    },
    {
      "cell_type": "code",
      "source": [
        "#TASK-6\n",
        "var=(10, 20, 30, 40, 50, 60)\n",
        "var=list(var)\n",
        "tup=[]\n",
        "for i in range(len(var)-1,-1,-1):\n",
        "  tup.append(var[i])\n",
        "tup=tuple(tup)\n",
        "print(tup)"
      ],
      "metadata": {
        "colab": {
          "base_uri": "https://localhost:8080/"
        },
        "id": "w90c_9mbCy2x",
        "outputId": "eb306cbe-bf2a-4d22-b7f5-06b666c9a05d"
      },
      "execution_count": null,
      "outputs": [
        {
          "output_type": "stream",
          "name": "stdout",
          "text": [
            "(60, 50, 40, 30, 20, 10)\n"
          ]
        }
      ]
    },
    {
      "cell_type": "code",
      "source": [
        "#TASK-7\n",
        "dict1={'A':90, 'B': 0}\n",
        "dict2={'Ginie':18, 'Luna': 14}\n",
        "dict3={}\n",
        "dict3.update(dict1.items())\n",
        "dict3.update(dict2.items())\n",
        "print(dict3)"
      ],
      "metadata": {
        "colab": {
          "base_uri": "https://localhost:8080/"
        },
        "id": "g1LvZG34GYsQ",
        "outputId": "9f3d93d6-725d-45e0-9aed-18f29211cc75"
      },
      "execution_count": null,
      "outputs": [
        {
          "output_type": "stream",
          "name": "stdout",
          "text": [
            "{'A': 90, 'B': 0, 'Ginie': 18, 'Luna': 14}\n"
          ]
        }
      ]
    },
    {
      "cell_type": "code",
      "source": [
        "#TASK-8\n",
        "num=int(input(\"How many items ? \"))\n",
        "dic={}\n",
        "for i in range(num):\n",
        "  key=input(\"Enter key : \")\n",
        "  value=int(input(\"Enter value :\"))\n",
        "  dic.update({key:value})\n",
        "sum=0\n",
        "for i in dic.values():\n",
        "  sum+=i\n",
        "avg=sum//num\n",
        "print(\"Average is {}.\".format(avg))"
      ],
      "metadata": {
        "colab": {
          "base_uri": "https://localhost:8080/"
        },
        "id": "35rHWuAbKr2Q",
        "outputId": "93a4ecf3-e313-4c62-f389-ae8f1bddf76a"
      },
      "execution_count": null,
      "outputs": [
        {
          "output_type": "stream",
          "name": "stdout",
          "text": [
            "How many items ? 3\n",
            "Enter key : jon\n",
            "Enter value :100\n",
            "Enter key : dan\n",
            "Enter value :100\n",
            "Enter key : rob\n",
            "Enter value :100\n",
            "Average is 100.\n"
          ]
        }
      ]
    },
    {
      "cell_type": "code",
      "source": [
        "#task-9\n",
        "marks = {'Cierra Vega': 175, 'Alden Cantrell': 200, 'Kierra Gentry': 165, 'Pierre Cox': 190}\n",
        "num=int(input(\"Enter a number : \"))\n",
        "dic={}\n",
        "for k,v in marks.items():\n",
        "  if v>=num:\n",
        "    dic.update({k:v})\n",
        "print(dic)"
      ],
      "metadata": {
        "colab": {
          "base_uri": "https://localhost:8080/"
        },
        "id": "1rbEa7CuNAuf",
        "outputId": "4a2cd165-65f6-45b5-a880-6bfbcc8ccf6c"
      },
      "execution_count": null,
      "outputs": [
        {
          "output_type": "stream",
          "name": "stdout",
          "text": [
            "Ente a number : 190\n",
            "{'Alden Cantrell': 200, 'Pierre Cox': 190}\n"
          ]
        }
      ]
    },
    {
      "cell_type": "code",
      "source": [
        "#TASK-10\n",
        "var={'sci fi': 50, 'mystery': 20, 'horror': 14, 'young_adult': 2, 'adventure':9}\n",
        "lst1=[]\n",
        "for i in var.values():\n",
        "  lst1.append(i)\n",
        "for i in range(len(lst1)):\n",
        "  if i==0:\n",
        "    mx=lst1[i]\n",
        "  if lst1[i]>mx:\n",
        "    mx=lst1[i]\n",
        "for k,v in var.items():\n",
        "  if v==mx:\n",
        "    print(\"The highest selling book genre is '\"+str(k)+\"' and the number of books sold are \"+str(v)+\".\")"
      ],
      "metadata": {
        "colab": {
          "base_uri": "https://localhost:8080/"
        },
        "id": "Q6BpVFSVROF9",
        "outputId": "98b17a40-e1f5-4a57-c58b-d546be9e37ae"
      },
      "execution_count": null,
      "outputs": [
        {
          "output_type": "stream",
          "name": "stdout",
          "text": [
            "The highest selling book genre is 'sci fi' and the number of books sold are 50.\n"
          ]
        }
      ]
    },
    {
      "cell_type": "code",
      "source": [
        "var={'sci fi': 50, 'mystery': 20, 'horror': 14, 'young_adult': 2, 'adventure':9}\n",
        "lst=[]\n",
        "for i in var.values():\n",
        "  lst.append(i)\n",
        "for i in range(len(lst)):\n",
        "  if i==0:\n",
        "    mx=lst[i]\n",
        "  if lst[i]>mx:\n",
        "    mx=lst[i]\n",
        "for k,v in var.items():\n",
        "  if v==mx:\n",
        "    print(k,v )"
      ],
      "metadata": {
        "colab": {
          "base_uri": "https://localhost:8080/"
        },
        "id": "sjcFp1MtMROG",
        "outputId": "766074df-255a-46cc-d55a-3b3223c0e0dd"
      },
      "execution_count": null,
      "outputs": [
        {
          "output_type": "stream",
          "name": "stdout",
          "text": [
            "sci fi 50\n"
          ]
        }
      ]
    },
    {
      "cell_type": "code",
      "source": [
        "#TASK-11\n",
        "var=input()\n",
        "var=var[1:len(var)-1:]\n",
        "var=var.lower()\n",
        "keys=[]\n",
        "for i in range(len(var)):\n",
        "  if var[i]==chr(32):\n",
        "    continue\n",
        "  if var[i] not in keys:\n",
        "    keys.append(var[i])\n",
        "values=[]\n",
        "count=0\n",
        "for i in keys:\n",
        "  for j in var:\n",
        "    if i==j:\n",
        "      count+=1\n",
        "  values.append(count)\n",
        "  count=0\n",
        "dic={}\n",
        "for i in range(len(keys)):\n",
        "  dic.update({keys[i]:values[i]})\n",
        "print(dic)"
      ],
      "metadata": {
        "colab": {
          "base_uri": "https://localhost:8080/"
        },
        "id": "nbnbaZx6aB3H",
        "outputId": "afe5288d-5ca5-410b-ef95-0719d2eb40af"
      },
      "execution_count": null,
      "outputs": [
        {
          "output_type": "stream",
          "name": "stdout",
          "text": [
            "\"Python programming is fun\"\n",
            "['p', 'y', 't', 'h', 'o', 'n', 'r', 'g', 'a', 'm', 'i', 's', 'f', 'u']\n",
            "{'p': 2, 'y': 1, 't': 1, 'h': 1, 'o': 2, 'n': 3, 'r': 2, 'g': 2, 'a': 1, 'm': 2, 'i': 2, 's': 1, 'f': 1, 'u': 1}\n"
          ]
        }
      ]
    },
    {
      "cell_type": "code",
      "source": [
        "#TASK-11\n",
        "var=input()\n",
        "var=var[1:len(var)-1:]\n",
        "var=var.lower()\n",
        "var1=\"\"\n",
        "for i in range(len(var)):\n",
        "  if var[i]==\" \":\n",
        "    continue\n",
        "  else:\n",
        "    var1+=var[i]\n",
        "#print(var1)\n",
        "dic={}\n",
        "for i in var1:\n",
        "  if i in dic.keys():\n",
        "    dic[i]+=1\n",
        "  else:\n",
        "    dic[i]=1\n",
        "print(dic)"
      ],
      "metadata": {
        "colab": {
          "base_uri": "https://localhost:8080/"
        },
        "id": "e_h2HVt8v-4b",
        "outputId": "4495a508-5a54-406d-e9f2-0620964276e6"
      },
      "execution_count": null,
      "outputs": [
        {
          "output_type": "stream",
          "name": "stdout",
          "text": [
            "\"Python programming is fun\"\n",
            "{'p': 2, 'y': 1, 't': 1, 'h': 1, 'o': 2, 'n': 3, 'r': 2, 'g': 2, 'a': 1, 'm': 2, 'i': 2, 's': 1, 'f': 1, 'u': 1}\n"
          ]
        }
      ]
    },
    {
      "cell_type": "code",
      "source": [
        "#TASK-12\n",
        "dict1 ={'A': [1, 2, 3, 4], 'b': ['1', '2'], \"c\": [5, 6, 7]}\n",
        "count=0\n",
        "for v1 in dict1.values():\n",
        "  for v2 in v1:\n",
        "    count+=1\n",
        "print(count)"
      ],
      "metadata": {
        "colab": {
          "base_uri": "https://localhost:8080/"
        },
        "id": "VgMIR1csoMQ4",
        "outputId": "66eed028-dfb9-43b9-9983-f041fe6ded08"
      },
      "execution_count": null,
      "outputs": [
        {
          "output_type": "stream",
          "name": "stdout",
          "text": [
            "9\n"
          ]
        }
      ]
    },
    {
      "cell_type": "code",
      "source": [
        "#TASK-13\n",
        "lst=[(\"a\", 1), (\"b\", 2), (\"a\", 3), (\"b\", 1), (\"a\", 2), (\"c\", 1)]\n",
        "dict={}\n",
        "for k,v in lst:\n",
        "  if k in dict1:\n",
        "    dict1[k].append(v)\n",
        "  else:\n",
        "    dict1[k]=[v]\n",
        "print(dict1)"
      ],
      "metadata": {
        "colab": {
          "base_uri": "https://localhost:8080/"
        },
        "id": "Ai00EdYQ5nUP",
        "outputId": "f1141dab-19ed-4608-e2a9-4d7c6baa9d9e"
      },
      "execution_count": null,
      "outputs": [
        {
          "output_type": "stream",
          "name": "stdout",
          "text": [
            "{'a': [1, 3, 2], 'b': [2, 1], 'c': [1]}\n"
          ]
        }
      ]
    },
    {
      "cell_type": "code",
      "source": [
        "#TASK-13\n",
        "lst= [(\"a\", 1), (\"b\", 2), (\"a\", 3), (\"b\", 1), (\"a\", 2), (\"c\", 1)]\n",
        "dict1={}\n",
        "for k,v in lst:\n",
        "  if k in dict1:\n",
        "    dict1[k].append(v)\n",
        "  else:\n",
        "    dict1[k]=[v]\n",
        "print(dict1)"
      ],
      "metadata": {
        "colab": {
          "base_uri": "https://localhost:8080/"
        },
        "id": "HoMFq_1BPzM1",
        "outputId": "84828fdf-6bdc-4fc5-96b4-4ebf957cfc37"
      },
      "execution_count": null,
      "outputs": [
        {
          "output_type": "stream",
          "name": "stdout",
          "text": [
            "{'a': [1, 3, 2], 'b': [2, 1], 'c': [1]}\n"
          ]
        }
      ]
    },
    {
      "cell_type": "code",
      "source": [
        "#even\n",
        "print(-7+4-(8+22%6)/3)"
      ],
      "metadata": {
        "colab": {
          "base_uri": "https://localhost:8080/"
        },
        "id": "60JOfLz6Q_aJ",
        "outputId": "2d968bb7-d637-486a-d4e2-999448d215ab"
      },
      "execution_count": null,
      "outputs": [
        {
          "output_type": "stream",
          "name": "stdout",
          "text": [
            "-7.0\n"
          ]
        }
      ]
    },
    {
      "cell_type": "code",
      "source": [
        "#odd\n",
        "print(15+3-(6-(7.33333333333333334%8))*3)"
      ],
      "metadata": {
        "colab": {
          "base_uri": "https://localhost:8080/"
        },
        "id": "aR5Rm2sOPpCR",
        "outputId": "e3e2154a-e476-4fb5-b5a2-66ced82989ba"
      },
      "execution_count": null,
      "outputs": [
        {
          "output_type": "stream",
          "name": "stdout",
          "text": [
            "22.0\n"
          ]
        }
      ]
    },
    {
      "cell_type": "code",
      "source": [
        "#TASK-14\n",
        "dict1 = {'a':59 , 'b':-82 , 'c':5 , 'd':-81 , 'e':53}\n",
        "for i in dict1:\n",
        "    j = 0\n",
        "    k = 22\n",
        "    while j < 5:\n",
        "        if j % 2 == 0:\n",
        "            k = dict1[i] + j - (8 + k % 6) / 3\n",
        "            dict1[i] = dict1[i]+ int(k)\n",
        "        else:\n",
        "            k = dict1[i]+ j - (6 - k % 8) * 3\n",
        "            dict1[i] = dict1[i] - int(k)\n",
        "        j += 1\n",
        "    print(int(k))\n",
        "    print(i + \" -> \" + str(dict1[i]))\n",
        "\n"
      ],
      "metadata": {
        "id": "y1na7gtIAiZ3",
        "outputId": "52da3de6-4fe6-4ee2-8d22-72cf0b77b136",
        "colab": {
          "base_uri": "https://localhost:8080/"
        }
      },
      "execution_count": null,
      "outputs": [
        {
          "output_type": "stream",
          "name": "stdout",
          "text": [
            "8\n",
            "a -> 17\n",
            "10\n",
            "b -> 19\n",
            "2\n",
            "c -> 5\n",
            "-7\n",
            "d -> -14\n",
            "2\n",
            "e -> 5\n"
          ]
        }
      ]
    },
    {
      "cell_type": "code",
      "source": [
        "#TASK-15\n",
        "var=[(2, 3), (4, 5), (6, 7), (2, 8)]\n",
        "lst=[]\n",
        "for i in var:\n",
        "  x,y=i\n",
        "  mul=x*y\n",
        "  lst.append(mul)\n",
        "print(lst)"
      ],
      "metadata": {
        "colab": {
          "base_uri": "https://localhost:8080/"
        },
        "id": "Ls4c1-ZBJ_ej",
        "outputId": "ceea6f8b-3dc5-4539-bb54-79d2c60b7672"
      },
      "execution_count": null,
      "outputs": [
        {
          "output_type": "stream",
          "name": "stdout",
          "text": [
            "[6, 20, 42, 16]\n"
          ]
        }
      ]
    },
    {
      "cell_type": "code",
      "source": [
        "#TASK-16\n",
        "tup=([1, 2, 3], [4, 5, 6], [7, 8, 9], [10, 11, 12])\n",
        "tup=list(tup)\n",
        "lst=[]\n",
        "var=input()\n",
        "for i in tup:\n",
        "  lst.append(i[0:2])\n",
        "for i in range(len(lst)):\n",
        "  lst[i].append(var)\n",
        "print(tuple(lst))"
      ],
      "metadata": {
        "colab": {
          "base_uri": "https://localhost:8080/"
        },
        "id": "gBCDNLDOoo_S",
        "outputId": "2b4785ae-22d3-4beb-eee2-4cc1e95a06e4"
      },
      "execution_count": null,
      "outputs": [
        {
          "output_type": "stream",
          "name": "stdout",
          "text": [
            "5\n",
            "([1, 2, '5'], [4, 5, '5'], [7, 8, '5'], [10, 11, '5'])\n"
          ]
        }
      ]
    },
    {
      "cell_type": "code",
      "source": [
        "#TASK-17\n",
        "dic={'c1':'Red','c2':'Green','c3':None,'d4':'Blue','a5':None}\n",
        "dict1={}\n",
        "for k,v in dic.items():\n",
        "  if v!=None :\n",
        "    dict1.update({k:v})\n",
        "print(dict1)"
      ],
      "metadata": {
        "colab": {
          "base_uri": "https://localhost:8080/"
        },
        "id": "plwAd_w2S-s2",
        "outputId": "f9d6743e-bf33-4cea-ca2b-89e9735c6a80"
      },
      "execution_count": null,
      "outputs": [
        {
          "output_type": "stream",
          "name": "stdout",
          "text": [
            "{'c1': 'Red', 'c2': 'Green', 'd4': 'Blue'}\n"
          ]
        }
      ]
    },
    {
      "cell_type": "code",
      "source": [
        "#TASK-18\n",
        "dict1={'a':6,'b':7,'c':9,'d':8,'e':11,'f':12,'g':13}\n",
        "num=input()\n",
        "num=num.split(\",\")\n",
        "x=int(num[0])\n",
        "y=int(num[1])\n",
        "dict2={}\n",
        "for k,v in dict1.items():\n",
        "  if x<=v<y:\n",
        "    dict2.update({k:v})\n",
        "print(dict2)\n"
      ],
      "metadata": {
        "colab": {
          "base_uri": "https://localhost:8080/"
        },
        "id": "xUqgLKeNWbAv",
        "outputId": "f74ab02f-f6a7-43ed-b9bf-223cfc25bca9"
      },
      "execution_count": null,
      "outputs": [
        {
          "output_type": "stream",
          "name": "stdout",
          "text": [
            "6,10\n",
            "{'a': 6, 'b': 7, 'c': 9, 'd': 8}\n"
          ]
        }
      ]
    },
    {
      "cell_type": "code",
      "source": [
        "#TASK-19\n",
        "lst=[(20, 80), (31, 80), (1, 22), (88, 11), (27, 11)]\n",
        "dict1={}\n",
        "for elem in lst:\n",
        "  for i in elem:\n",
        "\n"
      ],
      "metadata": {
        "id": "16ZPhpJBXwwm"
      },
      "execution_count": null,
      "outputs": []
    },
    {
      "cell_type": "code",
      "source": [
        "#TASK-20\n",
        "inp1=input()\n",
        "inp2=input()\n",
        "lst1=[]\n",
        "lst2=[]\n",
        "for i in inp1:\n",
        "  if i==\".\":\n",
        "    continue\n",
        "  else:\n",
        "    lst1.append(i)\n",
        "print(lst1)"
      ],
      "metadata": {
        "colab": {
          "base_uri": "https://localhost:8080/"
        },
        "id": "wnNj6QH3bkG_",
        "outputId": "1675033a-fc8a-47a9-dadb-5b56fdea54b4"
      },
      "execution_count": null,
      "outputs": [
        {
          "output_type": "stream",
          "name": "stdout",
          "text": [
            "I love Programming. Python is love.\n",
            "2\n",
            "['I', ' ', 'l', 'o', 'v', 'e', ' ', 'P', 'r', 'o', 'g', 'r', 'a', 'm', 'm', 'i', 'n', 'g', ' ', 'P', 'y', 't', 'h', 'o', 'n', ' ', 'i', 's', ' ', 'l', 'o', 'v', 'e']\n"
          ]
        }
      ]
    },
    {
      "cell_type": "markdown",
      "source": [
        "#Practice quiz-3\n"
      ],
      "metadata": {
        "id": "aAXgIGwGkMT2"
      }
    },
    {
      "cell_type": "code",
      "source": [
        "#quiz-3\n",
        "tup1=(10,12,15,19,13)\n",
        "lst1=['rafit','raihan','akib','mimu','biplob']\n",
        "out={}\n",
        "for i in range(len(tup1)):\n",
        "  out.update({tup1[i]:lst1[i]})\n",
        "print(out)\n",
        "lst=[]\n",
        "for k,v in out.items():\n",
        "  if k%2==0:\n",
        "    lst.append(v)\n",
        "print(lst)"
      ],
      "metadata": {
        "colab": {
          "base_uri": "https://localhost:8080/"
        },
        "id": "tp7kwBMfVCGi",
        "outputId": "c2464d21-1302-41db-b221-31f017e11d10"
      },
      "execution_count": null,
      "outputs": [
        {
          "output_type": "stream",
          "name": "stdout",
          "text": [
            "{10: 'rafit', 12: 'raihan', 15: 'akib', 19: 'mimu', 13: 'biplob'}\n",
            "['rafit', 'raihan']\n"
          ]
        }
      ]
    },
    {
      "cell_type": "code",
      "source": [
        "#1\n",
        "var=input(\"Enter a string : \")\n",
        "dict1={}\n",
        "for v in var:\n",
        "  if ord(v)%5==0:\n",
        "    dict1.update({v:ord(v)})\n",
        "print(dict1)"
      ],
      "metadata": {
        "colab": {
          "base_uri": "https://localhost:8080/"
        },
        "id": "msc7pwobkLOO",
        "outputId": "3979b342-9d96-4f25-9193-43fd0137d238"
      },
      "execution_count": null,
      "outputs": [
        {
          "output_type": "stream",
          "name": "stdout",
          "text": [
            "Enter a string : today is tuesday\n",
            "{'d': 100, 'i': 105, 's': 115}\n"
          ]
        }
      ]
    },
    {
      "cell_type": "code",
      "source": [
        "#2\n",
        "lst1=[14,85,20,24,77,55]\n",
        "lst2=['CE','CSE','EEE','CS','ENG','PHY']\n",
        "dict1={}\n",
        "for i in range(len(lst1)):\n",
        "  dict1.update({lst1[i]:lst2[i]})\n",
        "print(dict1)\n",
        "lst3=[]\n",
        "for val in dict1.values():\n",
        "  sum=0\n",
        "  for chr in val:\n",
        "    sum+=ord(chr)\n",
        "  lst3.append(sum)\n",
        "print(tuple(lst3))"
      ],
      "metadata": {
        "colab": {
          "base_uri": "https://localhost:8080/"
        },
        "id": "FaDdQw2ulMn9",
        "outputId": "15420a9f-09e3-4663-db88-63025756345f"
      },
      "execution_count": null,
      "outputs": [
        {
          "output_type": "stream",
          "name": "stdout",
          "text": [
            "{14: 'CE', 85: 'CSE', 20: 'EEE', 24: 'CS', 77: 'ENG', 55: 'PHY'}\n",
            "(136, 219, 207, 150, 218, 241)\n"
          ]
        }
      ]
    },
    {
      "cell_type": "code",
      "source": [
        "#3\n",
        "lst1=[12,'cse',52.0,'hi','env']\n",
        "lst2=[]\n",
        "lst3=[]\n",
        "for i in lst1:\n",
        "  if type(i)==str:\n",
        "    lst2.append(i)\n",
        "  else:\n",
        "    lst3.append(i)\n",
        "print(lst2)\n",
        "print(lst3)"
      ],
      "metadata": {
        "colab": {
          "base_uri": "https://localhost:8080/"
        },
        "id": "37HzsYZdqdtG",
        "outputId": "3a097e06-c194-453b-831a-63d9d2f6d151"
      },
      "execution_count": null,
      "outputs": [
        {
          "output_type": "stream",
          "name": "stdout",
          "text": [
            "['cse', 'hi', 'env']\n",
            "[12, 52.0]\n"
          ]
        }
      ]
    }
  ]
}