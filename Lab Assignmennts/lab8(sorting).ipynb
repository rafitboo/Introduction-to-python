{
  "nbformat": 4,
  "nbformat_minor": 0,
  "metadata": {
    "colab": {
      "provenance": [],
      "authorship_tag": "ABX9TyNTdsz0SixrdkbkXkk07r7J",
      "include_colab_link": true
    },
    "kernelspec": {
      "name": "python3",
      "display_name": "Python 3"
    },
    "language_info": {
      "name": "python"
    }
  },
  "cells": [
    {
      "cell_type": "markdown",
      "metadata": {
        "id": "view-in-github",
        "colab_type": "text"
      },
      "source": [
        "<a href=\"https://colab.research.google.com/github/rafitboo/Introduction-to-python/blob/main/Lab%20Assignmennts/lab8(sorting).ipynb\" target=\"_parent\"><img src=\"https://colab.research.google.com/assets/colab-badge.svg\" alt=\"Open In Colab\"/></a>"
      ]
    },
    {
      "cell_type": "code",
      "execution_count": null,
      "metadata": {
        "colab": {
          "base_uri": "https://localhost:8080/"
        },
        "id": "4-gWB2PSfFNa",
        "outputId": "5eb4c024-d58e-47e0-c427-e202f2a12893"
      },
      "outputs": [
        {
          "output_type": "stream",
          "name": "stdout",
          "text": [
            "[1, 2, 2, 3, 5, 6, 10, 11, 12, 14, 15, 17, 18, 20, 29]\n"
          ]
        }
      ],
      "source": [
        "#1\n",
        "lst1 = [10, 1, 20, 3, 6, 2, 5, 11, 15, 2, 12, 14, 17, 18, 29]\n",
        "for i in range(len(lst1)):\n",
        "  minm=lst1[i]\n",
        "  minm_i=i\n",
        "  for j in range(i+1,len(lst1)):\n",
        "    if minm>lst1[j]:\n",
        "      minm=lst1[j]\n",
        "      minm_i=j\n",
        "  temp=lst1[minm_i]\n",
        "  lst1[minm_i]=lst1[i]\n",
        "  lst1[i]=temp\n",
        "print(lst1)"
      ]
    },
    {
      "cell_type": "code",
      "source": [
        "#1\n",
        "lst = [10, 1, 20, 3, 6, 2, 5, 11, 15, 2, 12, 14, 17, 18, 29]\n",
        "num=len(lst)\n",
        "for i in range(num):\n",
        "  for j in range(0,num-i-1):\n",
        "    if lst[j]>lst[j+1]:\n",
        "      lst[j],lst[j+1]=lst[j+1],lst[j]\n",
        "print(lst)"
      ],
      "metadata": {
        "colab": {
          "base_uri": "https://localhost:8080/"
        },
        "id": "DfGDLocdOJ9B",
        "outputId": "c18b091d-bdfd-4b47-8a55-0e2a138e7f58"
      },
      "execution_count": null,
      "outputs": [
        {
          "output_type": "stream",
          "name": "stdout",
          "text": [
            "[1, 2, 2, 3, 5, 6, 10, 11, 12, 14, 15, 17, 18, 20, 29]\n"
          ]
        }
      ]
    },
    {
      "cell_type": "code",
      "source": [
        "lst1 = [10, 1, 20, 3, 6, 2, 5, 11, 15, 2, 12, 14, 17, 18, 29]\n",
        "lst1.sort()\n",
        "print(lst1)"
      ],
      "metadata": {
        "colab": {
          "base_uri": "https://localhost:8080/"
        },
        "id": "q07h_LlYOyEY",
        "outputId": "af70fa03-edce-4396-d552-83056d457d2c"
      },
      "execution_count": null,
      "outputs": [
        {
          "output_type": "stream",
          "name": "stdout",
          "text": [
            "None\n"
          ]
        }
      ]
    },
    {
      "cell_type": "code",
      "source": [],
      "metadata": {
        "id": "yMWsku6jO2rJ"
      },
      "execution_count": null,
      "outputs": []
    }
  ]
}