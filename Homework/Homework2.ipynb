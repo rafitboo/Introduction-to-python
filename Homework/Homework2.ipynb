{
  "nbformat": 4,
  "nbformat_minor": 0,
  "metadata": {
    "colab": {
      "provenance": [],
      "authorship_tag": "ABX9TyM6U2U8+eX/QoBvuv5QC+eS",
      "include_colab_link": true
    },
    "kernelspec": {
      "name": "python3",
      "display_name": "Python 3"
    },
    "language_info": {
      "name": "python"
    }
  },
  "cells": [
    {
      "cell_type": "markdown",
      "metadata": {
        "id": "view-in-github",
        "colab_type": "text"
      },
      "source": [
        "<a href=\"https://colab.research.google.com/github/rafitboo/Introduction-to-python/blob/main/Homework/Homework2.ipynb\" target=\"_parent\"><img src=\"https://colab.research.google.com/assets/colab-badge.svg\" alt=\"Open In Colab\"/></a>"
      ]
    },
    {
      "cell_type": "markdown",
      "source": [
        "**#TASK-1 : MANUAL PROCESS**"
      ],
      "metadata": {
        "id": "dys6Mvr3ELgw"
      }
    },
    {
      "cell_type": "code",
      "execution_count": null,
      "metadata": {
        "id": "1VODnjE4DuJJ",
        "colab": {
          "base_uri": "https://localhost:8080/"
        },
        "outputId": "f739e078-7a79-415c-ff75-7b7245d424d0"
      },
      "outputs": [
        {
          "output_type": "stream",
          "name": "stdout",
          "text": [
            "cse\n",
            "CSE\n"
          ]
        }
      ],
      "source": [
        "#upper()\n",
        "var=input()\n",
        "out=\"\"\n",
        "for idx in range(len(var)):\n",
        "  if 97<=ord(var[idx])<=122:\n",
        "    ascii=ord(var[idx])\n",
        "    ascii-=32\n",
        "    out=out+chr(ascii)\n",
        "  else:\n",
        "    out=out+var[idx]\n",
        "print(out)"
      ]
    },
    {
      "cell_type": "code",
      "source": [
        "#lower()\n",
        "var=input()\n",
        "out=\"\"\n",
        "for idx in range(len(var)):\n",
        "  if 65<=ord(var[idx])<=90:\n",
        "    ascii=ord(var[idx])\n",
        "    ascii+=32\n",
        "    out+=chr(ascii)\n",
        "  else:\n",
        "    out+=var[idx]\n",
        "print(out)"
      ],
      "metadata": {
        "colab": {
          "base_uri": "https://localhost:8080/"
        },
        "id": "fwUDu7r5EghY",
        "outputId": "1d59d675-3018-4fb1-a27b-e481406eff1e"
      },
      "execution_count": null,
      "outputs": [
        {
          "output_type": "stream",
          "name": "stdout",
          "text": [
            "AAA\n",
            "aaa\n"
          ]
        }
      ]
    },
    {
      "cell_type": "code",
      "source": [
        "#islower\n",
        "var=input()\n",
        "idx=int(input())\n",
        "if 97<=ord(var[idx])<=122:\n",
        "  print(\"True\")\n",
        "else:\n",
        "  print(\"False\")"
      ],
      "metadata": {
        "colab": {
          "base_uri": "https://localhost:8080/"
        },
        "id": "5a6je5c2F3gI",
        "outputId": "3dc54bc9-0553-40f4-b668-617530d318a8"
      },
      "execution_count": null,
      "outputs": [
        {
          "output_type": "stream",
          "name": "stdout",
          "text": [
            "abc\n",
            "2\n",
            "True\n"
          ]
        }
      ]
    },
    {
      "cell_type": "code",
      "source": [
        "#isupper\n",
        "var=input()\n",
        "idx=int(input())\n",
        "if 65<=ord(var[idx])<=90:\n",
        "  print(\"True\")\n",
        "else:\n",
        "  print(\"False\")"
      ],
      "metadata": {
        "colab": {
          "base_uri": "https://localhost:8080/"
        },
        "id": "IjKZcY0xI2QR",
        "outputId": "5ce1ac81-cab5-408d-c798-a55153ef88d3"
      },
      "execution_count": null,
      "outputs": [
        {
          "output_type": "stream",
          "name": "stdout",
          "text": [
            "ABc\n",
            "0\n",
            "True\n"
          ]
        }
      ]
    },
    {
      "cell_type": "code",
      "source": [
        "#count(substring)\n",
        "var=input()\n",
        "x=input()\n",
        "count=0\n",
        "for idx in range(len(var)):\n",
        "  if var[idx]==x:\n",
        "    count+=1\n",
        "print(count)\n"
      ],
      "metadata": {
        "colab": {
          "base_uri": "https://localhost:8080/"
        },
        "id": "oaQLLYkRJAWK",
        "outputId": "3008465e-2aea-4398-9a5a-96d902b56c87"
      },
      "execution_count": null,
      "outputs": [
        {
          "output_type": "stream",
          "name": "stdout",
          "text": [
            "csse\n",
            "s\n",
            "2\n"
          ]
        }
      ]
    },
    {
      "cell_type": "code",
      "source": [
        "#find\n",
        "var=input()\n",
        "x=input()\n",
        "for idx in range(len(var)):\n",
        "  if var[idx]==x :\n",
        "    print(idx)\n",
        "    break\n",
        "else:\n",
        "  print(-1)"
      ],
      "metadata": {
        "colab": {
          "base_uri": "https://localhost:8080/"
        },
        "id": "huj3bXJjKMOy",
        "outputId": "bedb8e81-599b-4481-d8ab-a1c62fffe83c"
      },
      "execution_count": null,
      "outputs": [
        {
          "output_type": "stream",
          "name": "stdout",
          "text": [
            "abcdefgh\n",
            "d\n",
            "3\n"
          ]
        }
      ]
    },
    {
      "cell_type": "code",
      "source": [
        "#replace\n",
        "var=input()\n",
        "old=input()\n",
        "new=input()\n",
        "out=\"\"\n",
        "for idx in range(len(var)):\n",
        "  if var[idx]==old :\n",
        "    x=idx\n",
        "    continue\n",
        "out+=var[:x:]\n",
        "out+=new\n",
        "out+=var[x+1:len(var):]\n",
        "print(out)"
      ],
      "metadata": {
        "colab": {
          "base_uri": "https://localhost:8080/"
        },
        "id": "RwOfyVyZO7Vy",
        "outputId": "09f25918-0c71-4d28-c157-75c1d7b9a26f"
      },
      "execution_count": null,
      "outputs": [
        {
          "output_type": "stream",
          "name": "stdout",
          "text": [
            "abc\n",
            "a\n",
            "b\n",
            "bbc\n"
          ]
        }
      ]
    },
    {
      "cell_type": "markdown",
      "source": [
        "*#TASK-2*"
      ],
      "metadata": {
        "id": "sYcOHl9Q1Hzc"
      }
    },
    {
      "cell_type": "code",
      "source": [
        "#TASk-2\n",
        "var=input()\n",
        "if len(var)<=4:\n",
        "  for  idx in range(0,len(var),1):\n",
        "    avg=int((ord(var[0])+ord(var[-1]))/2)\n",
        "    print(var[0]+str(avg)+var[-1])\n",
        "if len(var)>4:\n",
        "  itr=len(var)//2\n",
        "  for idx in range(0,itr,1):\n",
        "    avg=int((ord(var[0])+ord(var[-1]))/2)\n",
        "    print(var[-1]+str(avg)+var[0])"
      ],
      "metadata": {
        "colab": {
          "base_uri": "https://localhost:8080/"
        },
        "id": "AxrvmN_-ySci",
        "outputId": "b80b3907-7810-4afa-b75d-a0a1c3a14841"
      },
      "execution_count": null,
      "outputs": [
        {
          "output_type": "stream",
          "name": "stdout",
          "text": [
            "Erik\n",
            "E88k\n",
            "E88k\n",
            "E88k\n",
            "E88k\n"
          ]
        }
      ]
    }
  ]
}