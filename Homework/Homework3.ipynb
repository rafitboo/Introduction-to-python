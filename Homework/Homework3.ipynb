{
  "nbformat": 4,
  "nbformat_minor": 0,
  "metadata": {
    "colab": {
      "provenance": [],
      "authorship_tag": "ABX9TyOSpRZYMtRzpz61/71ojKEZ",
      "include_colab_link": true
    },
    "kernelspec": {
      "name": "python3",
      "display_name": "Python 3"
    },
    "language_info": {
      "name": "python"
    }
  },
  "cells": [
    {
      "cell_type": "markdown",
      "metadata": {
        "id": "view-in-github",
        "colab_type": "text"
      },
      "source": [
        "<a href=\"https://colab.research.google.com/github/rafitboo/Introduction-to-python/blob/main/Homework/Homework3.ipynb\" target=\"_parent\"><img src=\"https://colab.research.google.com/assets/colab-badge.svg\" alt=\"Open In Colab\"/></a>"
      ]
    },
    {
      "cell_type": "code",
      "execution_count": null,
      "metadata": {
        "colab": {
          "base_uri": "https://localhost:8080/"
        },
        "id": "qEpKYosPp97h",
        "outputId": "6decaf0c-7788-4b6e-f09a-210a2cad238f"
      },
      "outputs": [
        {
          "output_type": "stream",
          "name": "stdout",
          "text": [
            "18\n",
            "135\n",
            "17\n"
          ]
        }
      ],
      "source": [
        "#TASK-1\n",
        "list1=[1,2,3,4]\n",
        "list2=[4,5,9,8]\n",
        "sum=0\n",
        "mul=1\n",
        "for i in range(len(list1)):\n",
        "  if list1[i]%2==0:\n",
        "    sum+=list1[i]\n",
        "  else:\n",
        "    mul*=list1[i]\n",
        "for i in range(len(list2)):\n",
        "  if list2[i]%2==0:\n",
        "    sum+=list2[i]\n",
        "  else:\n",
        "    mul*=list2[i]\n",
        "sum1=0\n",
        "for i in list1[::2]:\n",
        "  sum1+=i\n",
        "for i in list2[1::2]:\n",
        "  sum1+=i\n",
        "print(sum)\n",
        "print(mul)\n",
        "print(sum1)"
      ]
    },
    {
      "cell_type": "code",
      "source": [
        "#TASK2\n",
        "lst1=[1,2,1,4,5,2,6,7,8,6,8,9,4]\n",
        "var=int(input(\"Enter a number : \"))\n",
        "lst1=lst1[::-1]\n",
        "lst1.remove(var)\n",
        "print(lst1[::-1])"
      ],
      "metadata": {
        "colab": {
          "base_uri": "https://localhost:8080/"
        },
        "id": "lRZ30HtGtBO0",
        "outputId": "52975cf8-cba6-4693-8e50-580ef9300347"
      },
      "execution_count": null,
      "outputs": [
        {
          "output_type": "stream",
          "name": "stdout",
          "text": [
            "Enter a number : 6\n",
            "[1, 2, 1, 4, 5, 2, 6, 7, 8, 8, 9, 4]\n"
          ]
        }
      ]
    },
    {
      "cell_type": "code",
      "source": [
        "#TASK-3\n",
        "var=input(\"Enter a string : \")\n",
        "lst=[]\n",
        "for i in range(len(var)):\n",
        "  if var[i]=='E' or var[i]=='e':\n",
        "    lst.append(i)\n",
        "print(lst)"
      ],
      "metadata": {
        "colab": {
          "base_uri": "https://localhost:8080/"
        },
        "id": "VKmEhlYryLUF",
        "outputId": "40f77b0b-5850-41ce-c2a7-c61729be040b"
      },
      "execution_count": null,
      "outputs": [
        {
          "output_type": "stream",
          "name": "stdout",
          "text": [
            "Enter a string : Bleh Bleh Bleck shEEp\n",
            "[2, 7, 12, 18, 19]\n"
          ]
        }
      ]
    },
    {
      "cell_type": "code",
      "source": [
        "#TASK-4\n",
        "lst=[2,7,12,17,18,88,58,7,89,78,74,55,33,57]\n",
        "nlst1=[]\n",
        "nlst2=[]\n",
        "for i in lst[::2]:\n",
        "  nlst1.append(i)\n",
        "for i in lst[1::2]:\n",
        "  nlst2.append(i)\n",
        "flst=[]\n",
        "for i in range(7):\n",
        "  flst.append(int(nlst1[i])+int(nlst2[-(i+1)]))\n",
        "print(\"New list one : \"+ str(nlst1))\n",
        "print(\"New list two : \"+ str(nlst2))\n",
        "print(\"The final list : \"+ str(flst))"
      ],
      "metadata": {
        "colab": {
          "base_uri": "https://localhost:8080/"
        },
        "id": "oEUOVcDyzt41",
        "outputId": "d606fd16-7664-44fc-bc17-e671a0bfc5a2"
      },
      "execution_count": null,
      "outputs": [
        {
          "output_type": "stream",
          "name": "stdout",
          "text": [
            "New list one : [2, 12, 18, 58, 89, 74, 33]\n",
            "New list two : [7, 17, 88, 7, 78, 55, 57]\n",
            "The final list : [59, 67, 96, 65, 177, 91, 40]\n"
          ]
        }
      ]
    },
    {
      "cell_type": "code",
      "source": [
        "#home-1\n",
        "lst=[1,2,3,4.3,7,8,7,88,100]\n",
        "num=input(\"Enter a number : \")\n",
        "start=int(input(\"Enter starting index : \"))\n",
        "end=input(\"Enter ending index : \")\n",
        "if end==\"last\":\n",
        "  for i in range(start,len(lst),1):\n",
        "    if lst[i]==float(num):\n",
        "      print(i)\n",
        "      break\n",
        "else:\n",
        "  for i in range(start,int(end),1):\n",
        "    if lst[i]==float(num):\n",
        "      print(i)\n",
        "      break\n"
      ],
      "metadata": {
        "id": "m-TUx7xe4Mi9",
        "colab": {
          "base_uri": "https://localhost:8080/"
        },
        "outputId": "6aaf6d17-4622-4b61-f3c0-21e6babe3bf5"
      },
      "execution_count": null,
      "outputs": [
        {
          "output_type": "stream",
          "name": "stdout",
          "text": [
            "Enter a number : 7\n",
            "Enter starting index : 5\n",
            "Enter ending index : last\n",
            "6\n"
          ]
        }
      ]
    },
    {
      "cell_type": "code",
      "source": [
        "#home-2\n",
        "lst=[1,2,4,6,78,6,12,10]\n",
        "sum=0\n",
        "for idx in range(len(lst)):\n",
        "  sum+=lst[idx]\n",
        "print(sum)"
      ],
      "metadata": {
        "id": "27j9gSPBCfle",
        "colab": {
          "base_uri": "https://localhost:8080/"
        },
        "outputId": "3c4c4ef2-8087-4b6e-9fc3-8ff3a754752b"
      },
      "execution_count": null,
      "outputs": [
        {
          "output_type": "stream",
          "name": "stdout",
          "text": [
            "119\n"
          ]
        }
      ]
    },
    {
      "cell_type": "code",
      "source": [
        "#home-3\n",
        "lst=[1,2,4,6,78,6,12,10]\n",
        "for idx in range(len(lst)):\n",
        "  if idx==0:\n",
        "    mx=lst[0]\n",
        "  if lst[idx]>mx:\n",
        "    mx=lst[idx]\n",
        "print(mx)"
      ],
      "metadata": {
        "id": "YrKx1QeOI1SA",
        "colab": {
          "base_uri": "https://localhost:8080/"
        },
        "outputId": "c25809c0-50d7-41d9-b01d-4d08c53b9b6f"
      },
      "execution_count": null,
      "outputs": [
        {
          "output_type": "stream",
          "name": "stdout",
          "text": [
            "78\n"
          ]
        }
      ]
    },
    {
      "cell_type": "code",
      "source": [
        "#home-4\n",
        "lst=[1,2,4,6,78,6,12,10]\n",
        "for idx in range(len(lst)):\n",
        "  if idx==0:\n",
        "    mn=lst[0]\n",
        "  if lst[idx]<mn:\n",
        "    mn=lst[idx]\n",
        "print(mn)"
      ],
      "metadata": {
        "id": "ENQFwLQ8Kdlw",
        "colab": {
          "base_uri": "https://localhost:8080/"
        },
        "outputId": "46405af7-fdf9-4b88-a5fa-02b521abbf89"
      },
      "execution_count": null,
      "outputs": [
        {
          "output_type": "stream",
          "name": "stdout",
          "text": [
            "1\n"
          ]
        }
      ]
    }
  ]
}