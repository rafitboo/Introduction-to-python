{
  "nbformat": 4,
  "nbformat_minor": 0,
  "metadata": {
    "colab": {
      "provenance": [],
      "authorship_tag": "ABX9TyOKTCo4y8RYACIOjlx2YCEu",
      "include_colab_link": true
    },
    "kernelspec": {
      "name": "python3",
      "display_name": "Python 3"
    },
    "language_info": {
      "name": "python"
    }
  },
  "cells": [
    {
      "cell_type": "markdown",
      "metadata": {
        "id": "view-in-github",
        "colab_type": "text"
      },
      "source": [
        "<a href=\"https://colab.research.google.com/github/rafitboo/Introduction-to-python/blob/main/Homework/homework4.ipynb\" target=\"_parent\"><img src=\"https://colab.research.google.com/assets/colab-badge.svg\" alt=\"Open In Colab\"/></a>"
      ]
    },
    {
      "cell_type": "code",
      "execution_count": null,
      "metadata": {
        "colab": {
          "base_uri": "https://localhost:8080/"
        },
        "id": "Y9IFh0xPGDp-",
        "outputId": "f700caef-7e34-4644-ef99-ebae15b9a00d"
      },
      "outputs": [
        {
          "output_type": "stream",
          "name": "stdout",
          "text": [
            "{1: 22, 4: 100, 6: 44, 5: 99, 9: 77, 3: 66, 7: 143}\n"
          ]
        }
      ],
      "source": [
        "#TASK-1\n",
        "dic1={1:22,4:55,6:44,5:99,9:77,3:66}\n",
        "sum=0\n",
        "dic2={}\n",
        "for k,v in dic1.items():\n",
        "  if k==1 or k==6 or k==9:\n",
        "    sum+=v\n",
        "  dic2.update({k:v})\n",
        "dic2[4]=100\n",
        "dic2[7]=sum\n",
        "print(dic2)"
      ]
    },
    {
      "cell_type": "code",
      "source": [
        "#TASK-2\n",
        "var=\"a:97,b:98,A:65,B:66\"\n",
        "var=var.split(\",\")\n",
        "#print(var)\n",
        "lst1=[]\n",
        "lst2=[]\n",
        "for i in var:\n",
        "  for j in range(len(i)):\n",
        "    if i[j]==\":\":\n",
        "      x=j\n",
        "      lst1.append(i[:x:])\n",
        "      lst2.append(i[x+1::])\n",
        "#print(lst1)\n",
        "#print(lst2)\n",
        "dic={}\n",
        "for i in range(4):\n",
        "  dic.update({lst1[i]:int(lst2[i])})\n",
        "print(dic)"
      ],
      "metadata": {
        "colab": {
          "base_uri": "https://localhost:8080/"
        },
        "outputId": "f4fc285a-c1e5-4fc2-afcd-4deaadd89944",
        "id": "lcJ532FGqDTC"
      },
      "execution_count": null,
      "outputs": [
        {
          "output_type": "stream",
          "name": "stdout",
          "text": [
            "['a:97', 'b:98', 'A:65', 'B:66']\n",
            "['a', 'b', 'A', 'B']\n",
            "['97', '98', '65', '66']\n",
            "{'a': 97, 'b': 98, 'A': 65, 'B': 66}\n"
          ]
        }
      ]
    },
    {
      "cell_type": "code",
      "source": [
        "#TASK-4\n",
        "dict1={'Sam': 20, 'Alice': 10, 'Jim': 15, 'Jerry': 2, 'Sheldon': 0}\n",
        "dict2={}\n",
        "for k,v in dict1.items():\n",
        "  if v%2==0:\n",
        "    dict2.update({k:v})\n",
        "print(dict2)"
      ],
      "metadata": {
        "colab": {
          "base_uri": "https://localhost:8080/"
        },
        "id": "AVk9lhMSO0n0",
        "outputId": "f8fed514-539b-4770-d24b-4fe73d10d77b"
      },
      "execution_count": null,
      "outputs": [
        {
          "output_type": "stream",
          "name": "stdout",
          "text": [
            "{'Sam': 20, 'Alice': 10, 'Jerry': 2, 'Sheldon': 0}\n"
          ]
        }
      ]
    },
    {
      "cell_type": "markdown",
      "source": [
        "#TASK-3\n",
        "#MANUAL PROCESS\n"
      ],
      "metadata": {
        "id": "OlkirfdDUhw_"
      }
    },
    {
      "cell_type": "code",
      "source": [
        "#max(dictionary.keys())\n",
        "roll= {'Sam': 20, 'Jim': 12, 'Alice': 25, 'joe': 1, 'Bob': 89}\n",
        "mx=\"\"\n",
        "for k in roll.keys():\n",
        "  if len(k)>len(mx):\n",
        "    mx=k\n",
        "print(mx)"
      ],
      "metadata": {
        "colab": {
          "base_uri": "https://localhost:8080/"
        },
        "id": "A-_wXFRDUfHg",
        "outputId": "b6740ba8-d770-498e-c2bf-680bc9bb385b"
      },
      "execution_count": null,
      "outputs": [
        {
          "output_type": "stream",
          "name": "stdout",
          "text": [
            "Alice\n"
          ]
        }
      ]
    },
    {
      "cell_type": "code",
      "source": [
        "#min(dictionary.keys())\n",
        "roll= {'Sam': 20, 'Jim': 12, 'Alice': 25, 'Sheldon': 1, 'Bob': 89}\n",
        "mn=\"\"\n",
        "for k in roll.keys():\n",
        "  mn+=k\n",
        "  break\n",
        "for k in roll.keys():\n",
        "  if len(k)<len(mn):\n",
        "    mn=k\n",
        "print(mn)"
      ],
      "metadata": {
        "colab": {
          "base_uri": "https://localhost:8080/"
        },
        "id": "y4WwfvlYYxqw",
        "outputId": "a578c186-5cf3-4eda-c1fa-ee87ab45c7f3"
      },
      "execution_count": null,
      "outputs": [
        {
          "output_type": "stream",
          "name": "stdout",
          "text": [
            "Sam\n"
          ]
        }
      ]
    },
    {
      "cell_type": "code",
      "source": [
        "#max(dictionary.values())\n",
        "roll= {'Sam': 20, 'Jim': 12, 'Alice': 25, 'Sheldon': 1, 'Bob': 89888}\n",
        "mx=0\n",
        "for v in roll.values():\n",
        "  if v>mx:\n",
        "    mx=v\n",
        "print(mx)"
      ],
      "metadata": {
        "colab": {
          "base_uri": "https://localhost:8080/"
        },
        "id": "RH9Oq7q5Yazo",
        "outputId": "e6b92f04-9ddb-4e80-8dd1-7c8aeaa84651"
      },
      "execution_count": null,
      "outputs": [
        {
          "output_type": "stream",
          "name": "stdout",
          "text": [
            "89888\n"
          ]
        }
      ]
    },
    {
      "cell_type": "code",
      "source": [
        "#min(dictionary.values())\n",
        "roll={'Sam': 20, 'Jim': 12, 'Alice': 25, 'Joe': 1, 'Bob': -54}\n",
        "for v in roll.values():\n",
        "    mn=v\n",
        "    break\n",
        "for v in roll.values():\n",
        "  if v<mn:\n",
        "    mn=v\n",
        "print(mn)"
      ],
      "metadata": {
        "colab": {
          "base_uri": "https://localhost:8080/"
        },
        "id": "bQKtYdVdegXw",
        "outputId": "a29692d9-eab2-4dc7-bfa9-a83a925945d6"
      },
      "execution_count": null,
      "outputs": [
        {
          "output_type": "stream",
          "name": "stdout",
          "text": [
            "-54\n"
          ]
        }
      ]
    },
    {
      "cell_type": "code",
      "source": [
        "#TASK-5\n",
        "var=input()\n",
        "var=var.split(\", \")\n",
        "lst1=[]\n",
        "lst2=[]\n",
        "sume=0\n",
        "sumo=0\n",
        "for i in range(len(var)):\n",
        "  for e in range(0,len(var[i]),2):\n",
        "    sume+=int(var[i][e])\n",
        "  for o in range(1,len(var[i]),2):\n",
        "    sumo+=int(var[i][o])\n",
        "  if sume==sumo:\n",
        "    lst1.append(var[i])\n",
        "  else:\n",
        "    lst2.append(var[i])\n",
        "  sume=0\n",
        "  sumo=0\n",
        "for i in range(len(lst1)):\n",
        "  lst1[i]=int(lst1[i])\n",
        "for i in range(len(lst2)):\n",
        "  lst2[i]=int(lst2[i])\n",
        "lst=[]\n",
        "lst.append(tuple(lst1))\n",
        "lst.append(tuple(lst2))\n",
        "lst=tuple(lst)\n",
        "print(lst)"
      ],
      "metadata": {
        "colab": {
          "base_uri": "https://localhost:8080/"
        },
        "id": "0kzA8unFSCCE",
        "outputId": "b4419b47-d980-4790-e990-b68adbf1d755"
      },
      "execution_count": null,
      "outputs": [
        {
          "output_type": "stream",
          "name": "stdout",
          "text": [
            "442310, 441310, 42251, 42241, 451, 452\n",
            "((442310, 42251, 451), (441310, 42241, 452))\n"
          ]
        }
      ]
    }
  ]
}
