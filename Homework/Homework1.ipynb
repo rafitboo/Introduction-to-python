{
  "nbformat": 4,
  "nbformat_minor": 0,
  "metadata": {
    "colab": {
      "provenance": [],
      "authorship_tag": "ABX9TyMI+OObfsJ3kYvj5A+Oa22n",
      "include_colab_link": true
    },
    "kernelspec": {
      "name": "python3",
      "display_name": "Python 3"
    },
    "language_info": {
      "name": "python"
    }
  },
  "cells": [
    {
      "cell_type": "markdown",
      "metadata": {
        "id": "view-in-github",
        "colab_type": "text"
      },
      "source": [
        "<a href=\"https://colab.research.google.com/github/rafitboo/Introduction-to-python/blob/main/Homework/Homework1.ipynb\" target=\"_parent\"><img src=\"https://colab.research.google.com/assets/colab-badge.svg\" alt=\"Open In Colab\"/></a>"
      ]
    },
    {
      "cell_type": "code",
      "execution_count": null,
      "metadata": {
        "id": "jpdIBGdZcBgr",
        "colab": {
          "base_uri": "https://localhost:8080/"
        },
        "outputId": "2d2f6f63-b987-4578-b61e-24884c6f582f"
      },
      "outputs": [
        {
          "output_type": "stream",
          "name": "stdout",
          "text": [
            "5\n",
            "5\n",
            "5\n",
            "stop\n",
            "125\n"
          ]
        }
      ],
      "source": [
        "#HW-1\n",
        "mul=1\n",
        "count=0\n",
        "while True:\n",
        "  var=input()\n",
        "  count+=1\n",
        "  if count==1 and var==\"stop\" or var==\"STOP\" or var==\"Stop\":\n",
        "    mul=0\n",
        "    break\n",
        "  elif var==\"STOP\" or var==\"stop\" or var==\"Stop\":\n",
        "    break\n",
        "  else:\n",
        "    mul*=int(var)\n",
        "print(mul)"
      ]
    },
    {
      "cell_type": "code",
      "source": [
        "#HW-2\n",
        "for num in range(30,100,1) :\n",
        "  if num%6==0:\n",
        "     if num==96:\n",
        "       print(num)\n",
        "     else:\n",
        "       print(num,end=\", \")\n"
      ],
      "metadata": {
        "colab": {
          "base_uri": "https://localhost:8080/"
        },
        "id": "AECpUwqeq2pA",
        "outputId": "48e6453d-efe7-4694-f9ba-252218aadbc8"
      },
      "execution_count": null,
      "outputs": [
        {
          "output_type": "stream",
          "name": "stdout",
          "text": [
            "30, 36, 42, 48, 54, 60, 66, 72, 78, 84, 90, 96\n"
          ]
        }
      ]
    },
    {
      "cell_type": "code",
      "source": [
        "#HW-2.1\n",
        "for num in range(30,100,6) :\n",
        "  print(num, end=\", \")"
      ],
      "metadata": {
        "colab": {
          "base_uri": "https://localhost:8080/"
        },
        "id": "pHBuG4BurwT5",
        "outputId": "cc65f122-b88b-4e9e-eb4a-9e4ba61d238f"
      },
      "execution_count": null,
      "outputs": [
        {
          "output_type": "stream",
          "name": "stdout",
          "text": [
            "30, 36, 42, 48, 54, 60, 66, 72, 78, 84, 90, 96, "
          ]
        }
      ]
    },
    {
      "cell_type": "code",
      "source": [
        "#HW-3\n",
        "num=int(input(\"Enter a number : \"))\n",
        "for var in range(1,11,1) :\n",
        "  result= num*var\n",
        "  print(str(num)+\"*\"+str(var)+\"=\"+str(result))"
      ],
      "metadata": {
        "colab": {
          "base_uri": "https://localhost:8080/"
        },
        "id": "CALLNlabr7uf",
        "outputId": "001b3bfa-7726-4765-cd3d-3f6e572fcab8"
      },
      "execution_count": null,
      "outputs": [
        {
          "output_type": "stream",
          "name": "stdout",
          "text": [
            "Enter a number : 7\n",
            "7*1=7\n",
            "7*2=14\n",
            "7*3=21\n",
            "7*4=28\n",
            "7*5=35\n",
            "7*6=42\n",
            "7*7=49\n",
            "7*8=56\n",
            "7*9=63\n",
            "7*10=70\n"
          ]
        }
      ]
    },
    {
      "cell_type": "code",
      "source": [
        "#HW-4\n",
        "var1 = var2 = var3 = var4 = var5 = var6 = False\n",
        "result1 = result2 = result3 = result4 = result5 = False\n",
        "result6 = result7 = result8 = result9 = result10 = True\n",
        "var1 = 3*3 > 6+1\n",
        "var2 = var2 and False or False\n",
        "var3 = True\n",
        "var4 = False\n",
        "var5 = False\n",
        "var6 = var4 and False\n",
        "result1 = (var1 and var3) or (4 ** 2 > 45)\n",
        "result2 = (var1 or not var3) or (result5 and False) and (9==9.0)\n",
        "result3 = ((var3 or result1) or result2) or ('9'==9) or True\n",
        "result4 = not(var1 or not var2) or ((var5 and var1) and False)\n",
        "result5 = not(var3 and var2) or not(result2 and var1)\n",
        "result6 = ((var2 or var4) and not result6) or (9 is 9.0)\n",
        "result7 = (var4 or result1) and not((result5 and False) or True)\n",
        "result8 = ((var1 and result2) and (var6 or var3)) and True\n",
        "result9 = ((result1 and var1) and not(result2 and var6)) and False\n",
        "result10 = not(var3 and True) or False or True or True\n",
        "print(result1)\n",
        "print(result2)\n",
        "print(result3)\n",
        "print(result4)\n",
        "print(result5)\n",
        "print(result6)\n",
        "print(result7)\n",
        "print(result8)\n",
        "print(result9)\n",
        "print(result10)\n"
      ],
      "metadata": {
        "id": "2YgLGJgbUEdp",
        "colab": {
          "base_uri": "https://localhost:8080/"
        },
        "outputId": "e33ae26e-e178-48d6-f51a-0540e4edcc8e"
      },
      "execution_count": null,
      "outputs": [
        {
          "output_type": "stream",
          "name": "stdout",
          "text": [
            "True\n",
            "True\n",
            "True\n",
            "False\n",
            "True\n",
            "False\n",
            "False\n",
            "True\n",
            "False\n",
            "True\n"
          ]
        }
      ]
    },
    {
      "cell_type": "code",
      "source": [
        "#HW-5\n",
        "num=1\n",
        "while num<=5:\n",
        "  n=0\n",
        "  while n<5:\n",
        "    print(num,end=\" \")\n",
        "    n+=1\n",
        "  print()\n",
        "  num+=1"
      ],
      "metadata": {
        "colab": {
          "base_uri": "https://localhost:8080/"
        },
        "id": "HhM3Og3Ny9YN",
        "outputId": "5c955023-c19c-4c8c-de48-8d868a475380"
      },
      "execution_count": null,
      "outputs": [
        {
          "output_type": "stream",
          "name": "stdout",
          "text": [
            "1 1 1 1 1 \n",
            "2 2 2 2 2 \n",
            "3 3 3 3 3 \n",
            "4 4 4 4 4 \n",
            "5 5 5 5 5 \n"
          ]
        }
      ]
    },
    {
      "cell_type": "code",
      "source": [
        "#HW-6\n",
        "sum=10\n",
        "for var in range(5,11,1):\n",
        "  print(var+sum)\n",
        "  sum+=var"
      ],
      "metadata": {
        "colab": {
          "base_uri": "https://localhost:8080/"
        },
        "id": "V1WdYFyV41ns",
        "outputId": "1ac0d6ec-c4d0-482e-e123-4eda44bbdaf9"
      },
      "execution_count": null,
      "outputs": [
        {
          "output_type": "stream",
          "name": "stdout",
          "text": [
            "15\n",
            "21\n",
            "28\n",
            "36\n",
            "45\n",
            "55\n"
          ]
        }
      ]
    },
    {
      "cell_type": "code",
      "source": [
        "#HW_6\n",
        "sum=0\n",
        "num1=int(input(\"M : \"))\n",
        "num2=int(input(\"N : \"))\n",
        "for var in range(0,num1,1):\n",
        "  sum+=var\n",
        "for var1 in range(num1,num2+1,1):\n",
        "  print(var1+sum)\n",
        "  sum+=var1"
      ],
      "metadata": {
        "colab": {
          "base_uri": "https://localhost:8080/"
        },
        "id": "8Mn8YEyQPb_D",
        "outputId": "6a804c01-916d-46a5-c69e-79acde52f1d3"
      },
      "execution_count": null,
      "outputs": [
        {
          "output_type": "stream",
          "name": "stdout",
          "text": [
            "M : 5\n",
            "N : 10\n",
            "15\n",
            "21\n",
            "28\n",
            "36\n",
            "45\n",
            "55\n"
          ]
        }
      ]
    },
    {
      "cell_type": "code",
      "source": [
        "#HW-7\n",
        "count=[]\n",
        "sum=0\n",
        "while True :\n",
        "  var=int(input(\"enter number : \"))\n",
        "  if var==0 :\n",
        "    break\n",
        "  sum+=var\n",
        "  if var%3==0:\n",
        "    count.append(var)\n",
        "print(\"Sum of all the entered numbers : \"+ str(sum) + \". \")\n",
        "print(\"Numbers that are divisible by 3 : \"+ str(len(count)))\n",
        "\n",
        ""
      ],
      "metadata": {
        "colab": {
          "base_uri": "https://localhost:8080/"
        },
        "id": "2BjDQbvpzkgo",
        "outputId": "3ac1f3f8-149e-4a01-9e39-58edeec1a53b"
      },
      "execution_count": null,
      "outputs": [
        {
          "output_type": "stream",
          "name": "stdout",
          "text": [
            "enter number : 22\n",
            "enter number : 7\n",
            "enter number : -13\n",
            "enter number : 16\n",
            "enter number : 0\n",
            "Sum of all the entered numbers : 32. \n",
            "Numbers that are divisible by 3: 0\n"
          ]
        }
      ]
    },
    {
      "cell_type": "code",
      "source": [
        "print(-5%2)"
      ],
      "metadata": {
        "id": "DN9eNzBKqbWI",
        "outputId": "68a17cf1-6cc8-4916-d3a1-cb9c3b7a0ba5",
        "colab": {
          "base_uri": "https://localhost:8080/"
        }
      },
      "execution_count": null,
      "outputs": [
        {
          "output_type": "stream",
          "name": "stdout",
          "text": [
            "1\n"
          ]
        }
      ]
    }
  ]
}